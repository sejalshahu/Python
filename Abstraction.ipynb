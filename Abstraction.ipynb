{
 "cells": [
  {
   "cell_type": "markdown",
   "id": "2822dbe6",
   "metadata": {},
   "source": [
    "# Abstraction"
   ]
  },
  {
   "cell_type": "code",
   "execution_count": 1,
   "id": "b893d3e8",
   "metadata": {},
   "outputs": [
    {
     "name": "stdout",
     "output_type": "stream",
     "text": [
      "Studying python\n"
     ]
    }
   ],
   "source": [
    "class my_class:  #concetre class\n",
    "    def study(self):\n",
    "        print(\"Studying python\")\n",
    "        \n",
    "obj1=my_class()\n",
    "obj1.study()"
   ]
  },
  {
   "cell_type": "code",
   "execution_count": 3,
   "id": "4fac8eba",
   "metadata": {},
   "outputs": [
    {
     "ename": "TypeError",
     "evalue": "Can't instantiate abstract class my_class1 with abstract method mock",
     "output_type": "error",
     "traceback": [
      "\u001b[1;31m---------------------------------------------------------------------------\u001b[0m",
      "\u001b[1;31mTypeError\u001b[0m                                 Traceback (most recent call last)",
      "Cell \u001b[1;32mIn[3], line 8\u001b[0m\n\u001b[0;32m      5\u001b[0m     \u001b[38;5;129m@abstractclassmethod\u001b[39m\n\u001b[0;32m      6\u001b[0m     \u001b[38;5;28;01mdef\u001b[39;00m \u001b[38;5;21mmock\u001b[39m(\u001b[38;5;28mself\u001b[39m):\n\u001b[0;32m      7\u001b[0m         \u001b[38;5;28;01mpass\u001b[39;00m\n\u001b[1;32m----> 8\u001b[0m obj\u001b[38;5;241m=\u001b[39mmy_class1()\n",
      "\u001b[1;31mTypeError\u001b[0m: Can't instantiate abstract class my_class1 with abstract method mock"
     ]
    }
   ],
   "source": [
    "from abc import ABC,abstractclassmethod\n",
    "class my_class1(ABC):\n",
    "    def study(self):\n",
    "        print(\"studying pyhon\")\n",
    "        \n",
    "    @abstractclassmethod\n",
    "    def mock(self):\n",
    "        pass\n",
    "obj=my_class1()  "
   ]
  },
  {
   "cell_type": "code",
   "execution_count": 4,
   "id": "36ca071f",
   "metadata": {},
   "outputs": [
    {
     "name": "stdout",
     "output_type": "stream",
     "text": [
      "doing mock to become DS\n",
      "enjyoing the weekend to fullest\n"
     ]
    }
   ],
   "source": [
    "class my_class1(ABC):\n",
    "    def study(self):\n",
    "        pass\n",
    "    @abstractclassmethod\n",
    "    def mock(self):\n",
    "        pass\n",
    "class student(my_class1):\n",
    "    def miss_mock(self):\n",
    "        print(\"enjyoing the weekend to fullest\")\n",
    "    def mock(self):\n",
    "        print(\"doing mock to become DS\")\n",
    "    def study(self):\n",
    "        pass\n",
    "s1=student()\n",
    "s1.mock()\n",
    "s1.miss_mock()\n",
    "s1.study()"
   ]
  },
  {
   "cell_type": "code",
   "execution_count": 6,
   "id": "90c6db25",
   "metadata": {},
   "outputs": [
    {
     "name": "stdout",
     "output_type": "stream",
     "text": [
      "hissssing sonund\n"
     ]
    }
   ],
   "source": [
    "class animal(ABC):\n",
    "    def sleep(self):\n",
    "        print(\"i am going to sleep\")\n",
    "    @abstractclassmethod\n",
    "    def sound(self):\n",
    "        pass\n",
    "class snake(animal):\n",
    "    def sound(self):\n",
    "        print(\"hissssing sonund\")\n",
    "s=snake()\n",
    "s.sound()"
   ]
  },
  {
   "cell_type": "code",
   "execution_count": null,
   "id": "f7a3ef01",
   "metadata": {},
   "outputs": [],
   "source": []
  }
 ],
 "metadata": {
  "kernelspec": {
   "display_name": "Python 3 (ipykernel)",
   "language": "python",
   "name": "python3"
  },
  "language_info": {
   "codemirror_mode": {
    "name": "ipython",
    "version": 3
   },
   "file_extension": ".py",
   "mimetype": "text/x-python",
   "name": "python",
   "nbconvert_exporter": "python",
   "pygments_lexer": "ipython3",
   "version": "3.11.4"
  }
 },
 "nbformat": 4,
 "nbformat_minor": 5
}
