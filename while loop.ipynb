{
 "cells": [
  {
   "cell_type": "markdown",
   "id": "76110992",
   "metadata": {},
   "source": [
    "## Print numbers from 1 to 10 using while loop."
   ]
  },
  {
   "cell_type": "code",
   "execution_count": 4,
   "id": "d3ee3ab8",
   "metadata": {},
   "outputs": [
    {
     "name": "stdout",
     "output_type": "stream",
     "text": [
      "1\n",
      "2\n",
      "3\n",
      "4\n",
      "5\n",
      "6\n",
      "7\n",
      "8\n",
      "9\n",
      "10\n"
     ]
    }
   ],
   "source": [
    "i=1\n",
    "while i<11:\n",
    "    print(i)\n",
    "    i=i+1"
   ]
  },
  {
   "cell_type": "markdown",
   "id": "260a6b6a",
   "metadata": {},
   "source": [
    "## print sum all bills enter by user"
   ]
  },
  {
   "cell_type": "code",
   "execution_count": 6,
   "id": "f562dc60",
   "metadata": {},
   "outputs": [
    {
     "name": "stdout",
     "output_type": "stream",
     "text": [
      "Enter amount of bill:5000\n",
      "enter the bill:3000\n",
      "enter the bill:700\n",
      "enter the bill:456\n",
      "enter the bill:0\n",
      "sum is 9156\n"
     ]
    }
   ],
   "source": [
    "bill=int(input(\"Enter amount of bill:\"))\n",
    "add=bill\n",
    "while  bill!=0:\n",
    "    bill=int(input(\"enter the bill:\"))\n",
    "    add=add+bill\n",
    "print(\"sum is\",add)        "
   ]
  },
  {
   "cell_type": "markdown",
   "id": "5f61f0ff",
   "metadata": {},
   "source": [
    "## Vote"
   ]
  },
  {
   "cell_type": "code",
   "execution_count": 9,
   "id": "c7c76fd2",
   "metadata": {},
   "outputs": [
    {
     "name": "stdout",
     "output_type": "stream",
     "text": [
      "enter vote: A\n",
      "enter vote: A\n",
      "enter vote: A\n",
      "enter vote: A\n",
      "enter vote: \n",
      "enter vote: M\n",
      "enter vote: M\n",
      "enter vote: M\n",
      "enter vote: M\n",
      "enter vote: M\n",
      "enter vote: M\n",
      "enter vote: M\n",
      "enter vote: A\n",
      "enter vote: A\n",
      "enter vote: A\n",
      "enter vote: A\n",
      "enter vote: M\n",
      "enter vote: M\n",
      "enter vote: M\n",
      "enter vote: A\n",
      "enter vote: A\n",
      "enter vote: quit\n",
      "Alex: 10\n",
      "Manu: 10\n"
     ]
    }
   ],
   "source": [
    "vote=\"M\"\n",
    "\n",
    "mcount=0\n",
    "acount=0\n",
    "while vote!=\"quit\":\n",
    "    vote = str(input(\"enter vote: \"))\n",
    "    if vote==\"M\":\n",
    "        mcount=mcount+1\n",
    "    elif vote==\"A\":\n",
    "            acount=acount+1\n",
    "print(\"Alex:\",acount)\n",
    "print(\"Manu:\",mcount)"
   ]
  },
  {
   "cell_type": "markdown",
   "id": "3efb24b8",
   "metadata": {},
   "source": [
    "## while lop in continue & break:"
   ]
  },
  {
   "cell_type": "code",
   "execution_count": 12,
   "id": "7cdcb7cc",
   "metadata": {},
   "outputs": [
    {
     "name": "stdout",
     "output_type": "stream",
     "text": [
      "enter distance: 34\n",
      "enter time: 12\n",
      "speed is: 2.8333333333333335\n",
      "Do you want to continue?y\n",
      "enter distance: 89\n",
      "enter time: 3\n",
      "speed is: 29.666666666666668\n",
      "Do you want to continue?n\n"
     ]
    }
   ],
   "source": [
    "ch=\"y\"\n",
    "while ch!=\"n\":\n",
    "    dist=int(input(\"enter distance: \"))\n",
    "    if dist<0:\n",
    "        print(\"Invalid Distance\")\n",
    "        continue\n",
    "    time=int(input(\"enter time: \"))\n",
    "    speed=dist/time\n",
    "    print(\"speed is:\",speed)\n",
    "    ch=str(input(\"Do you want to continue?\"))"
   ]
  },
  {
   "cell_type": "code",
   "execution_count": 14,
   "id": "97745907",
   "metadata": {},
   "outputs": [
    {
     "name": "stdout",
     "output_type": "stream",
     "text": [
      "enter distance:22\n",
      "enter time:\n",
      "4\n",
      "speed is:  5.5\n",
      "Do you want to continuey\n",
      "enter distance:87\n",
      "enter time:\n",
      "9\n",
      "speed is:  9.666666666666666\n",
      "Do you want to continuen\n"
     ]
    }
   ],
   "source": [
    "ch=\"y\"\n",
    "while ch!=\"n\":\n",
    "    dist=int(input(\"enter distance:\"))\n",
    "    if dist<0:\n",
    "        print(\"Invalid Distance\")\n",
    "        break\n",
    "    print(\"enter time:\")\n",
    "    time=int(input())\n",
    "    speed=dist/time\n",
    "    print(\"speed is: \",speed)\n",
    "    ch=input(\"Do you want to continue\")\n",
    "    "
   ]
  },
  {
   "cell_type": "code",
   "execution_count": null,
   "id": "a28bfd3c",
   "metadata": {},
   "outputs": [],
   "source": []
  }
 ],
 "metadata": {
  "kernelspec": {
   "display_name": "Python 3 (ipykernel)",
   "language": "python",
   "name": "python3"
  },
  "language_info": {
   "codemirror_mode": {
    "name": "ipython",
    "version": 3
   },
   "file_extension": ".py",
   "mimetype": "text/x-python",
   "name": "python",
   "nbconvert_exporter": "python",
   "pygments_lexer": "ipython3",
   "version": "3.11.4"
  }
 },
 "nbformat": 4,
 "nbformat_minor": 5
}
