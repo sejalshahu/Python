{
 "cells": [
  {
   "cell_type": "code",
   "execution_count": 16,
   "id": "a54c79e0",
   "metadata": {},
   "outputs": [],
   "source": [
    "def area(l,w):\n",
    "    area=l*w\n",
    "    print(area)\n"
   ]
  },
  {
   "cell_type": "code",
   "execution_count": 17,
   "id": "4c3ae7b5",
   "metadata": {},
   "outputs": [
    {
     "name": "stdout",
     "output_type": "stream",
     "text": [
      "68\n"
     ]
    }
   ],
   "source": [
    "area(34,2)"
   ]
  },
  {
   "cell_type": "code",
   "execution_count": 13,
   "id": "4b992d63",
   "metadata": {},
   "outputs": [],
   "source": [
    "def peri(l,w):\n",
    "    perimeter=(l+w)*2\n",
    "    print(perimeter)"
   ]
  },
  {
   "cell_type": "code",
   "execution_count": 15,
   "id": "ddd60540",
   "metadata": {},
   "outputs": [
    {
     "name": "stdout",
     "output_type": "stream",
     "text": [
      "12\n"
     ]
    }
   ],
   "source": [
    "peri(2,4)"
   ]
  },
  {
   "cell_type": "code",
   "execution_count": 20,
   "id": "09828169",
   "metadata": {},
   "outputs": [],
   "source": [
    "def even(n):\n",
    "    if n%2==0:\n",
    "        return \"Even\"\n",
    "    else:\n",
    "        return \"Odd\"\n",
    "    "
   ]
  },
  {
   "cell_type": "code",
   "execution_count": 21,
   "id": "f9ba3704",
   "metadata": {},
   "outputs": [
    {
     "data": {
      "text/plain": [
       "'Odd'"
      ]
     },
     "execution_count": 21,
     "metadata": {},
     "output_type": "execute_result"
    }
   ],
   "source": [
    "even(23)"
   ]
  },
  {
   "cell_type": "code",
   "execution_count": 22,
   "id": "8952d914",
   "metadata": {},
   "outputs": [],
   "source": [
    "def rev(n):\n",
    "    print(n[::-1])"
   ]
  },
  {
   "cell_type": "code",
   "execution_count": 25,
   "id": "9352dddc",
   "metadata": {},
   "outputs": [
    {
     "name": "stdout",
     "output_type": "stream",
     "text": [
      "repoleved nohtyp\n"
     ]
    }
   ],
   "source": [
    "rev(\"python developer\")"
   ]
  },
  {
   "cell_type": "code",
   "execution_count": 26,
   "id": "658bf56c",
   "metadata": {},
   "outputs": [],
   "source": [
    "def maxm(n):\n",
    "    maxm=n[0]\n",
    "    for num in n:\n",
    "        if n>maxm:\n",
    "            maxm=n\n",
    "    print(maxm)       "
   ]
  },
  {
   "cell_type": "code",
   "execution_count": 27,
   "id": "2bf18775",
   "metadata": {},
   "outputs": [
    {
     "data": {
      "text/plain": [
       "42"
      ]
     },
     "execution_count": 27,
     "metadata": {},
     "output_type": "execute_result"
    }
   ],
   "source": [
    "max([23,42,12,33,21,34,21])"
   ]
  },
  {
   "cell_type": "code",
   "execution_count": null,
   "id": "795c470e",
   "metadata": {},
   "outputs": [],
   "source": []
  }
 ],
 "metadata": {
  "kernelspec": {
   "display_name": "Python 3 (ipykernel)",
   "language": "python",
   "name": "python3"
  },
  "language_info": {
   "codemirror_mode": {
    "name": "ipython",
    "version": 3
   },
   "file_extension": ".py",
   "mimetype": "text/x-python",
   "name": "python",
   "nbconvert_exporter": "python",
   "pygments_lexer": "ipython3",
   "version": "3.11.4"
  }
 },
 "nbformat": 4,
 "nbformat_minor": 5
}
