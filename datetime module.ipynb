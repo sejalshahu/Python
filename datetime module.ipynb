{
 "cells": [
  {
   "cell_type": "markdown",
   "id": "7ccf4d99",
   "metadata": {},
   "source": [
    "# Print current datetime"
   ]
  },
  {
   "cell_type": "code",
   "execution_count": 1,
   "id": "ed4abbc4",
   "metadata": {},
   "outputs": [
    {
     "name": "stdout",
     "output_type": "stream",
     "text": [
      "2023-10-04 12:43:17.350015\n"
     ]
    }
   ],
   "source": [
    "import datetime \n",
    "current_date_time=datetime.datetime.now()\n",
    "print(current_date_time)"
   ]
  },
  {
   "cell_type": "code",
   "execution_count": 3,
   "id": "4c7b0026",
   "metadata": {},
   "outputs": [
    {
     "name": "stdout",
     "output_type": "stream",
     "text": [
      "2023-10-04 12:44:18.659704\n"
     ]
    }
   ],
   "source": [
    "import datetime as st\n",
    "current_date_time=st.datetime.now()\n",
    "print(current_date_time)"
   ]
  },
  {
   "cell_type": "code",
   "execution_count": 6,
   "id": "d8fd5f13",
   "metadata": {},
   "outputs": [
    {
     "data": {
      "text/plain": [
       "'04/10/2023 12/44/18'"
      ]
     },
     "execution_count": 6,
     "metadata": {},
     "output_type": "execute_result"
    }
   ],
   "source": [
    "import datetime\n",
    "current_date_time.strftime(\"%d/%m/%Y %H/%M/%S\")"
   ]
  },
  {
   "cell_type": "code",
   "execution_count": 7,
   "id": "3ec34d71",
   "metadata": {},
   "outputs": [
    {
     "data": {
      "text/plain": [
       "'04:10:23 12:44:18'"
      ]
     },
     "execution_count": 7,
     "metadata": {},
     "output_type": "execute_result"
    }
   ],
   "source": [
    "import datetime\n",
    "current_date_time.strftime(\"%d:%m:%y %H:%M:%S\")"
   ]
  },
  {
   "cell_type": "markdown",
   "id": "d47ba585",
   "metadata": {},
   "source": [
    "# To check version of python"
   ]
  },
  {
   "cell_type": "code",
   "execution_count": 8,
   "id": "77030b18",
   "metadata": {},
   "outputs": [
    {
     "name": "stdout",
     "output_type": "stream",
     "text": [
      "python version is this: 3.11.4 | packaged by Anaconda, Inc. | (main, Jul  5 2023, 13:38:37) [MSC v.1916 64 bit (AMD64)]\n"
     ]
    }
   ],
   "source": [
    "import sys\n",
    "print(\"python version is this:\",sys.version)\n"
   ]
  },
  {
   "cell_type": "code",
   "execution_count": 9,
   "id": "0dbd6188",
   "metadata": {},
   "outputs": [
    {
     "name": "stdout",
     "output_type": "stream",
     "text": [
      "Python 3.11.4\n"
     ]
    }
   ],
   "source": [
    "!python --version"
   ]
  },
  {
   "cell_type": "markdown",
   "id": "f65cb4e4",
   "metadata": {},
   "source": [
    "# Quadratic quation"
   ]
  },
  {
   "cell_type": "code",
   "execution_count": 2,
   "id": "dafa16ca",
   "metadata": {},
   "outputs": [
    {
     "name": "stdout",
     "output_type": "stream",
     "text": [
      "-2.0\n",
      "-2.0\n"
     ]
    }
   ],
   "source": [
    "#a*x**2+b*x+c=0\n",
    "a=1\n",
    "b=4\n",
    "c=4\n",
    "x1=((-b+(b**2-4*a*c)**0.5))/(2*a)\n",
    "x2=((-b-(b**2-4*a*c)**0.5))/(2*a)\n",
    "print(x1)\n",
    "print(x2)"
   ]
  },
  {
   "cell_type": "code",
   "execution_count": 38,
   "id": "f01bd009",
   "metadata": {},
   "outputs": [
    {
     "data": {
      "text/plain": [
       "0.0"
      ]
     },
     "execution_count": 38,
     "metadata": {},
     "output_type": "execute_result"
    }
   ],
   "source": [
    "1*x1**2+4*x1+4"
   ]
  },
  {
   "cell_type": "code",
   "execution_count": 1,
   "id": "aacee074",
   "metadata": {},
   "outputs": [
    {
     "name": "stdout",
     "output_type": "stream",
     "text": [
      "(-0.2222222222222222-0.8534606386520676j)\n",
      "(-0.2222222222222222+0.8534606386520676j)\n"
     ]
    }
   ],
   "source": [
    "import cmath\n",
    "a=9\n",
    "b=4\n",
    "c=7\n",
    "d=(b**2)-(4*a*c)\n",
    "x1=(-b-cmath.sqrt(d))/(2*a)\n",
    "x2=(-b+cmath.sqrt(d))/(2*a)\n",
    "print(x1)\n",
    "print(x2)\n"
   ]
  },
  {
   "cell_type": "code",
   "execution_count": 45,
   "id": "c1af84d7",
   "metadata": {},
   "outputs": [
    {
     "data": {
      "text/plain": [
       "0j"
      ]
     },
     "execution_count": 45,
     "metadata": {},
     "output_type": "execute_result"
    }
   ],
   "source": [
    "9*x1**2+4*x1+7"
   ]
  }
 ],
 "metadata": {
  "kernelspec": {
   "display_name": "Python 3 (ipykernel)",
   "language": "python",
   "name": "python3"
  },
  "language_info": {
   "codemirror_mode": {
    "name": "ipython",
    "version": 3
   },
   "file_extension": ".py",
   "mimetype": "text/x-python",
   "name": "python",
   "nbconvert_exporter": "python",
   "pygments_lexer": "ipython3",
   "version": "3.11.5"
  }
 },
 "nbformat": 4,
 "nbformat_minor": 5
}
