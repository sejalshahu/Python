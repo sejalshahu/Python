{
 "cells": [
  {
   "cell_type": "markdown",
   "id": "0b01db0b",
   "metadata": {},
   "source": [
    "# + Operator"
   ]
  },
  {
   "cell_type": "code",
   "execution_count": 2,
   "id": "827fb3b8",
   "metadata": {},
   "outputs": [
    {
     "data": {
      "text/plain": [
       "'sejal'"
      ]
     },
     "execution_count": 2,
     "metadata": {},
     "output_type": "execute_result"
    }
   ],
   "source": [
    "a=\"se\"\n",
    "b=\"ja\"\n",
    "c=\"l\"\n",
    "d=a+b+c\n",
    "d"
   ]
  },
  {
   "cell_type": "markdown",
   "id": "67f2850f",
   "metadata": {},
   "source": [
    "# * Operator"
   ]
  },
  {
   "cell_type": "code",
   "execution_count": 4,
   "id": "c49f0c94",
   "metadata": {},
   "outputs": [
    {
     "data": {
      "text/plain": [
       "'sejal sejal sejal sejal '"
      ]
     },
     "execution_count": 4,
     "metadata": {},
     "output_type": "execute_result"
    }
   ],
   "source": [
    "a=\"sejal \"\n",
    "a*4"
   ]
  },
  {
   "cell_type": "markdown",
   "id": "34aac8ea",
   "metadata": {},
   "source": [
    "# in operator"
   ]
  },
  {
   "cell_type": "code",
   "execution_count": 5,
   "id": "23113255",
   "metadata": {},
   "outputs": [
    {
     "data": {
      "text/plain": [
       "True"
      ]
     },
     "execution_count": 5,
     "metadata": {},
     "output_type": "execute_result"
    }
   ],
   "source": [
    "s=\"foo\"\n",
    "s in \"that\\s food for thought\""
   ]
  },
  {
   "cell_type": "code",
   "execution_count": 6,
   "id": "58d6cb92",
   "metadata": {},
   "outputs": [
    {
     "data": {
      "text/plain": [
       "False"
      ]
     },
     "execution_count": 6,
     "metadata": {},
     "output_type": "execute_result"
    }
   ],
   "source": [
    "s=\"foo\"\n",
    "s in \"that\\s good for now\"\n"
   ]
  },
  {
   "cell_type": "markdown",
   "id": "2b8a8a8a",
   "metadata": {},
   "source": [
    "# ord() function"
   ]
  },
  {
   "cell_type": "code",
   "execution_count": 7,
   "id": "dc1fb76e",
   "metadata": {},
   "outputs": [
    {
     "data": {
      "text/plain": [
       "97"
      ]
     },
     "execution_count": 7,
     "metadata": {},
     "output_type": "execute_result"
    }
   ],
   "source": [
    "ord('a')"
   ]
  },
  {
   "cell_type": "code",
   "execution_count": 8,
   "id": "f41c28b3",
   "metadata": {},
   "outputs": [
    {
     "data": {
      "text/plain": [
       "115"
      ]
     },
     "execution_count": 8,
     "metadata": {},
     "output_type": "execute_result"
    }
   ],
   "source": [
    "ord('s')"
   ]
  },
  {
   "cell_type": "code",
   "execution_count": 11,
   "id": "f2bedf67",
   "metadata": {},
   "outputs": [
    {
     "data": {
      "text/plain": [
       "106"
      ]
     },
     "execution_count": 11,
     "metadata": {},
     "output_type": "execute_result"
    }
   ],
   "source": [
    "ord('j')"
   ]
  },
  {
   "cell_type": "markdown",
   "id": "22dbe0d0",
   "metadata": {},
   "source": [
    "# chr() function"
   ]
  },
  {
   "cell_type": "code",
   "execution_count": 18,
   "id": "98dc80fc",
   "metadata": {},
   "outputs": [
    {
     "data": {
      "text/plain": [
       "'l'"
      ]
     },
     "execution_count": 18,
     "metadata": {},
     "output_type": "execute_result"
    }
   ],
   "source": [
    "chr(108)"
   ]
  },
  {
   "cell_type": "code",
   "execution_count": 19,
   "id": "28b6894b",
   "metadata": {},
   "outputs": [
    {
     "data": {
      "text/plain": [
       "'h'"
      ]
     },
     "execution_count": 19,
     "metadata": {},
     "output_type": "execute_result"
    }
   ],
   "source": [
    "chr(104)"
   ]
  },
  {
   "cell_type": "code",
   "execution_count": 20,
   "id": "19efa031",
   "metadata": {},
   "outputs": [
    {
     "data": {
      "text/plain": [
       "'\\x12'"
      ]
     },
     "execution_count": 20,
     "metadata": {},
     "output_type": "execute_result"
    }
   ],
   "source": [
    "chr(18)"
   ]
  },
  {
   "cell_type": "markdown",
   "id": "e29a2fb3",
   "metadata": {},
   "source": [
    "# len() function"
   ]
  },
  {
   "cell_type": "code",
   "execution_count": 21,
   "id": "f25ce88e",
   "metadata": {},
   "outputs": [
    {
     "data": {
      "text/plain": [
       "12"
      ]
     },
     "execution_count": 21,
     "metadata": {},
     "output_type": "execute_result"
    }
   ],
   "source": [
    "a=\"hello python\"\n",
    "len(a)"
   ]
  },
  {
   "cell_type": "code",
   "execution_count": 23,
   "id": "8fcdce98",
   "metadata": {},
   "outputs": [
    {
     "data": {
      "text/plain": [
       "11"
      ]
     },
     "execution_count": 23,
     "metadata": {},
     "output_type": "execute_result"
    }
   ],
   "source": [
    "b=\"sejal shahu\"\n",
    "len(b)"
   ]
  },
  {
   "cell_type": "markdown",
   "id": "2338fd30",
   "metadata": {},
   "source": [
    "# Exercise Question"
   ]
  },
  {
   "cell_type": "code",
   "execution_count": 26,
   "id": "36e4d5b0",
   "metadata": {},
   "outputs": [
    {
     "name": "stdout",
     "output_type": "stream",
     "text": [
      "You Have Have Done Good job\n"
     ]
    }
   ],
   "source": [
    "s1=\"You\"\n",
    "s2=\"Have\"\n",
    "s3=\"Done\"\n",
    "s4=\"Good job\"\n",
    "s5=s1+\" \"+s2+\" \"+s2+\" \"+s3+\" \"+s4\n",
    "print(s5)"
   ]
  },
  {
   "cell_type": "markdown",
   "id": "f463b2a4",
   "metadata": {},
   "source": [
    "# Upper() , Lower() , Capitalize() , Title() , Replace() , Count()"
   ]
  },
  {
   "cell_type": "code",
   "execution_count": 4,
   "id": "46338849",
   "metadata": {},
   "outputs": [
    {
     "name": "stdout",
     "output_type": "stream",
     "text": [
      "Printing the string: We are here to learn python from IPCS\n",
      "printing in uppercase: WE ARE HERE TO LEARN PYTHON FROM IPCS\n",
      "printing in lowercase: we are here to learn python from ipcs\n",
      "Only first letter in capital: We are here to learn python from ipcs\n",
      "convert first letter of each word into capital: We Are Here To Learn Python From Ipcs\n",
      "replacing python to string:\n",
      "We are here to learn python devloper from IPCS\n"
     ]
    }
   ],
   "source": [
    "s=\"We are here to learn python from IPCS\"\n",
    "\n",
    "print(\"Printing the string:\",s)\n",
    "\n",
    "print(\"printing in uppercase:\",s.upper())\n",
    "\n",
    "print(\"printing in lowercase:\",s.lower())\n",
    "\n",
    "print(\"Only first letter in capital:\",s.capitalize())\n",
    "\n",
    "print(\"convert first letter of each word into capital:\",s.title())\n",
    "print(\"replacing python to string:\")\n",
    "print(s.replace('python','python devloper'))\n"
   ]
  },
  {
   "cell_type": "code",
   "execution_count": 5,
   "id": "cca792c3",
   "metadata": {},
   "outputs": [
    {
     "name": "stdout",
     "output_type": "stream",
     "text": [
      "printing the string:\n",
      "we are here to learn python from ipcs\n",
      "replacing python to string:\n",
      "we are here to learn python devloper from ipcs\n",
      "counting the characters:\n",
      "5\n"
     ]
    }
   ],
   "source": [
    "s=\"we are here to learn python from ipcs\"\n",
    "print(\"printing the string:\")\n",
    "print(s)\n",
    "\n",
    "print(\"replacing python to string:\")\n",
    "print(s.replace('python','python devloper'))\n",
    "\n",
    "print(\"counting the characters:\")\n",
    "print(s.count('e'))"
   ]
  },
  {
   "cell_type": "markdown",
   "id": "15a1e597",
   "metadata": {},
   "source": [
    "# endswith() and startswith()"
   ]
  },
  {
   "cell_type": "code",
   "execution_count": 55,
   "id": "d21ab8e2",
   "metadata": {},
   "outputs": [
    {
     "name": "stdout",
     "output_type": "stream",
     "text": [
      "Printing the string: We are here to learn Python from IPCS\n",
      "ending with:\n",
      "True\n",
      "start with True\n"
     ]
    }
   ],
   "source": [
    "s=\"We are here to learn Python from IPCS\"\n",
    "print(\"Printing the string:\",s)\n",
    "print(\"ending with:\")\n",
    "print(s.endswith('S'))\n",
    "\n",
    "print(\"start with\",s.startswith('W'))\n"
   ]
  },
  {
   "cell_type": "code",
   "execution_count": 56,
   "id": "4efa7b96",
   "metadata": {},
   "outputs": [
    {
     "name": "stdout",
     "output_type": "stream",
     "text": [
      "Printing the string: We are here to learn Python from IPCS\n",
      "ending with:\n",
      "False\n",
      "start with True\n"
     ]
    }
   ],
   "source": [
    "s=\"We are here to learn Python from IPCS\"\n",
    "print(\"Printing the string:\",s)\n",
    "print(\"ending with:\")\n",
    "print(s.endswith('d'))\n",
    "\n",
    "print(\"start with\",s.startswith('W'))\n"
   ]
  },
  {
   "cell_type": "code",
   "execution_count": 57,
   "id": "ac8ab39f",
   "metadata": {},
   "outputs": [
    {
     "name": "stdout",
     "output_type": "stream",
     "text": [
      "Printing the string: We are here to learn Python from IPCS\n",
      "ending with:\n",
      "True\n",
      "start with False\n"
     ]
    }
   ],
   "source": [
    "s=\"We are here to learn Python from IPCS\"\n",
    "print(\"Printing the string:\",s)\n",
    "print(\"ending with:\")\n",
    "print(s.endswith('S'))\n",
    "\n",
    "print(\"start with\",s.startswith('s'))\n"
   ]
  },
  {
   "cell_type": "code",
   "execution_count": 58,
   "id": "3d9d646d",
   "metadata": {},
   "outputs": [
    {
     "name": "stdout",
     "output_type": "stream",
     "text": [
      "Printing the string: We are here to learn Python from IPCS\n",
      "ending with:\n",
      "False\n",
      "start with False\n"
     ]
    }
   ],
   "source": [
    "s=\"We are here to learn Python from IPCS\"\n",
    "print(\"Printing the string:\",s)\n",
    "print(\"ending with:\")\n",
    "print(s.endswith('r'))\n",
    "\n",
    "print(\"start with\",s.startswith('f'))\n"
   ]
  },
  {
   "cell_type": "markdown",
   "id": "c4947f78",
   "metadata": {},
   "source": [
    "# Question"
   ]
  },
  {
   "cell_type": "code",
   "execution_count": 63,
   "id": "49f075af",
   "metadata": {},
   "outputs": [
    {
     "name": "stdout",
     "output_type": "stream",
     "text": [
      "Printing the string: This is a class on python\n",
      "printing in uppercase: THIS IS A CLASS ON PYTHON\n",
      "printing in lowercase: this is a class on python\n",
      "Only first letter in capital: This is a class on python\n",
      "convert first letter of each word into capital: This Is A Class On Python\n",
      "replacing python to string:\n",
      "This is a class on string\n",
      "counting the characters:\n",
      "2\n",
      "ending with:\n",
      "True\n",
      "start with: True\n"
     ]
    }
   ],
   "source": [
    "s=\"This is a class on python\"\n",
    "\n",
    "print(\"Printing the string:\",s)\n",
    "\n",
    "print(\"printing in uppercase:\",s.upper())\n",
    "\n",
    "print(\"printing in lowercase:\",s.lower())\n",
    "\n",
    "print(\"Only first letter in capital:\",s.capitalize())\n",
    "\n",
    "print(\"convert first letter of each word into capital:\",s.title())\n",
    "\n",
    "print(\"replacing python to string:\")\n",
    "print(s.replace('python','string'))\n",
    "\n",
    "print(\"counting the characters:\")\n",
    "print(s.count('a'))\n",
    "\n",
    "print(\"ending with:\")\n",
    "print(s.endswith('n'))\n",
    "\n",
    "print(\"start with:\",s.startswith('T'))\n",
    "\n",
    "\n"
   ]
  },
  {
   "cell_type": "markdown",
   "id": "fc8524e5",
   "metadata": {},
   "source": [
    "# Boolean String Function"
   ]
  },
  {
   "cell_type": "code",
   "execution_count": 12,
   "id": "b9101526",
   "metadata": {},
   "outputs": [
    {
     "name": "stdout",
     "output_type": "stream",
     "text": [
      "checking is alphabets False\n",
      "cheching is alphabets and numbers\n",
      "True\n",
      "True\n",
      "True\n",
      "True\n",
      "True\n"
     ]
    }
   ],
   "source": [
    "s=\"We are here to learn Python from IPCS\"\n",
    "print(\"checking is alphabets\",s.isalpha())\n",
    "print(\"cheching is alphabets and numbers\")\n",
    "s1=\"Hello123\"\n",
    "print(s1.isalnum())\n",
    "s2=\"  \"\n",
    "print(s2.isspace())\n",
    "s3=\"265837\"\n",
    "print(s3.isdigit())\n",
    "s4=\"IPCS\"\n",
    "print(s4.isupper())\n",
    "s5=\"ipcs\"\n",
    "print(s5.islower())"
   ]
  },
  {
   "cell_type": "markdown",
   "id": "6e05bc78",
   "metadata": {},
   "source": [
    "# String Slicing"
   ]
  },
  {
   "cell_type": "code",
   "execution_count": 30,
   "id": "89ad775e",
   "metadata": {},
   "outputs": [
    {
     "name": "stdout",
     "output_type": "stream",
     "text": [
      "First character: W\n",
      "character from 0 to 9: We are her\n",
      "character from 10 to 19:  e to learn\n",
      "last Character: S\n",
      "printing the character from last character to -9: SCPI morf\n",
      "printing from -10 to -20:  nohtyP nra\n",
      "skiping 2 characters: ae\n",
      "skiping 2 characters from last:  otPn\n",
      "SCPI morf nohtyP nrael ot ereh era eW\n"
     ]
    }
   ],
   "source": [
    "s=\"We are here to learn Python from IPCS\"\n",
    "print(\"First character:\",s[0])\n",
    "\n",
    "print(\"character from 0 to 9:\",s[0:10])\n",
    "\n",
    "print(\"character from 10 to 19: \",s[10:20])\n",
    "\n",
    "print(\"last Character:\",s[-1])\n",
    "\n",
    "print(\"printing the character from last character to -9:\",s[-1:-10:-1])\n",
    "\n",
    "print(\"printing from -10 to -20:\",s[-10:-21:-1])\n",
    "\n",
    "print(\"skiping 2 characters:\",s[3:6:2])\n",
    "\n",
    "print(\"skiping 2 characters from last:\",s[-10:-20:-2])\n",
    "\n",
    "print(s[::-1])"
   ]
  },
  {
   "cell_type": "markdown",
   "id": "8f28af80",
   "metadata": {},
   "source": [
    "# fstring method"
   ]
  },
  {
   "cell_type": "code",
   "execution_count": 35,
   "id": "9b374820",
   "metadata": {},
   "outputs": [
    {
     "name": "stdout",
     "output_type": "stream",
     "text": [
      "A dog says Back!\n",
      "A dog says Back!\n",
      "A dog says Back!\n"
     ]
    }
   ],
   "source": [
    "var=\"Back\"\n",
    "print(f\"A dog says {var}!\")\n",
    "\n",
    "print(f'A dog says {var}!')\n",
    "\n",
    "print(f'''A dog says {var}!''')\n"
   ]
  },
  {
   "cell_type": "markdown",
   "id": "80f5c949",
   "metadata": {},
   "source": [
    "# Escape character"
   ]
  },
  {
   "cell_type": "code",
   "execution_count": 41,
   "id": "51ec1640",
   "metadata": {},
   "outputs": [
    {
     "name": "stdout",
     "output_type": "stream",
     "text": [
      "We are here to learn 'Python' from IPCS\n"
     ]
    }
   ],
   "source": [
    "text=\"We are here to learn \\'Python\\' from IPCS\"\n",
    "print(text)"
   ]
  },
  {
   "cell_type": "code",
   "execution_count": 42,
   "id": "c48bb785",
   "metadata": {},
   "outputs": [
    {
     "data": {
      "text/plain": [
       "'We are here to learn \"Python\" from IPCS'"
      ]
     },
     "execution_count": 42,
     "metadata": {},
     "output_type": "execute_result"
    }
   ],
   "source": [
    "text=\"We are here to learn \\\"Python\\\" from IPCS\"\n",
    "text"
   ]
  },
  {
   "cell_type": "code",
   "execution_count": 47,
   "id": "14f6e6b3",
   "metadata": {},
   "outputs": [
    {
     "name": "stdout",
     "output_type": "stream",
     "text": [
      "We are here to learn \tPython from IPCS\n"
     ]
    }
   ],
   "source": [
    "a=\"We are here to learn \\tPython from IPCS\"\n",
    "print(a)"
   ]
  },
  {
   "cell_type": "code",
   "execution_count": 49,
   "id": "97a6958a",
   "metadata": {},
   "outputs": [
    {
     "name": "stdout",
     "output_type": "stream",
     "text": [
      "We are here to learn \\Python\\ from IPCS\n"
     ]
    }
   ],
   "source": [
    "a=\"We are here to learn \\\\Python\\\\ from IPCS\"\n",
    "print(a)"
   ]
  },
  {
   "cell_type": "code",
   "execution_count": 51,
   "id": "d9a02323",
   "metadata": {},
   "outputs": [
    {
     "name": "stdout",
     "output_type": "stream",
     "text": [
      "We are here to learn \n",
      "Python from IPCS\n"
     ]
    }
   ],
   "source": [
    "a=\"We are here to learn \\nPython from IPCS\"\n",
    "print(a)"
   ]
  },
  {
   "cell_type": "code",
   "execution_count": 63,
   "id": "7d474c3a",
   "metadata": {},
   "outputs": [
    {
     "name": "stdout",
     "output_type": "stream",
     "text": [
      "We are here to \r",
      "learn python from IPCS\n"
     ]
    }
   ],
   "source": [
    "s=\"We are here to \\rlearn python from IPCS\"\n",
    "print(s)"
   ]
  },
  {
   "cell_type": "code",
   "execution_count": 68,
   "id": "bebff033",
   "metadata": {},
   "outputs": [
    {
     "name": "stdout",
     "output_type": "stream",
     "text": [
      "We are here to learnn\b python from IPCS\n"
     ]
    }
   ],
   "source": [
    "s=\"We are here to learnn\\b python from IPCS\"\n",
    "print(s)\n"
   ]
  },
  {
   "cell_type": "code",
   "execution_count": null,
   "id": "e983850d",
   "metadata": {},
   "outputs": [],
   "source": []
  }
 ],
 "metadata": {
  "kernelspec": {
   "display_name": "Python 3 (ipykernel)",
   "language": "python",
   "name": "python3"
  },
  "language_info": {
   "codemirror_mode": {
    "name": "ipython",
    "version": 3
   },
   "file_extension": ".py",
   "mimetype": "text/x-python",
   "name": "python",
   "nbconvert_exporter": "python",
   "pygments_lexer": "ipython3",
   "version": "3.11.4"
  }
 },
 "nbformat": 4,
 "nbformat_minor": 5
}
