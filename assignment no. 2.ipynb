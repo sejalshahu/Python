{
 "cells": [
  {
   "cell_type": "markdown",
   "id": "198214fe",
   "metadata": {},
   "source": [
    "### 1. Create a program that takes the base and height of a triangle as input and calculate its area. "
   ]
  },
  {
   "cell_type": "code",
   "execution_count": 3,
   "id": "f11fd36b",
   "metadata": {},
   "outputs": [
    {
     "name": "stdout",
     "output_type": "stream",
     "text": [
      "area of triangle: 39973.0\n"
     ]
    }
   ],
   "source": [
    "base=142\n",
    "height=563\n",
    "area_of_triangle=1/2*base*height\n",
    "print(\"area of triangle:\",area_of_triangle)"
   ]
  },
  {
   "cell_type": "markdown",
   "id": "ce498a8d",
   "metadata": {},
   "source": [
    "### 2.Write a program that takes a number as input and prints its square and cube."
   ]
  },
  {
   "cell_type": "code",
   "execution_count": 12,
   "id": "0d80c158",
   "metadata": {},
   "outputs": [
    {
     "name": "stdout",
     "output_type": "stream",
     "text": [
      "16\n",
      "64\n"
     ]
    }
   ],
   "source": [
    "a=4\n",
    "square=a**2\n",
    "print(square)\n",
    "cube=a*a*a\n",
    "print(cube)"
   ]
  },
  {
   "cell_type": "markdown",
   "id": "2b612a6c",
   "metadata": {},
   "source": [
    "### 3.Write a program that simulates a simple calculator.the program should take two numbers(user input) and an operator as input and perform the corresponding operation,displaying the result."
   ]
  },
  {
   "cell_type": "code",
   "execution_count": 5,
   "id": "e87420ee",
   "metadata": {},
   "outputs": [
    {
     "name": "stdout",
     "output_type": "stream",
     "text": [
      "enter 1st no:12\n",
      "enter 2nd no:11\n",
      "sum is: 23\n",
      "substraction is: 1\n",
      "multiplication is: 132\n",
      "division is: 1.0909090909090908\n"
     ]
    }
   ],
   "source": [
    "a=int(input(\"enter 1st no:\"))\n",
    "b=int(input(\"enter 2nd no:\"))\n",
    "c=a+b\n",
    "print(\"sum is:\",c)\n",
    "c=a-b\n",
    "print(\"substraction is:\",c)\n",
    "c=a*b\n",
    "print(\"multiplication is:\",c)\n",
    "c=a/b\n",
    "print(\"division is:\",c)"
   ]
  },
  {
   "cell_type": "markdown",
   "id": "c9365ec7",
   "metadata": {},
   "source": [
    "### 5.How can you convert an integer to a float and vice versa.\n"
   ]
  },
  {
   "cell_type": "code",
   "execution_count": 14,
   "id": "e10d6ba1",
   "metadata": {},
   "outputs": [
    {
     "name": "stdout",
     "output_type": "stream",
     "text": [
      "23.0\n"
     ]
    }
   ],
   "source": [
    "a=23\n",
    "b=float(a)\n",
    "print(b)"
   ]
  },
  {
   "cell_type": "code",
   "execution_count": 15,
   "id": "8a3bb2e2",
   "metadata": {},
   "outputs": [
    {
     "name": "stdout",
     "output_type": "stream",
     "text": [
      "34\n"
     ]
    }
   ],
   "source": [
    "x=34.67\n",
    "y=int(x)\n",
    "print(y)"
   ]
  },
  {
   "cell_type": "markdown",
   "id": "7709f77a",
   "metadata": {},
   "source": [
    "### 6.Create a program tha takes a string and an integer as input.use the * operator to repeat the string the specifid number of  times and print the result."
   ]
  },
  {
   "cell_type": "code",
   "execution_count": 17,
   "id": "f5a0a095",
   "metadata": {},
   "outputs": [
    {
     "data": {
      "text/plain": [
       "'python python python python '"
      ]
     },
     "execution_count": 17,
     "metadata": {},
     "output_type": "execute_result"
    }
   ],
   "source": [
    "a=\"python \"\n",
    "a*4"
   ]
  },
  {
   "cell_type": "code",
   "execution_count": 18,
   "id": "ed8089ad",
   "metadata": {},
   "outputs": [
    {
     "data": {
      "text/plain": [
       "615"
      ]
     },
     "execution_count": 18,
     "metadata": {},
     "output_type": "execute_result"
    }
   ],
   "source": [
    "b=123\n",
    "b*5"
   ]
  },
  {
   "cell_type": "markdown",
   "id": "34dee9b9",
   "metadata": {},
   "source": [
    "### 8. Write a program that takes a string as input and calculates its length using the len() function."
   ]
  },
  {
   "cell_type": "code",
   "execution_count": 19,
   "id": "ff1a00d1",
   "metadata": {},
   "outputs": [
    {
     "data": {
      "text/plain": [
       "37"
      ]
     },
     "execution_count": 19,
     "metadata": {},
     "output_type": "execute_result"
    }
   ],
   "source": [
    "s1=\"Patience is a key element of success.\"\n",
    "len(s1)"
   ]
  },
  {
   "cell_type": "markdown",
   "id": "e594b0e1",
   "metadata": {},
   "source": [
    "### 9.Create a program that takes a string and a character as input.use the in and not in operators to check if the character is present in the string and print the result."
   ]
  },
  {
   "cell_type": "code",
   "execution_count": 21,
   "id": "e6e7b88d",
   "metadata": {},
   "outputs": [
    {
     "data": {
      "text/plain": [
       "True"
      ]
     },
     "execution_count": 21,
     "metadata": {},
     "output_type": "execute_result"
    }
   ],
   "source": [
    "string1=\"with\"\n",
    "string1 in \"Bringing intelligence with technology\""
   ]
  },
  {
   "cell_type": "code",
   "execution_count": 23,
   "id": "d8b1c4bf",
   "metadata": {},
   "outputs": [
    {
     "data": {
      "text/plain": [
       "False"
      ]
     },
     "execution_count": 23,
     "metadata": {},
     "output_type": "execute_result"
    }
   ],
   "source": [
    "string_2=\"Bringing\"\n",
    "string_2 not in \"Bringing intelligence with technology\""
   ]
  },
  {
   "cell_type": "code",
   "execution_count": 27,
   "id": "4e483e93",
   "metadata": {},
   "outputs": [
    {
     "data": {
      "text/plain": [
       "False"
      ]
     },
     "execution_count": 27,
     "metadata": {},
     "output_type": "execute_result"
    }
   ],
   "source": [
    "chr_1=\"python\"\n",
    "chr_2=\"P\"\n",
    "chr_1 in chr_2"
   ]
  },
  {
   "cell_type": "code",
   "execution_count": null,
   "id": "f667ddd2",
   "metadata": {},
   "outputs": [],
   "source": []
  }
 ],
 "metadata": {
  "kernelspec": {
   "display_name": "Python 3 (ipykernel)",
   "language": "python",
   "name": "python3"
  },
  "language_info": {
   "codemirror_mode": {
    "name": "ipython",
    "version": 3
   },
   "file_extension": ".py",
   "mimetype": "text/x-python",
   "name": "python",
   "nbconvert_exporter": "python",
   "pygments_lexer": "ipython3",
   "version": "3.11.4"
  }
 },
 "nbformat": 4,
 "nbformat_minor": 5
}
