{
 "cells": [
  {
   "cell_type": "markdown",
   "id": "37778a99",
   "metadata": {},
   "source": [
    "# Encapsulation\n"
   ]
  },
  {
   "cell_type": "code",
   "execution_count": 1,
   "id": "b4bbd6d0",
   "metadata": {},
   "outputs": [
    {
     "name": "stdout",
     "output_type": "stream",
     "text": [
      "live free ride hard\n"
     ]
    },
    {
     "data": {
      "text/plain": [
       "'royal enfied'"
      ]
     },
     "execution_count": 1,
     "metadata": {},
     "output_type": "execute_result"
    }
   ],
   "source": [
    "\n",
    "#public member\n",
    "class bike:\n",
    "    name=\"royal enfied\" #public member\n",
    "    \n",
    "    def ride(self):\n",
    "        print(\"live free ride hard\")\n",
    "        \n",
    "obj=bike()\n",
    "obj.ride()\n",
    "obj.name"
   ]
  },
  {
   "cell_type": "code",
   "execution_count": 2,
   "id": "53e99212",
   "metadata": {},
   "outputs": [
    {
     "name": "stdout",
     "output_type": "stream",
     "text": [
      "calling protected member of base class 2\n"
     ]
    },
    {
     "data": {
      "text/plain": [
       "2"
      ]
     },
     "execution_count": 2,
     "metadata": {},
     "output_type": "execute_result"
    }
   ],
   "source": [
    "#protected member\n",
    "class base:\n",
    "    def __init__(self):\n",
    "        self._a=2\n",
    "class derived(base):\n",
    "    def protected(self):\n",
    "        print(\"calling protected member of base class\",self._a)\n",
    "obj=derived()\n",
    "obj.protected()\n",
    "obj._a"
   ]
  },
  {
   "cell_type": "code",
   "execution_count": 5,
   "id": "e2750985",
   "metadata": {},
   "outputs": [
    {
     "ename": "AttributeError",
     "evalue": "'derived' object has no attribute '_derived__a'",
     "output_type": "error",
     "traceback": [
      "\u001b[1;31m---------------------------------------------------------------------------\u001b[0m",
      "\u001b[1;31mAttributeError\u001b[0m                            Traceback (most recent call last)",
      "Cell \u001b[1;32mIn[5], line 11\u001b[0m\n\u001b[0;32m      9\u001b[0m         \u001b[38;5;28mprint\u001b[39m(\u001b[38;5;124m\"\u001b[39m\u001b[38;5;124mcalling protected member of base class\u001b[39m\u001b[38;5;124m\"\u001b[39m,\u001b[38;5;28mself\u001b[39m\u001b[38;5;241m.\u001b[39m__a)\n\u001b[0;32m     10\u001b[0m obj\u001b[38;5;241m=\u001b[39mderived()\n\u001b[1;32m---> 11\u001b[0m obj\u001b[38;5;241m.\u001b[39mprivate()\n",
      "Cell \u001b[1;32mIn[5], line 9\u001b[0m, in \u001b[0;36mderived.private\u001b[1;34m(self)\u001b[0m\n\u001b[0;32m      8\u001b[0m \u001b[38;5;28;01mdef\u001b[39;00m \u001b[38;5;21mprivate\u001b[39m(\u001b[38;5;28mself\u001b[39m):\n\u001b[1;32m----> 9\u001b[0m     \u001b[38;5;28mprint\u001b[39m(\u001b[38;5;124m\"\u001b[39m\u001b[38;5;124mcalling protected member of base class\u001b[39m\u001b[38;5;124m\"\u001b[39m,\u001b[38;5;28mself\u001b[39m\u001b[38;5;241m.\u001b[39m__a)\n",
      "\u001b[1;31mAttributeError\u001b[0m: 'derived' object has no attribute '_derived__a'"
     ]
    }
   ],
   "source": [
    "#private member\n",
    "class base:\n",
    "    a=5 \n",
    "    def __init__(self):\n",
    "        self.__a=2\n",
    "        \n",
    "class derived(base):\n",
    "    def private(self):\n",
    "        print(\"calling protected member of base class\",self.__a)\n",
    "obj=derived()\n",
    "obj.private()\n"
   ]
  },
  {
   "cell_type": "code",
   "execution_count": 6,
   "id": "a86c447d",
   "metadata": {},
   "outputs": [],
   "source": [
    "class bike:\n",
    "    name=\"royal\"                                  #public\n",
    "    def ride(self):\n",
    "        print(\"live free live hard\",self.name)\n",
    "    def a(self):\n",
    "        print(self.name)"
   ]
  },
  {
   "cell_type": "code",
   "execution_count": 7,
   "id": "0e9bb321",
   "metadata": {},
   "outputs": [
    {
     "name": "stdout",
     "output_type": "stream",
     "text": [
      "live free live hard royal\n",
      "royal\n"
     ]
    }
   ],
   "source": [
    "obj=bike()\n",
    "obj.ride()\n",
    "obj.a()"
   ]
  },
  {
   "cell_type": "code",
   "execution_count": 8,
   "id": "d1dd9d0b",
   "metadata": {},
   "outputs": [],
   "source": [
    "class bike:                           #protected\n",
    "    _name=\"royal\"\n",
    "    def ride(self):\n",
    "        print(\"live free live hard\",self._name)\n",
    "    def a(self):\n",
    "        print(self._name)\n",
    "class child(bike):\n",
    "    def B(self):\n",
    "        print(self._name)"
   ]
  },
  {
   "cell_type": "code",
   "execution_count": 10,
   "id": "da548666",
   "metadata": {},
   "outputs": [
    {
     "name": "stdout",
     "output_type": "stream",
     "text": [
      "royal\n",
      "live free live hard royal\n"
     ]
    }
   ],
   "source": [
    "obj=child()\n",
    "obj.B()\n",
    "obj.ride()"
   ]
  },
  {
   "cell_type": "code",
   "execution_count": 15,
   "id": "45da6735",
   "metadata": {},
   "outputs": [],
   "source": [
    "class bike:                         #private\n",
    "    __name=\"royal\"\n",
    "    def ride(self):\n",
    "        print(\"live free live hard\",self.__name)\n",
    "    def a(self):\n",
    "        print(self.__name)\n",
    "class child(bike):        \n",
    "    def b(self):\n",
    "        print(self.__name)"
   ]
  },
  {
   "cell_type": "code",
   "execution_count": 19,
   "id": "194c0f44",
   "metadata": {},
   "outputs": [
    {
     "ename": "AttributeError",
     "evalue": "'child' object has no attribute '_child__name'",
     "output_type": "error",
     "traceback": [
      "\u001b[1;31m---------------------------------------------------------------------------\u001b[0m",
      "\u001b[1;31mAttributeError\u001b[0m                            Traceback (most recent call last)",
      "Cell \u001b[1;32mIn[19], line 2\u001b[0m\n\u001b[0;32m      1\u001b[0m obj\u001b[38;5;241m=\u001b[39mchild()\n\u001b[1;32m----> 2\u001b[0m obj\u001b[38;5;241m.\u001b[39mb()\n",
      "Cell \u001b[1;32mIn[15], line 9\u001b[0m, in \u001b[0;36mchild.b\u001b[1;34m(self)\u001b[0m\n\u001b[0;32m      8\u001b[0m \u001b[38;5;28;01mdef\u001b[39;00m \u001b[38;5;21mb\u001b[39m(\u001b[38;5;28mself\u001b[39m):\n\u001b[1;32m----> 9\u001b[0m     \u001b[38;5;28mprint\u001b[39m(\u001b[38;5;28mself\u001b[39m\u001b[38;5;241m.\u001b[39m__name)\n",
      "\u001b[1;31mAttributeError\u001b[0m: 'child' object has no attribute '_child__name'"
     ]
    }
   ],
   "source": [
    "obj=child()\n",
    "obj.b()"
   ]
  },
  {
   "cell_type": "code",
   "execution_count": null,
   "id": "091bb2a5",
   "metadata": {},
   "outputs": [],
   "source": []
  }
 ],
 "metadata": {
  "kernelspec": {
   "display_name": "Python 3 (ipykernel)",
   "language": "python",
   "name": "python3"
  },
  "language_info": {
   "codemirror_mode": {
    "name": "ipython",
    "version": 3
   },
   "file_extension": ".py",
   "mimetype": "text/x-python",
   "name": "python",
   "nbconvert_exporter": "python",
   "pygments_lexer": "ipython3",
   "version": "3.11.4"
  }
 },
 "nbformat": 4,
 "nbformat_minor": 5
}
