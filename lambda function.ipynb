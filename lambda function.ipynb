{
 "cells": [
  {
   "cell_type": "code",
   "execution_count": 1,
   "id": "36d25c70",
   "metadata": {},
   "outputs": [
    {
     "data": {
      "text/plain": [
       "False"
      ]
     },
     "execution_count": 1,
     "metadata": {},
     "output_type": "execute_result"
    }
   ],
   "source": [
    "even=lambda a:a%2==0\n",
    "even(11)"
   ]
  },
  {
   "cell_type": "code",
   "execution_count": 2,
   "id": "f9cc6856",
   "metadata": {},
   "outputs": [
    {
     "name": "stdout",
     "output_type": "stream",
     "text": [
      "25\n"
     ]
    }
   ],
   "source": [
    "r =lambda a:a+15\n",
    "print(r(10))"
   ]
  },
  {
   "cell_type": "code",
   "execution_count": 4,
   "id": "b43e96e7",
   "metadata": {},
   "outputs": [
    {
     "name": "stdout",
     "output_type": "stream",
     "text": [
      "8\n"
     ]
    }
   ],
   "source": [
    "r=lambda x,y:x*y\n",
    "print(r(2,4))"
   ]
  },
  {
   "cell_type": "code",
   "execution_count": 5,
   "id": "d757b174",
   "metadata": {},
   "outputs": [],
   "source": [
    "def mult(n):\n",
    "    return lambda x:x*n\n"
   ]
  },
  {
   "cell_type": "code",
   "execution_count": 9,
   "id": "ebbc7bb5",
   "metadata": {},
   "outputs": [
    {
     "data": {
      "text/plain": [
       "16"
      ]
     },
     "execution_count": 9,
     "metadata": {},
     "output_type": "execute_result"
    }
   ],
   "source": [
    "doubler=mult(2)\n",
    "doubler(8)"
   ]
  },
  {
   "cell_type": "code",
   "execution_count": 11,
   "id": "a413fae7",
   "metadata": {},
   "outputs": [
    {
     "data": {
      "text/plain": [
       "24"
      ]
     },
     "execution_count": 11,
     "metadata": {},
     "output_type": "execute_result"
    }
   ],
   "source": [
    "tripler=mult(3)\n",
    "tripler(8)"
   ]
  }
 ],
 "metadata": {
  "kernelspec": {
   "display_name": "Python 3 (ipykernel)",
   "language": "python",
   "name": "python3"
  },
  "language_info": {
   "codemirror_mode": {
    "name": "ipython",
    "version": 3
   },
   "file_extension": ".py",
   "mimetype": "text/x-python",
   "name": "python",
   "nbconvert_exporter": "python",
   "pygments_lexer": "ipython3",
   "version": "3.11.5"
  }
 },
 "nbformat": 4,
 "nbformat_minor": 5
}
