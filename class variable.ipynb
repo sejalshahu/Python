{
 "cells": [
  {
   "cell_type": "code",
   "execution_count": 10,
   "id": "a195bb1e",
   "metadata": {},
   "outputs": [
    {
     "name": "stdout",
     "output_type": "stream",
     "text": [
      "The winner od ipl is: RBC\n",
      "name of cricket is: ms dhoni jersy_no is: 7\n",
      "and the team is: India\n"
     ]
    }
   ],
   "source": [
    "class cricket:\n",
    "    team=\"India\"  #static variable\n",
    "    \n",
    "    def __init__(self,name,jersy_no): #instance variable\n",
    "        self.name=name\n",
    "        self.jersy_no=jersy_no\n",
    "        \n",
    "    def IPL(self):\n",
    "        x=\"RBC\" #local variable\n",
    "        print(\"The winner od ipl is:\",x)\n",
    "        print(\"name of cricket is:\",self.name,\"jersy_no is:\",self.jersy_no)\n",
    "        print(\"and the team is:\",cricket.team)\n",
    "obj=cricket(\"ms dhoni\",7)\n",
    "obj.IPL()\n",
    "        "
   ]
  },
  {
   "cell_type": "code",
   "execution_count": null,
   "id": "d5951147",
   "metadata": {},
   "outputs": [],
   "source": []
  }
 ],
 "metadata": {
  "kernelspec": {
   "display_name": "Python 3 (ipykernel)",
   "language": "python",
   "name": "python3"
  },
  "language_info": {
   "codemirror_mode": {
    "name": "ipython",
    "version": 3
   },
   "file_extension": ".py",
   "mimetype": "text/x-python",
   "name": "python",
   "nbconvert_exporter": "python",
   "pygments_lexer": "ipython3",
   "version": "3.11.4"
  }
 },
 "nbformat": 4,
 "nbformat_minor": 5
}
