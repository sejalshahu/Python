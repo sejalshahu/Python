{
 "cells": [
  {
   "cell_type": "markdown",
   "id": "ece30db6",
   "metadata": {},
   "source": [
    "# Inheritance"
   ]
  },
  {
   "cell_type": "code",
   "execution_count": 5,
   "id": "15c62dc9",
   "metadata": {},
   "outputs": [
    {
     "name": "stdout",
     "output_type": "stream",
     "text": [
      "feature 1 is working\n",
      "feature 2 is working\n",
      "feature 3 is working\n",
      "feature 4 is working\n"
     ]
    }
   ],
   "source": [
    "#single inheritance\n",
    "\n",
    "class A:  #parent class\n",
    "    def feature1(self):\n",
    "        print(\"feature 1 is working\")\n",
    "        \n",
    "    def feature2(self):\n",
    "        print(\"feature 2 is working\")\n",
    "class B(A): #child class\n",
    "    def feature3(self):\n",
    "        print(\"feature 3 is working\")\n",
    "    def feature4(self):\n",
    "        print(\"feature 4 is working\")\n",
    "b=B()\n",
    "b.feature1()\n",
    "b.feature2()\n",
    "b.feature3()\n",
    "b.feature4()"
   ]
  },
  {
   "cell_type": "markdown",
   "id": "52ad3b1f",
   "metadata": {},
   "source": [
    "## Multiple inheritance"
   ]
  },
  {
   "cell_type": "code",
   "execution_count": 2,
   "id": "94c82ad3",
   "metadata": {},
   "outputs": [
    {
     "name": "stdout",
     "output_type": "stream",
     "text": [
      "feature 1 is working\n",
      "feature 2 is working\n",
      "feature 3 is working\n",
      "feature 4 is working\n",
      "feature 5 is working\n",
      "feature 6 is working\n"
     ]
    }
   ],
   "source": [
    "class A: #parent class\n",
    "    def feature1(self):\n",
    "        print(\"feature 1 is working\")\n",
    "        \n",
    "    def feature2(self):\n",
    "        print(\"feature 2 is working\")\n",
    "class B: #parent class 2\n",
    "    def feature3(self):\n",
    "        print(\"feature 3 is working\")\n",
    "    def feature4(self):\n",
    "        print(\"feature 4 is working\")\n",
    "class C(A,B):\n",
    "    def feature5(self):\n",
    "        print(\"feature 5 is working\")\n",
    "    def feature6(self):\n",
    "        print(\"feature 6 is working\")\n",
    "c=C()\n",
    "c.feature1()\n",
    "c.feature2()\n",
    "c.feature3()\n",
    "c.feature4()\n",
    "c.feature5()\n",
    "c.feature6()\n",
    "\n",
    "\n",
    "\n"
   ]
  },
  {
   "cell_type": "markdown",
   "id": "76081542",
   "metadata": {},
   "source": [
    "## Multilevel inheritance"
   ]
  },
  {
   "cell_type": "code",
   "execution_count": 5,
   "id": "12ef6c07",
   "metadata": {},
   "outputs": [
    {
     "name": "stdout",
     "output_type": "stream",
     "text": [
      "feature 1 is working\n",
      "feature 2 is working\n",
      "feature 3 is working\n",
      "feature 4 is working\n",
      "feature 5 is working\n",
      "feature 6 is working\n"
     ]
    }
   ],
   "source": [
    "class A:\n",
    "    def feature1(self):\n",
    "        print(\"feature 1 is working\")\n",
    "    def feature2(self):\n",
    "         print(\"feature 2 is working\")\n",
    "class B(A):\n",
    "    def feature3(self):\n",
    "         print(\"feature 3 is working\")\n",
    "    def feature4(Self):\n",
    "         print(\"feature 4 is working\")\n",
    "class C(B):\n",
    "    def feature5(Self):\n",
    "         print(\"feature 5 is working\")\n",
    "    def feature6(self):\n",
    "         print(\"feature 6 is working\")\n",
    "c=C()\n",
    "c.feature1()\n",
    "c.feature2()\n",
    "c.feature3()\n",
    "c.feature4()\n",
    "c.feature5()\n",
    "c.feature6()            \n",
    "            "
   ]
  },
  {
   "cell_type": "markdown",
   "id": "e8a677c3",
   "metadata": {},
   "source": [
    "## Hierarchical inheritance"
   ]
  },
  {
   "cell_type": "code",
   "execution_count": 6,
   "id": "627158ee",
   "metadata": {},
   "outputs": [
    {
     "name": "stdout",
     "output_type": "stream",
     "text": [
      "feature 1 is working\n",
      "feature 2 is working\n",
      "feature 3 is working\n",
      "feature 4 is working\n",
      "feature 1 is working\n",
      "feature 2 is working\n",
      "feature 5 is working\n",
      "feature 6 is working\n"
     ]
    }
   ],
   "source": [
    "class A:\n",
    "    def feature1(self):\n",
    "        print(\"feature 1 is working\")\n",
    "    def feature2(self):\n",
    "        print(\"feature 2 is working\")\n",
    "class B(A):\n",
    "    def feature3(self):\n",
    "        print(\"feature 3 is working\")\n",
    "    def feature4(self):\n",
    "        print(\"feature 4 is working\")\n",
    "class  C(A):\n",
    "    def feature5(self):\n",
    "        print(\"feature 5 is working\")\n",
    "    def feature6(self):\n",
    "        print(\"feature 6 is working\")\n",
    "b=B()\n",
    "b.feature1()\n",
    "b.feature2()\n",
    "b.feature3()\n",
    "b.feature4()\n",
    "c=C()\n",
    "c.feature1()\n",
    "c.feature2()\n",
    "c.feature5()\n",
    "c.feature6()\n",
    "\n",
    "\n"
   ]
  },
  {
   "cell_type": "markdown",
   "id": "18844a31",
   "metadata": {},
   "source": [
    "## Hybrid ineritance"
   ]
  },
  {
   "cell_type": "code",
   "execution_count": 7,
   "id": "96c1cc56",
   "metadata": {},
   "outputs": [
    {
     "name": "stdout",
     "output_type": "stream",
     "text": [
      "feature 2 is working\n",
      "feature 5 is working\n",
      "feature 2 is working\n"
     ]
    }
   ],
   "source": [
    "class A:\n",
    "    def feature1(self):\n",
    "        print(\"feature 1 is working\")\n",
    "    def feature2(self):\n",
    "        print(\"feature 2 is working\")\n",
    "class B(A):\n",
    "    def feature3(self):\n",
    "        print(\"feature 3 is working\")\n",
    "    def feature4(self):\n",
    "        print(\"feature 4 is working\")\n",
    "class  C(A):\n",
    "    def feature5(self):\n",
    "        print(\"feature 5 is working\")\n",
    "    def feature6(self):\n",
    "        print(\"feature 6 is working\")\n",
    "class D(B,C):\n",
    "    def feature7(self):\n",
    "        print(\"feature 7 is working\")\n",
    "    def feature8(self):\n",
    "        print(\"feature 8 is working\")\n",
    "b=B()\n",
    "b.feature2()\n",
    "c=C()\n",
    "c.feature5()\n",
    "d=D()\n",
    "d.feature1()\n",
    "d.feature2()\n",
    "d.feature3()\n",
    "d.feature4()\n",
    "d.feature5()\n",
    "d.feature6()            \n",
    "            "
   ]
  },
  {
   "cell_type": "code",
   "execution_count": null,
   "id": "d42dec64",
   "metadata": {},
   "outputs": [],
   "source": []
  },
  {
   "cell_type": "code",
   "execution_count": null,
   "id": "07730874",
   "metadata": {},
   "outputs": [],
   "source": []
  },
  {
   "cell_type": "code",
   "execution_count": null,
   "id": "01efbf83",
   "metadata": {},
   "outputs": [],
   "source": []
  }
 ],
 "metadata": {
  "kernelspec": {
   "display_name": "Python 3 (ipykernel)",
   "language": "python",
   "name": "python3"
  },
  "language_info": {
   "codemirror_mode": {
    "name": "ipython",
    "version": 3
   },
   "file_extension": ".py",
   "mimetype": "text/x-python",
   "name": "python",
   "nbconvert_exporter": "python",
   "pygments_lexer": "ipython3",
   "version": "3.11.4"
  }
 },
 "nbformat": 4,
 "nbformat_minor": 5
}
