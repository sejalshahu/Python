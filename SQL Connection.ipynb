{
 "cells": [
  {
   "cell_type": "markdown",
   "id": "05eef9ed",
   "metadata": {},
   "source": [
    "Executing SQL quaries using python\n",
    "we can use the sql alchemy library to connect to relational databases and execute sql queries.\n",
    "it also requires a connecting library for the underlying database e.g  MYSQL-python for MYSQL"
   ]
  },
  {
   "cell_type": "code",
   "execution_count": 2,
   "id": "0831fbb7",
   "metadata": {},
   "outputs": [
    {
     "name": "stdout",
     "output_type": "stream",
     "text": [
      "Requirement already satisfied: mysql-connector-python in c:\\users\\admin\\anaconda3\\lib\\site-packages (8.2.0)\n",
      "Requirement already satisfied: protobuf<=4.21.12,>=4.21.1 in c:\\users\\admin\\anaconda3\\lib\\site-packages (from mysql-connector-python) (4.21.12)\n",
      "Note: you may need to restart the kernel to use updated packages.\n"
     ]
    }
   ],
   "source": [
    "pip install mysql-connector-python"
   ]
  },
  {
   "cell_type": "code",
   "execution_count": 2,
   "id": "8bd64cf6",
   "metadata": {},
   "outputs": [],
   "source": [
    "import mysql.connector as connector\n",
    "from mysql.connector import Error\n",
    "import pandas as pd"
   ]
  },
  {
   "cell_type": "code",
   "execution_count": 3,
   "id": "defd1dcb",
   "metadata": {},
   "outputs": [],
   "source": [
    "connection=connector.connect(user=\"root\",password=\"ipcs\",host=\"127.0.0.1\",database=\"s1\")"
   ]
  },
  {
   "cell_type": "code",
   "execution_count": 5,
   "id": "0269bbdf",
   "metadata": {},
   "outputs": [],
   "source": [
    "cursor=connection.cursor()"
   ]
  },
  {
   "cell_type": "code",
   "execution_count": 6,
   "id": "98c48798",
   "metadata": {},
   "outputs": [],
   "source": [
    "connection.close()"
   ]
  },
  {
   "cell_type": "markdown",
   "id": "a879d97d",
   "metadata": {},
   "source": [
    "## SQL queries excuting from MySQL to python using mysql.connector"
   ]
  },
  {
   "cell_type": "code",
   "execution_count": 7,
   "id": "7d281bca",
   "metadata": {},
   "outputs": [],
   "source": [
    "import mysql.connector as connector\n",
    "from mysql.connector import connection"
   ]
  },
  {
   "cell_type": "code",
   "execution_count": 10,
   "id": "51d18278",
   "metadata": {},
   "outputs": [],
   "source": [
    "connection=connector.connect(user=\"root\",password=\"ipcs\",host=\"127.0.0.1\",database=\"s1\")"
   ]
  },
  {
   "cell_type": "code",
   "execution_count": 11,
   "id": "a2598754",
   "metadata": {},
   "outputs": [],
   "source": [
    "cursor1=connection.cursor(buffered=True)"
   ]
  },
  {
   "cell_type": "code",
   "execution_count": 13,
   "id": "b72d8091",
   "metadata": {},
   "outputs": [],
   "source": [
    "#creating new database\n",
    "drop=\"drop database if exists sejal1\"\n",
    "cursor1.execute(drop)\n",
    "new_database=\"create database sejal1\"\n",
    "cursor1.execute(new_database)\n"
   ]
  },
  {
   "cell_type": "code",
   "execution_count": 16,
   "id": "b26e7341",
   "metadata": {},
   "outputs": [],
   "source": [
    "#use database\n",
    "use_database=cursor1.execute(\"use sejal1\")\n",
    "cursor1.execute(use_database)"
   ]
  },
  {
   "cell_type": "code",
   "execution_count": 20,
   "id": "2bd46fee",
   "metadata": {},
   "outputs": [],
   "source": [
    "#creating table\n",
    "drop1=cursor1.execute(\"drop table if exists s1_data\")\n",
    "cursor1.execute(drop1)\n"
   ]
  },
  {
   "cell_type": "code",
   "execution_count": 25,
   "id": "5f385bee",
   "metadata": {},
   "outputs": [],
   "source": [
    "create=\"create table s1_data (name char(25),id int,course_name char(10),duration_month int)\"\n",
    "cursor1.execute(create)"
   ]
  },
  {
   "cell_type": "code",
   "execution_count": 33,
   "id": "3c7f35e5",
   "metadata": {},
   "outputs": [],
   "source": [
    "value=\"insert into s1_data values('sejal',1,'python',6)\"\n",
    "cursor1.execute(value)"
   ]
  },
  {
   "cell_type": "code",
   "execution_count": 34,
   "id": "927ebdfe",
   "metadata": {},
   "outputs": [],
   "source": [
    "value1=\"insert into s1_data values('harshada',2,'SQL',4)\"\n",
    "cursor1.execute(value1)"
   ]
  },
  {
   "cell_type": "code",
   "execution_count": 35,
   "id": "41f217a0",
   "metadata": {},
   "outputs": [],
   "source": [
    "value2=\"insert into s1_data values('ketki',3,'C and C++',12)\"\n",
    "cursor1.execute(value2)"
   ]
  },
  {
   "cell_type": "code",
   "execution_count": 36,
   "id": "4f31d2cc",
   "metadata": {},
   "outputs": [],
   "source": [
    "value3=\"insert into s1_data values('kajal',4,'CS',6)\"\n",
    "cursor1.execute(value3)"
   ]
  },
  {
   "cell_type": "code",
   "execution_count": 37,
   "id": "3c986a59",
   "metadata": {},
   "outputs": [],
   "source": [
    "connection.commit()\n"
   ]
  },
  {
   "cell_type": "code",
   "execution_count": 38,
   "id": "77eb0e1d",
   "metadata": {},
   "outputs": [],
   "source": [
    "connection.close()"
   ]
  },
  {
   "cell_type": "code",
   "execution_count": null,
   "id": "61fc93f1",
   "metadata": {},
   "outputs": [],
   "source": []
  }
 ],
 "metadata": {
  "kernelspec": {
   "display_name": "Python 3 (ipykernel)",
   "language": "python",
   "name": "python3"
  },
  "language_info": {
   "codemirror_mode": {
    "name": "ipython",
    "version": 3
   },
   "file_extension": ".py",
   "mimetype": "text/x-python",
   "name": "python",
   "nbconvert_exporter": "python",
   "pygments_lexer": "ipython3",
   "version": "3.11.4"
  }
 },
 "nbformat": 4,
 "nbformat_minor": 5
}
