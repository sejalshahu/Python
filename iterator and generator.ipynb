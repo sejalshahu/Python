{
 "cells": [
  {
   "cell_type": "markdown",
   "id": "98d0fa48",
   "metadata": {},
   "source": [
    "## Generator"
   ]
  },
  {
   "cell_type": "markdown",
   "id": "b7dc1fc0",
   "metadata": {},
   "source": [
    "#### To generate something"
   ]
  },
  {
   "cell_type": "code",
   "execution_count": 1,
   "id": "5c64cf4d",
   "metadata": {},
   "outputs": [],
   "source": [
    "def fn(x,y):\n",
    "    x=x-y\n",
    "    return x+1"
   ]
  },
  {
   "cell_type": "code",
   "execution_count": 2,
   "id": "dd77556c",
   "metadata": {},
   "outputs": [
    {
     "data": {
      "text/plain": [
       "-3"
      ]
     },
     "execution_count": 2,
     "metadata": {},
     "output_type": "execute_result"
    }
   ],
   "source": [
    "fn(5,9)"
   ]
  },
  {
   "cell_type": "code",
   "execution_count": 3,
   "id": "80558b0e",
   "metadata": {},
   "outputs": [],
   "source": [
    "def fn1(x,y):\n",
    "    x=x-y\n",
    "    yield x+1"
   ]
  },
  {
   "cell_type": "code",
   "execution_count": 4,
   "id": "cc0e8555",
   "metadata": {},
   "outputs": [
    {
     "data": {
      "text/plain": [
       "<generator object fn1 at 0x000001AD7A7331D0>"
      ]
     },
     "execution_count": 4,
     "metadata": {},
     "output_type": "execute_result"
    }
   ],
   "source": [
    "fn1(5,9)"
   ]
  },
  {
   "cell_type": "code",
   "execution_count": 5,
   "id": "3b1de8e5",
   "metadata": {},
   "outputs": [
    {
     "name": "stdout",
     "output_type": "stream",
     "text": [
      "-2\n"
     ]
    }
   ],
   "source": [
    "print(next(fn1(5,8)))"
   ]
  },
  {
   "cell_type": "code",
   "execution_count": 21,
   "id": "ce95b55f",
   "metadata": {},
   "outputs": [],
   "source": [
    "def generator():\n",
    "    print(\"sejal\")\n",
    "    yield\"sejal\"+\"shahu\"\n",
    "    \n",
    "    print(\"hello python\")\n",
    "    yield 10\n",
    "    \n",
    "    print(\"python developer\")\n",
    "    yield 15"
   ]
  },
  {
   "cell_type": "code",
   "execution_count": 22,
   "id": "16631089",
   "metadata": {},
   "outputs": [],
   "source": [
    "x=generator()"
   ]
  },
  {
   "cell_type": "code",
   "execution_count": 23,
   "id": "f8553a78",
   "metadata": {},
   "outputs": [
    {
     "name": "stdout",
     "output_type": "stream",
     "text": [
      "<generator object generator at 0x000001AD7B43F640>\n"
     ]
    }
   ],
   "source": [
    "print(x)"
   ]
  },
  {
   "cell_type": "code",
   "execution_count": 24,
   "id": "7aeed507",
   "metadata": {},
   "outputs": [
    {
     "name": "stdout",
     "output_type": "stream",
     "text": [
      "sejal\n",
      "sejalshahu\n"
     ]
    }
   ],
   "source": [
    "print(next(x))"
   ]
  },
  {
   "cell_type": "code",
   "execution_count": 25,
   "id": "30215efb",
   "metadata": {},
   "outputs": [
    {
     "name": "stdout",
     "output_type": "stream",
     "text": [
      "hello python\n",
      "10\n"
     ]
    }
   ],
   "source": [
    "print(next(x))"
   ]
  },
  {
   "cell_type": "code",
   "execution_count": 26,
   "id": "f70aa9b7",
   "metadata": {},
   "outputs": [
    {
     "name": "stdout",
     "output_type": "stream",
     "text": [
      "python developer\n",
      "15\n"
     ]
    }
   ],
   "source": [
    "print(next(x))"
   ]
  },
  {
   "cell_type": "code",
   "execution_count": 27,
   "id": "6b76cfbe",
   "metadata": {},
   "outputs": [
    {
     "ename": "StopIteration",
     "evalue": "",
     "output_type": "error",
     "traceback": [
      "\u001b[1;31m---------------------------------------------------------------------------\u001b[0m",
      "\u001b[1;31mStopIteration\u001b[0m                             Traceback (most recent call last)",
      "Cell \u001b[1;32mIn[27], line 1\u001b[0m\n\u001b[1;32m----> 1\u001b[0m \u001b[38;5;28mprint\u001b[39m(\u001b[38;5;28mnext\u001b[39m(x))\n",
      "\u001b[1;31mStopIteration\u001b[0m: "
     ]
    }
   ],
   "source": [
    "print(next(x))"
   ]
  },
  {
   "cell_type": "code",
   "execution_count": 28,
   "id": "5bfd8907",
   "metadata": {},
   "outputs": [],
   "source": [
    "def generator():\n",
    "    print(\"sejal\")\n",
    "    yield\"sejal\"+\"shahu\"\n",
    "    \n",
    "    return # will stop generation \n",
    "    print(\"hello python\")\n",
    "    yield 10\n",
    "    \n",
    "    print(\"python developer\")\n",
    "    yield 15"
   ]
  },
  {
   "cell_type": "code",
   "execution_count": 29,
   "id": "e31b97d8",
   "metadata": {},
   "outputs": [
    {
     "name": "stdout",
     "output_type": "stream",
     "text": [
      "sejal\n",
      "sejalshahu\n"
     ]
    },
    {
     "ename": "StopIteration",
     "evalue": "",
     "output_type": "error",
     "traceback": [
      "\u001b[1;31m---------------------------------------------------------------------------\u001b[0m",
      "\u001b[1;31mStopIteration\u001b[0m                             Traceback (most recent call last)",
      "Cell \u001b[1;32mIn[29], line 3\u001b[0m\n\u001b[0;32m      1\u001b[0m x\u001b[38;5;241m=\u001b[39mgenerator()\n\u001b[0;32m      2\u001b[0m \u001b[38;5;28mprint\u001b[39m(\u001b[38;5;28mnext\u001b[39m(x))\n\u001b[1;32m----> 3\u001b[0m \u001b[38;5;28mprint\u001b[39m(\u001b[38;5;28mnext\u001b[39m(x))\n\u001b[0;32m      4\u001b[0m \u001b[38;5;28mprint\u001b[39m(\u001b[38;5;28mnext\u001b[39m(x))\n\u001b[0;32m      5\u001b[0m \u001b[38;5;28mprint\u001b[39m(\u001b[38;5;28mnext\u001b[39m(x))\n",
      "\u001b[1;31mStopIteration\u001b[0m: "
     ]
    }
   ],
   "source": [
    "x=generator()\n",
    "print(next(x))\n",
    "print(next(x))\n",
    "print(next(x))\n",
    "print(next(x))"
   ]
  },
  {
   "cell_type": "markdown",
   "id": "0380e8ea",
   "metadata": {},
   "source": [
    "## For Loop"
   ]
  },
  {
   "cell_type": "code",
   "execution_count": 30,
   "id": "67783dcf",
   "metadata": {},
   "outputs": [
    {
     "name": "stdout",
     "output_type": "stream",
     "text": [
      "sejal\n",
      "sejalshahu\n",
      "hello python\n",
      "10\n",
      "python developer\n",
      "15\n"
     ]
    }
   ],
   "source": [
    "def generator():\n",
    "    print(\"sejal\")\n",
    "    yield\"sejal\"+\"shahu\"\n",
    "    \n",
    "    print(\"hello python\")\n",
    "    yield 10\n",
    "    \n",
    "    print(\"python developer\")\n",
    "    yield 15\n",
    "    \n",
    "x=generator()\n",
    "for i in x:\n",
    "    print(i)"
   ]
  },
  {
   "cell_type": "code",
   "execution_count": 31,
   "id": "e6a96cc5",
   "metadata": {},
   "outputs": [
    {
     "name": "stdout",
     "output_type": "stream",
     "text": [
      "sejal\n",
      "sejalshahu\n"
     ]
    }
   ],
   "source": [
    "def generator():\n",
    "    print(\"sejal\")\n",
    "    yield\"sejal\"+\"shahu\"\n",
    "    \n",
    "    return # will stop generation \n",
    "    print(\"hello python\")\n",
    "    yield 10\n",
    "    \n",
    "    print(\"python developer\")\n",
    "    yield 15\n",
    "x=generator()\n",
    "for i in x:\n",
    "    print(i)    "
   ]
  },
  {
   "cell_type": "code",
   "execution_count": 34,
   "id": "c6dc7f3f",
   "metadata": {},
   "outputs": [
    {
     "name": "stdout",
     "output_type": "stream",
     "text": [
      "sejal\n"
     ]
    }
   ],
   "source": [
    "def generator():\n",
    "    print(\"sejal\")\n",
    "     return # will stop generation \n",
    "    yield\"sejal\"+\"shahu\"\n",
    "    \n",
    "   \n",
    "    print(\"hello python\")\n",
    "    yield 10\n",
    "    \n",
    "    print(\"python developer\")\n",
    "    yield 15\n",
    "x=generator()\n",
    "for i in x:\n",
    "    print(i)"
   ]
  },
  {
   "cell_type": "markdown",
   "id": "d007134c",
   "metadata": {},
   "source": [
    "## Difference between iterator and generator¶"
   ]
  },
  {
   "cell_type": "markdown",
   "id": "76190e15",
   "metadata": {},
   "source": [
    "1) we can use iterators elements as many times bt in generator we can use only once.\n",
    "2)iterator uses two functions iter() and next and generator uses only one fn next() and yield keyword\n",
    "3)gm4en"
   ]
  },
  {
   "cell_type": "markdown",
   "id": "e99b33e7",
   "metadata": {},
   "source": [
    "### Example"
   ]
  },
  {
   "cell_type": "markdown",
   "id": "9ddb3efd",
   "metadata": {},
   "source": [
    "Suppose you're building a system to analyze and visualize large sets of temperature data. Your data source is a large file\n",
    "containing temperature readings for different locations over time.\n",
    "\n",
    "You can use iterators and generators to read this data efficiently and process it in chunks, rather than loading the entire\n",
    "file into memory at once. This approach allows you to process large datasets without running into memory constraints."
   ]
  },
  {
   "cell_type": "code",
   "execution_count": 36,
   "id": "9ea9209c",
   "metadata": {},
   "outputs": [
    {
     "data": {
      "text/html": [
       "<div>\n",
       "<style scoped>\n",
       "    .dataframe tbody tr th:only-of-type {\n",
       "        vertical-align: middle;\n",
       "    }\n",
       "\n",
       "    .dataframe tbody tr th {\n",
       "        vertical-align: top;\n",
       "    }\n",
       "\n",
       "    .dataframe thead th {\n",
       "        text-align: right;\n",
       "    }\n",
       "</style>\n",
       "<table border=\"1\" class=\"dataframe\">\n",
       "  <thead>\n",
       "    <tr style=\"text-align: right;\">\n",
       "      <th></th>\n",
       "      <th>Location</th>\n",
       "      <th>Date</th>\n",
       "      <th>Temperature</th>\n",
       "    </tr>\n",
       "  </thead>\n",
       "  <tbody>\n",
       "    <tr>\n",
       "      <th>0</th>\n",
       "      <td>New York</td>\n",
       "      <td>2022-01-01</td>\n",
       "      <td>32</td>\n",
       "    </tr>\n",
       "    <tr>\n",
       "      <th>1</th>\n",
       "      <td>New York</td>\n",
       "      <td>2022-01-02</td>\n",
       "      <td>34</td>\n",
       "    </tr>\n",
       "    <tr>\n",
       "      <th>2</th>\n",
       "      <td>New York</td>\n",
       "      <td>2022-01-03</td>\n",
       "      <td>36</td>\n",
       "    </tr>\n",
       "    <tr>\n",
       "      <th>3</th>\n",
       "      <td>New York</td>\n",
       "      <td>2022-01-04</td>\n",
       "      <td>38</td>\n",
       "    </tr>\n",
       "    <tr>\n",
       "      <th>4</th>\n",
       "      <td>Los Angeles</td>\n",
       "      <td>2022-01-01</td>\n",
       "      <td>68</td>\n",
       "    </tr>\n",
       "    <tr>\n",
       "      <th>5</th>\n",
       "      <td>Los Angeles</td>\n",
       "      <td>2022-01-02</td>\n",
       "      <td>70</td>\n",
       "    </tr>\n",
       "    <tr>\n",
       "      <th>6</th>\n",
       "      <td>Los Angeles</td>\n",
       "      <td>2022-01-03</td>\n",
       "      <td>72</td>\n",
       "    </tr>\n",
       "    <tr>\n",
       "      <th>7</th>\n",
       "      <td>Los Angeles</td>\n",
       "      <td>2022-01-04</td>\n",
       "      <td>74</td>\n",
       "    </tr>\n",
       "  </tbody>\n",
       "</table>\n",
       "</div>"
      ],
      "text/plain": [
       "      Location        Date  Temperature\n",
       "0     New York  2022-01-01           32\n",
       "1     New York  2022-01-02           34\n",
       "2     New York  2022-01-03           36\n",
       "3     New York  2022-01-04           38\n",
       "4  Los Angeles  2022-01-01           68\n",
       "5  Los Angeles  2022-01-02           70\n",
       "6  Los Angeles  2022-01-03           72\n",
       "7  Los Angeles  2022-01-04           74"
      ]
     },
     "execution_count": 36,
     "metadata": {},
     "output_type": "execute_result"
    }
   ],
   "source": [
    "temperature_data = [\n",
    "    {'Location': 'New York', 'Date': '2022-01-01', 'Temperature': 32},\n",
    "    {'Location': 'New York', 'Date': '2022-01-02', 'Temperature': 34},\n",
    "    {'Location': 'New York', 'Date': '2022-01-03', 'Temperature': 36},\n",
    "    {'Location': 'New York', 'Date': '2022-01-04', 'Temperature': 38},\n",
    "    {'Location': 'Los Angeles', 'Date': '2022-01-01', 'Temperature': 68},\n",
    "    {'Location': 'Los Angeles', 'Date': '2022-01-02', 'Temperature': 70},\n",
    "    {'Location': 'Los Angeles', 'Date': '2022-01-03', 'Temperature': 72},\n",
    "    {'Location': 'Los Angeles', 'Date': '2022-01-04', 'Temperature': 74}\n",
    "]\n",
    "\n",
    "import pandas as pd\n",
    "\n",
    "# Create a DataFrame from the dictionary\n",
    "df = pd.DataFrame(temperature_data)\n",
    "\n",
    "# Print the DataFrame\n",
    "df\n"
   ]
  },
  {
   "cell_type": "code",
   "execution_count": 37,
   "id": "c51d6fc0",
   "metadata": {},
   "outputs": [],
   "source": [
    "df.to_csv('temperature_data_output.csv', index=False)"
   ]
  },
  {
   "cell_type": "code",
   "execution_count": 41,
   "id": "592744bb",
   "metadata": {},
   "outputs": [],
   "source": [
    "#Define a generator function to read temperature data from a file\n",
    "def temperature_reader(filename):\n",
    "    with open(filename,'r') as file:\n",
    "        for line in file:\n",
    "            yield line.strip()\n",
    "#Define a generator function to parse temperature data\n",
    "def parse_temperature_data(temperature_data):\n",
    "    for item in temperature_data.slipt(','):\n",
    "        yield float(item)\n",
    "\n",
    "#define a generator function to calculate the average temperature for each location\n",
    "def calculate_average_data(temperature):\n",
    "    total=0\n",
    "    count=0\n",
    "    for temperature  in temperatures:\n",
    "        total+=temperature\n",
    "        count+=1\n",
    "    yield total/count\n",
    "#Read temperature data from a file\n",
    "temperature_data=temperature_reader('temperature_data_output.csv')\n",
    " \n",
    "# # Process the data in chunks\n",
    "# chunk_size = 100\n",
    "# for i in range(0, len(temperature_data), chunk_size):\n",
    "#     chunk = temperature_data[i:i+chunk_size]\n",
    "    \n",
    "#     # Parse the temperature data\n",
    "#     parsed_data = parse_temperature_data(chunk)\n",
    "    \n",
    "#     # Calculate the average temperature for each location\n",
    "#     average_temperatures = calculate_average_temperature(parsed_data)\n",
    "    \n",
    "#     # Print the average temperatures\n",
    "#     for average_temperature in average_temperatures:\n",
    "#         print(average_temperature)\n",
    "    \n",
    "            "
   ]
  },
  {
   "cell_type": "code",
   "execution_count": 42,
   "id": "3a7cafbb",
   "metadata": {},
   "outputs": [
    {
     "data": {
      "text/plain": [
       "'Location,Date,Temperature'"
      ]
     },
     "execution_count": 42,
     "metadata": {},
     "output_type": "execute_result"
    }
   ],
   "source": [
    "next(temperature_data)"
   ]
  },
  {
   "cell_type": "code",
   "execution_count": 44,
   "id": "a6fcc798",
   "metadata": {},
   "outputs": [
    {
     "data": {
      "text/plain": [
       "'New York,2022-01-02,34'"
      ]
     },
     "execution_count": 44,
     "metadata": {},
     "output_type": "execute_result"
    }
   ],
   "source": [
    "next(temperature_data)"
   ]
  },
  {
   "cell_type": "code",
   "execution_count": null,
   "id": "ef383d5b",
   "metadata": {},
   "outputs": [],
   "source": []
  },
  {
   "cell_type": "code",
   "execution_count": null,
   "id": "50c0b0d4",
   "metadata": {},
   "outputs": [],
   "source": []
  }
 ],
 "metadata": {
  "kernelspec": {
   "display_name": "Python 3 (ipykernel)",
   "language": "python",
   "name": "python3"
  },
  "language_info": {
   "codemirror_mode": {
    "name": "ipython",
    "version": 3
   },
   "file_extension": ".py",
   "mimetype": "text/x-python",
   "name": "python",
   "nbconvert_exporter": "python",
   "pygments_lexer": "ipython3",
   "version": "3.11.5"
  }
 },
 "nbformat": 4,
 "nbformat_minor": 5
}
