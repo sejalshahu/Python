{
 "cells": [
  {
   "cell_type": "markdown",
   "id": "790917a5",
   "metadata": {},
   "source": [
    "# Frozenset and Dictionary"
   ]
  },
  {
   "cell_type": "code",
   "execution_count": 4,
   "id": "e48aebdb",
   "metadata": {},
   "outputs": [
    {
     "name": "stdout",
     "output_type": "stream",
     "text": [
      "frozenset object is: frozenset({1, 2, 3, 4, 5, 6, 7, 8, 9})\n"
     ]
    }
   ],
   "source": [
    "# syntax : frozenset(iterable_object_name)\n",
    "nu=(1,2,3,4,2,5,6,4,7,8,9)         #tuple of numbers\n",
    "fnum=frozenset(nu)             #converting tuple to frozenset\n",
    "print(\"frozenset object is:\",fnum)   #printing details"
   ]
  },
  {
   "cell_type": "markdown",
   "id": "239924ce",
   "metadata": {},
   "source": [
    "## Dictionary"
   ]
  },
  {
   "cell_type": "code",
   "execution_count": 9,
   "id": "b3280ed2",
   "metadata": {},
   "outputs": [
    {
     "name": "stdout",
     "output_type": "stream",
     "text": [
      "{'name': 'jax', 'age': 21}\n"
     ]
    }
   ],
   "source": [
    "#creating dictionary\n",
    "# dic_name=(key:value)\n",
    "dog={'name':'jax','age':21}\n",
    "print(dog)"
   ]
  },
  {
   "cell_type": "code",
   "execution_count": 29,
   "id": "90dd679a",
   "metadata": {},
   "outputs": [
    {
     "name": "stdout",
     "output_type": "stream",
     "text": [
      "{'name': 'sejal', 'age': 21, 'weight': 45}\n",
      "{'name': 'sejal', 'age': 21, 'weight': 45, 'height': 5.2}\n",
      "{'name': 'sejal', 'age': 21, 'weight': '22', 'height': 5.2}\n",
      "dict_keys(['name', 'age', 'weight', 'height'])\n",
      "dict_values(['sejal', 21, '22', 5.2])\n",
      "dict_items([('name', 'sejal'), ('age', 21), ('weight', '22'), ('height', 5.2)])\n"
     ]
    }
   ],
   "source": [
    "s1={\"name\":\"sejal\",\"age\":21,\"weight\":45}\n",
    "print(s1)\n",
    "s1['height']=5.2 # adding item ,dict_name[key]=value\n",
    "print(s1)\n",
    "s1[\"weight\"]=\"22\"  # changing values , dict_name[existing_key]=new_value\n",
    "print(s1)\n",
    "len(s1)         #calculate length ,len(dict_name)\n",
    "print(s1.keys())   #print only keys , dict_name.keys()\n",
    "print(s1.values()) #print only values , dict_name.values()\n",
    "print(s1.items())  #print items ,dict_name.items()"
   ]
  },
  {
   "cell_type": "markdown",
   "id": "009ab8ff",
   "metadata": {},
   "source": [
    "## Removing"
   ]
  },
  {
   "cell_type": "code",
   "execution_count": 38,
   "id": "6d920d85",
   "metadata": {},
   "outputs": [
    {
     "name": "stdout",
     "output_type": "stream",
     "text": [
      "{'subject': 'english', 'student': 90, 'teacher': 10, 'room': 45}\n",
      "{'subject': 'english', 'student': 90, 'teacher': 10}\n",
      "{'subject': 'english', 'student': 90}\n",
      "{'subject': 'english'}\n",
      "{}\n"
     ]
    }
   ],
   "source": [
    "school={'subject':'english','student':90,'teacher':10 ,'room':45}\n",
    "print(school)\n",
    "school.pop('room')\n",
    "print(school)\n",
    "school.popitem()\n",
    "print(school)\n",
    "del school['student']\n",
    "print(school) \n",
    "school.clear()\n",
    "print(school)"
   ]
  },
  {
   "cell_type": "code",
   "execution_count": null,
   "id": "52fedcc0",
   "metadata": {},
   "outputs": [],
   "source": []
  }
 ],
 "metadata": {
  "kernelspec": {
   "display_name": "Python 3 (ipykernel)",
   "language": "python",
   "name": "python3"
  },
  "language_info": {
   "codemirror_mode": {
    "name": "ipython",
    "version": 3
   },
   "file_extension": ".py",
   "mimetype": "text/x-python",
   "name": "python",
   "nbconvert_exporter": "python",
   "pygments_lexer": "ipython3",
   "version": "3.11.4"
  }
 },
 "nbformat": 4,
 "nbformat_minor": 5
}
