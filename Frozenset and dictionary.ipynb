{
 "cells": [
  {
   "cell_type": "markdown",
   "id": "ac835da2",
   "metadata": {},
   "source": [
    "# Frozenset and Dictionary"
   ]
  },
  {
   "cell_type": "code",
   "execution_count": 1,
   "id": "bae40a35",
   "metadata": {},
   "outputs": [
    {
     "name": "stdout",
     "output_type": "stream",
     "text": [
      "frozenset is: frozenset({1, 2, 3, 4, 5, 6, 7, 8, 9})\n"
     ]
    }
   ],
   "source": [
    "# syntax : frozenset(iterable_object_name)\n",
    "# Tuple of numbers\n",
    "num1={1,2,4,3,6,7,8,9,3,7,5,4,3}\n",
    "num2=frozenset(num1)                 #converting tuple to frozenset\n",
    "print(\"frozenset is:\",num2)           "
   ]
  },
  {
   "cell_type": "markdown",
   "id": "e63d1752",
   "metadata": {},
   "source": [
    "## Dictionary"
   ]
  },
  {
   "cell_type": "code",
   "execution_count": 2,
   "id": "8e7fd7f2",
   "metadata": {},
   "outputs": [
    {
     "name": "stdout",
     "output_type": "stream",
     "text": [
      "{'name': 'jax', 'age': 23}\n"
     ]
    }
   ],
   "source": [
    "#creating dictionary\n",
    "#dict_name={key:value}\n",
    "dog={'name':'jax','age':23}\n",
    "print(dog)"
   ]
  },
  {
   "cell_type": "code",
   "execution_count": 17,
   "id": "1b14d9da",
   "metadata": {},
   "outputs": [
    {
     "name": "stdout",
     "output_type": "stream",
     "text": [
      "{'class': 12, 'student': 100, 'teacher': 10, 'books': 15, 'subject': 'English', 'room': 65}\n",
      "{'class': 13, 'student': 100, 'teacher': 10, 'books': 15, 'subject': 'English', 'room': 65}\n",
      "6\n",
      "dict_keys(['class', 'student', 'teacher', 'books', 'subject', 'room'])\n",
      "dict_values([13, 100, 10, 15, 'English', 65])\n",
      "dict_items([('class', 13), ('student', 100), ('teacher', 10), ('books', 15), ('subject', 'English'), ('room', 65)])\n"
     ]
    }
   ],
   "source": [
    "school={'class':12,'student':100,'teacher':10,'books':15,'subject':'English'}\n",
    "#adding an item\n",
    "school['room']=65\n",
    "print(school)\n",
    "\n",
    "#changing value of an item\n",
    "school['class']=13\n",
    "print(school)\n",
    "\n",
    "#To get number of items in a dictionary\n",
    "print(len(school)) \n",
    "\n",
    "#Print only keys:\n",
    "print(school.keys())\n",
    "\n",
    "#Print only values:\n",
    "print(school.values())\n",
    "\n",
    "#print all items\n",
    "print(school.items())"
   ]
  },
  {
   "cell_type": "code",
   "execution_count": 3,
   "id": "5f5166c2",
   "metadata": {},
   "outputs": [
    {
     "name": "stdout",
     "output_type": "stream",
     "text": [
      "{'class': 12, 'student': 100, 'teacher': 10, 'books': 15}\n",
      "{'class': 12, 'student': 100, 'teacher': 10}\n",
      "{'student': 100, 'teacher': 10}\n",
      "{}\n"
     ]
    }
   ],
   "source": [
    "s1={'class':12,'student':100,'teacher':10,'books':15,'subject':'English'}\n",
    "\n",
    "#pop\n",
    "s1.pop('subject')\n",
    "print(s1)\n",
    "\n",
    "#popitem\n",
    "s1.popitem()\n",
    "print(s1)\n",
    "\n",
    "#del\n",
    "del s1['class']\n",
    "print(s1)\n",
    "\n",
    "#clear\n",
    "s1.clear()\n",
    "print(s1)"
   ]
  },
  {
   "cell_type": "code",
   "execution_count": null,
   "id": "c5effa51",
   "metadata": {},
   "outputs": [],
   "source": []
  }
 ],
 "metadata": {
  "kernelspec": {
   "display_name": "Python 3 (ipykernel)",
   "language": "python",
   "name": "python3"
  },
  "language_info": {
   "codemirror_mode": {
    "name": "ipython",
    "version": 3
   },
   "file_extension": ".py",
   "mimetype": "text/x-python",
   "name": "python",
   "nbconvert_exporter": "python",
   "pygments_lexer": "ipython3",
   "version": "3.11.5"
  }
 },
 "nbformat": 4,
 "nbformat_minor": 5
}
