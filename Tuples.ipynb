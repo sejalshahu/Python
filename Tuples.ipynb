{
 "cells": [
  {
   "cell_type": "code",
   "execution_count": 1,
   "id": "e300f093",
   "metadata": {},
   "outputs": [
    {
     "name": "stdout",
     "output_type": "stream",
     "text": [
      "('apple', 'orange', 'banana')\n"
     ]
    }
   ],
   "source": [
    "thistuple=(\"apple\",\"orange\",\"banana\")\n",
    "print(thistuple)"
   ]
  },
  {
   "cell_type": "markdown",
   "id": "32f9b7fc",
   "metadata": {},
   "source": [
    "### Tuple Length"
   ]
  },
  {
   "cell_type": "code",
   "execution_count": 3,
   "id": "ffccae52",
   "metadata": {},
   "outputs": [
    {
     "name": "stdout",
     "output_type": "stream",
     "text": [
      "4\n"
     ]
    }
   ],
   "source": [
    "s1=(\"apple\",\"orange\",\"cherry\",\"banana\")\n",
    "print(len(s1))"
   ]
  },
  {
   "cell_type": "code",
   "execution_count": 4,
   "id": "f100ea4b",
   "metadata": {},
   "outputs": [
    {
     "name": "stdout",
     "output_type": "stream",
     "text": [
      "9\n"
     ]
    }
   ],
   "source": [
    "s2=(1,2,3,4,5,6,6,7,\"sejal\")\n",
    "print(len(s2))"
   ]
  },
  {
   "cell_type": "code",
   "execution_count": 9,
   "id": "9ba6ceff",
   "metadata": {},
   "outputs": [
    {
     "name": "stdout",
     "output_type": "stream",
     "text": [
      "('apple', 'banana', 'cherry')\n",
      "(1, 3, 53, 56)\n",
      "(True, False, False)\n",
      "('abc', 34, True, 40, 'male')\n"
     ]
    }
   ],
   "source": [
    "#tuple items can be of any data type:\n",
    "\n",
    "tuple1=(\"apple\",\"banana\",\"cherry\")\n",
    "tuple2=(1,3,53,56)\n",
    "tuple3=(True,False,False)\n",
    "tuple4=(\"abc\",34,True,40,\"male\")\n",
    "print(tuple1)\n",
    "print(tuple2)\n",
    "print(tuple3)\n",
    "print(tuple4)"
   ]
  },
  {
   "cell_type": "markdown",
   "id": "5fa1801c",
   "metadata": {},
   "source": [
    "### Access Tuple Items"
   ]
  },
  {
   "cell_type": "code",
   "execution_count": 20,
   "id": "2c7217b2",
   "metadata": {},
   "outputs": [
    {
     "name": "stdout",
     "output_type": "stream",
     "text": [
      "harshu\n",
      "sejal\n",
      "jyoti\n",
      "jyoti\n",
      "kajal\n"
     ]
    }
   ],
   "source": [
    "s1=(\"sejal\",\"kajal\",\"kinjal\",\"harshu\",\"jyoti\")\n",
    "print(s1[3])\n",
    "print(s1[0])\n",
    "print(s1[4])\n",
    "print(s1[-1])\n",
    "print(s1[-4])"
   ]
  },
  {
   "cell_type": "markdown",
   "id": "b8b04ab1",
   "metadata": {},
   "source": [
    "### Range of values"
   ]
  },
  {
   "cell_type": "code",
   "execution_count": 21,
   "id": "7d60eb7a",
   "metadata": {},
   "outputs": [
    {
     "name": "stdout",
     "output_type": "stream",
     "text": [
      "('blue', 'pink', 'green')\n",
      "('red', 'yellow', 'blue')\n",
      "('pink', 'green')\n"
     ]
    }
   ],
   "source": [
    "s1=(\"red\",\"yellow\",\"blue\",\"pink\",\"green\")\n",
    "print(s1[2:5])\n",
    "print(s1[0:3])\n",
    "print(s1[3:5])"
   ]
  },
  {
   "cell_type": "markdown",
   "id": "6927e696",
   "metadata": {},
   "source": [
    "### When Starting value is not specified"
   ]
  },
  {
   "cell_type": "code",
   "execution_count": 25,
   "id": "cab8c78f",
   "metadata": {},
   "outputs": [
    {
     "name": "stdout",
     "output_type": "stream",
     "text": [
      "('apple', 'red', 'banana', 'yellow', 'green')\n",
      "('yellow', 'green', 'cherry', 'pink', 'blue', 'orange', 'kiwi')\n",
      "('apple', 'red')\n"
     ]
    }
   ],
   "source": [
    "my_tuple=(\"apple\",\"red\",\"banana\",\"yellow\",\"green\",\"cherry\",\"pink\",\"blue\",\"orange\",\"kiwi\")\n",
    "print(my_tuple[:5])\n",
    "print(my_tuple[3:])\n",
    "print(my_tuple[:2])"
   ]
  },
  {
   "cell_type": "markdown",
   "id": "993d8623",
   "metadata": {},
   "source": [
    "### Nagative range"
   ]
  },
  {
   "cell_type": "code",
   "execution_count": 36,
   "id": "8e31d403",
   "metadata": {},
   "outputs": [
    {
     "name": "stdout",
     "output_type": "stream",
     "text": [
      "('blue', 'pink', 'cherry')\n",
      "('pink', 'blue', 'orange')\n",
      "('banana', 'yellow', 'green', 'cherry', 'pink', 'blue', 'orange')\n",
      "('blue', 'orange')\n"
     ]
    }
   ],
   "source": [
    "my_tuple=(\"apple\",\"red\",\"banana\",\"yellow\",\"green\",\"cherry\",\"pink\",\"blue\",\"orange\",\"kiwi\")\n",
    "print(my_tuple[-3:-6:-1])\n",
    "print(my_tuple[-4:-1])\n",
    "print(my_tuple[-8:-1])\n",
    "print(my_tuple[-3:-1])"
   ]
  },
  {
   "cell_type": "markdown",
   "id": "48cb74f2",
   "metadata": {},
   "source": [
    "### Change Tuple Value"
   ]
  },
  {
   "cell_type": "code",
   "execution_count": 42,
   "id": "03475544",
   "metadata": {},
   "outputs": [
    {
     "name": "stdout",
     "output_type": "stream",
     "text": [
      "['orange', 23, 1.5, True, False, 'sejal']\n",
      "('orange', '65', 1.5, True, False, 'rani')\n"
     ]
    }
   ],
   "source": [
    "x=(\"orange\",23,1.5,True,False,\"sejal\")\n",
    "y=list(x)\n",
    "print(y)\n",
    "y[1]=\"65\"\n",
    "y[5]=\"rani\"\n",
    "x=tuple(y)\n",
    "print(x)\n"
   ]
  },
  {
   "cell_type": "markdown",
   "id": "98b4620f",
   "metadata": {},
   "source": [
    "### Adding Item\n"
   ]
  },
  {
   "cell_type": "code",
   "execution_count": 52,
   "id": "9c188421",
   "metadata": {},
   "outputs": [
    {
     "name": "stdout",
     "output_type": "stream",
     "text": [
      "['apple', 23, True]\n",
      "['apple', 23, True, 23, 'orange', False]\n",
      "('apple', 23, True, 23, 'orange', False)\n"
     ]
    }
   ],
   "source": [
    "my_tuple=(\"apple\",23,True)\n",
    "y=list(my_tuple)\n",
    "print(y)\n",
    "y.append(23)\n",
    "y.append(\"orange\")\n",
    "y.append(False)\n",
    "print(y)\n",
    "x=tuple(y)\n",
    "print(x)"
   ]
  },
  {
   "cell_type": "code",
   "execution_count": 56,
   "id": "eaf5ee60",
   "metadata": {},
   "outputs": [
    {
     "name": "stdout",
     "output_type": "stream",
     "text": [
      "['apple', 23, True, 23, 'orange', False]\n",
      "['apple', 23, 'orange', False]\n",
      "('apple', 23, 'orange', False)\n"
     ]
    }
   ],
   "source": [
    "a=(\"apple\", 23, True, 23, \"orange\", False)\n",
    "b=list(a)\n",
    "print(b)\n",
    "b.remove(23)\n",
    "b.remove(True)\n",
    "print(b)\n",
    "a=tuple(b)\n",
    "print(a)\n"
   ]
  },
  {
   "cell_type": "markdown",
   "id": "d8af1f4f",
   "metadata": {},
   "source": [
    "### To delete the tuple completely "
   ]
  },
  {
   "cell_type": "code",
   "execution_count": 57,
   "id": "83bf49b8",
   "metadata": {},
   "outputs": [
    {
     "ename": "NameError",
     "evalue": "name 's1' is not defined",
     "output_type": "error",
     "traceback": [
      "\u001b[1;31m---------------------------------------------------------------------------\u001b[0m",
      "\u001b[1;31mNameError\u001b[0m                                 Traceback (most recent call last)",
      "Cell \u001b[1;32mIn[57], line 3\u001b[0m\n\u001b[0;32m      1\u001b[0m s1\u001b[38;5;241m=\u001b[39m(\u001b[38;5;124m\"\u001b[39m\u001b[38;5;124mapple\u001b[39m\u001b[38;5;124m\"\u001b[39m,\u001b[38;5;124m\"\u001b[39m\u001b[38;5;124mred\u001b[39m\u001b[38;5;124m\"\u001b[39m,\u001b[38;5;124m\"\u001b[39m\u001b[38;5;124mbanana\u001b[39m\u001b[38;5;124m\"\u001b[39m,\u001b[38;5;124m\"\u001b[39m\u001b[38;5;124myellow\u001b[39m\u001b[38;5;124m\"\u001b[39m,\u001b[38;5;124m\"\u001b[39m\u001b[38;5;124mgreen\u001b[39m\u001b[38;5;124m\"\u001b[39m,\u001b[38;5;124m\"\u001b[39m\u001b[38;5;124mcherry\u001b[39m\u001b[38;5;124m\"\u001b[39m,\u001b[38;5;124m\"\u001b[39m\u001b[38;5;124mpink\u001b[39m\u001b[38;5;124m\"\u001b[39m,\u001b[38;5;124m\"\u001b[39m\u001b[38;5;124mblue\u001b[39m\u001b[38;5;124m\"\u001b[39m,\u001b[38;5;124m\"\u001b[39m\u001b[38;5;124morange\u001b[39m\u001b[38;5;124m\"\u001b[39m,\u001b[38;5;124m\"\u001b[39m\u001b[38;5;124mkiwi\u001b[39m\u001b[38;5;124m\"\u001b[39m)\n\u001b[0;32m      2\u001b[0m \u001b[38;5;28;01mdel\u001b[39;00m s1\n\u001b[1;32m----> 3\u001b[0m \u001b[38;5;28mprint\u001b[39m(s1)\n",
      "\u001b[1;31mNameError\u001b[0m: name 's1' is not defined"
     ]
    }
   ],
   "source": [
    "s1=(\"apple\",\"red\",\"banana\",\"yellow\",\"green\",\"cherry\",\"pink\",\"blue\",\"orange\",\"kiwi\")\n",
    "del s1\n",
    "print(s1)"
   ]
  },
  {
   "cell_type": "markdown",
   "id": "3bb182f4",
   "metadata": {},
   "source": [
    "### Unpacking the tuple"
   ]
  },
  {
   "cell_type": "code",
   "execution_count": 59,
   "id": "3d7c3d79",
   "metadata": {},
   "outputs": [
    {
     "name": "stdout",
     "output_type": "stream",
     "text": [
      "maths\n",
      "science\n",
      "hindi\n",
      "English\n"
     ]
    }
   ],
   "source": [
    "subject=(\"maths\",\"science\",\"hindi\",\"English\")\n",
    "(s1,s2,s3,s4)=subject\n",
    "print(s1)\n",
    "print(s2)\n",
    "print(s3)\n",
    "print(s4)"
   ]
  },
  {
   "cell_type": "markdown",
   "id": "54bc3c4c",
   "metadata": {},
   "source": [
    "### Count and Index"
   ]
  },
  {
   "cell_type": "code",
   "execution_count": 62,
   "id": "2dfceec0",
   "metadata": {},
   "outputs": [
    {
     "name": "stdout",
     "output_type": "stream",
     "text": [
      "1\n",
      "2\n",
      "maths\n"
     ]
    }
   ],
   "source": [
    "s1=(\"maths\",\"science\",\"hindi\",\"maths\",\"english\")\n",
    "print(s1.count(\"hindi\"))\n",
    "print(s1.count(\"maths\"))\n",
    "print(s1[3])"
   ]
  },
  {
   "cell_type": "code",
   "execution_count": null,
   "id": "5613f6d2",
   "metadata": {},
   "outputs": [],
   "source": []
  }
 ],
 "metadata": {
  "kernelspec": {
   "display_name": "Python 3 (ipykernel)",
   "language": "python",
   "name": "python3"
  },
  "language_info": {
   "codemirror_mode": {
    "name": "ipython",
    "version": 3
   },
   "file_extension": ".py",
   "mimetype": "text/x-python",
   "name": "python",
   "nbconvert_exporter": "python",
   "pygments_lexer": "ipython3",
   "version": "3.11.4"
  }
 },
 "nbformat": 4,
 "nbformat_minor": 5
}
