{
 "cells": [
  {
   "cell_type": "code",
   "execution_count": 35,
   "id": "f1ec1ddb",
   "metadata": {},
   "outputs": [],
   "source": [
    "#pip install tkinter"
   ]
  },
  {
   "cell_type": "code",
   "execution_count": 36,
   "id": "60023f25",
   "metadata": {},
   "outputs": [],
   "source": [
    "import tkinter"
   ]
  },
  {
   "cell_type": "code",
   "execution_count": 37,
   "id": "3154ae99",
   "metadata": {},
   "outputs": [
    {
     "name": "stdout",
     "output_type": "stream",
     "text": [
      "Python 3.11.5\n"
     ]
    }
   ],
   "source": [
    "!python --version"
   ]
  },
  {
   "cell_type": "markdown",
   "id": "b47d1430",
   "metadata": {},
   "source": [
    "# Importing tkinter module"
   ]
  },
  {
   "cell_type": "code",
   "execution_count": 38,
   "id": "f40062e2",
   "metadata": {},
   "outputs": [],
   "source": [
    "from tkinter import * ##import everything in tkinter"
   ]
  },
  {
   "cell_type": "markdown",
   "id": "74514f1d",
   "metadata": {},
   "source": [
    "### Creating a window object Tk() "
   ]
  },
  {
   "cell_type": "code",
   "execution_count": 39,
   "id": "3056bce0",
   "metadata": {},
   "outputs": [],
   "source": [
    "window=Tk()  #throughout the program we will use this object"
   ]
  },
  {
   "cell_type": "markdown",
   "id": "d7848a30",
   "metadata": {},
   "source": [
    "### Label widget"
   ]
  },
  {
   "cell_type": "code",
   "execution_count": 40,
   "id": "4296e704",
   "metadata": {},
   "outputs": [],
   "source": [
    "mylabel=Label()"
   ]
  },
  {
   "cell_type": "code",
   "execution_count": 41,
   "id": "bce310f2",
   "metadata": {},
   "outputs": [],
   "source": [
    "#Label is a class whichi is available in tkinter module\n",
    "#we can create as many objects of same class"
   ]
  },
  {
   "cell_type": "markdown",
   "id": "93191c4b",
   "metadata": {},
   "source": [
    "Tkinter Label is a widget that is used to implement display boxes where you can place text or images.\n",
    "The text displayed by this widget can be changed by the developer at any time you want.\n",
    "https://www.geeksforgeeks.org/python-tkinter-label/"
   ]
  },
  {
   "cell_type": "code",
   "execution_count": 28,
   "id": "7b6c1430",
   "metadata": {},
   "outputs": [],
   "source": [
    "mylabel=Label(window,text=\"i am learning tkinter\")"
   ]
  },
  {
   "cell_type": "code",
   "execution_count": null,
   "id": "fea4c82f",
   "metadata": {},
   "outputs": [],
   "source": []
  },
  {
   "cell_type": "markdown",
   "id": "2d804eaa",
   "metadata": {},
   "source": [
    "### Inserting my widgets in window"
   ]
  },
  {
   "cell_type": "code",
   "execution_count": 29,
   "id": "ad696cd2",
   "metadata": {},
   "outputs": [],
   "source": [
    "#mylabel.pack()\n",
    "#grid"
   ]
  },
  {
   "cell_type": "markdown",
   "id": "5868bc65",
   "metadata": {},
   "source": [
    "In Tkinter, the pack method is used to organize widgets within a container (typically a window or \n",
    "a frame) by automatically determining the size and placement of the widget. It simplifies the process\n",
    "of arranging widgets in a way that adapts to the available space.\n",
    "pack organizes widgets in a top-down or left-to-right manner, grid allows you to create a grid-like\n",
    "layout, where widgets are placed in specific rows and columns.\n",
    "e.g label1.grid(row=0, column=0)"
   ]
  },
  {
   "cell_type": "code",
   "execution_count": 42,
   "id": "3d344c35",
   "metadata": {},
   "outputs": [],
   "source": [
    "#we can write like this also\n",
    "mylabel=Label(window,text=\"i am learning tkinter in python\").pack()"
   ]
  },
  {
   "cell_type": "markdown",
   "id": "c1ac9927",
   "metadata": {},
   "source": [
    "### Executing everything"
   ]
  },
  {
   "cell_type": "code",
   "execution_count": 43,
   "id": "828a8895",
   "metadata": {},
   "outputs": [],
   "source": [
    "window.mainloop()"
   ]
  },
  {
   "cell_type": "code",
   "execution_count": 32,
   "id": "6e85a17c",
   "metadata": {},
   "outputs": [
    {
     "ename": "SyntaxError",
     "evalue": "invalid syntax (1875590410.py, line 1)",
     "output_type": "error",
     "traceback": [
      "\u001b[1;36m  Cell \u001b[1;32mIn[32], line 1\u001b[1;36m\u001b[0m\n\u001b[1;33m    The mainloop() method is a crucial part of a Tkinter application. It is called on the main application\u001b[0m\n\u001b[1;37m        ^\u001b[0m\n\u001b[1;31mSyntaxError\u001b[0m\u001b[1;31m:\u001b[0m invalid syntax\n"
     ]
    }
   ],
   "source": [
    "The mainloop() method is a crucial part of a Tkinter application. It is called on the main application\n",
    "window, and it is responsible for running the Tkinter event loop. The event loop is what allows your\n",
    "GUI to respond to user inputs, events, and other activities.\n",
    "\n",
    "When you call window.mainloop(), where window is the instance of your Tkinter Tk class \n",
    "(representing the main application window), it enters into a loop that waits for events such as\n",
    "button clicks, keyboard input, and other user interactions. The application remains responsive,\n",
    "updating the display and executing callback functions in response to events."
   ]
  },
  {
   "cell_type": "markdown",
   "id": "92d2cece",
   "metadata": {},
   "source": [
    "## Creating calculator"
   ]
  },
  {
   "cell_type": "code",
   "execution_count": 93,
   "id": "1ecd34e4",
   "metadata": {},
   "outputs": [],
   "source": [
    "from tkinter import *\n",
    "window=Tk()\n"
   ]
  },
  {
   "cell_type": "code",
   "execution_count": 94,
   "id": "399180b7",
   "metadata": {},
   "outputs": [],
   "source": [
    "def addition():\n",
    "    a=int(entry1.get())\n",
    "    b=int(entry2.get())\n",
    "    c=a+b\n",
    "    entry3.insert(0,c)"
   ]
  },
  {
   "cell_type": "code",
   "execution_count": 95,
   "id": "228c775d",
   "metadata": {},
   "outputs": [],
   "source": [
    "def delete():\n",
    "    entry1.delete(0,END)\n",
    "    entry2.delete(0,END)\n",
    "    entry3.delete(0,END)"
   ]
  },
  {
   "cell_type": "code",
   "execution_count": 96,
   "id": "793e2d04",
   "metadata": {},
   "outputs": [],
   "source": [
    "label1=Label(window,text=\"Enter 1t no:\")\n",
    "label2=Label(window,text=\"Enter 2nd no:\")\n",
    "entry1=Entry(window)\n",
    "entry2=Entry(window)\n",
    "entry3=Entry(window)\n",
    "add=Button(window,text=\"ADD\",command=addition)\n",
    "clear=Button(window,text=\"CLEAR\",command=delete)"
   ]
  },
  {
   "cell_type": "code",
   "execution_count": 97,
   "id": "ae06cd04",
   "metadata": {},
   "outputs": [],
   "source": [
    "label1.grid(row=0,column=0)\n",
    "label2.grid(row=1,column=0)\n",
    "entry1.grid(row=0,column=1)\n",
    "entry2.grid(row=1,column=1)\n",
    "entry3.grid(row=2,column=1)\n",
    "add.grid(row=2,column=0)\n"
   ]
  },
  {
   "cell_type": "code",
   "execution_count": 98,
   "id": "cd6edbee",
   "metadata": {},
   "outputs": [
    {
     "name": "stderr",
     "output_type": "stream",
     "text": [
      "Exception in Tkinter callback\n",
      "Traceback (most recent call last):\n",
      "  File \"C:\\Users\\SEJAL SHAHU\\anaconda3\\Lib\\tkinter\\__init__.py\", line 1948, in __call__\n",
      "    return self.func(*args)\n",
      "           ^^^^^^^^^^^^^^^^\n",
      "  File \"C:\\Users\\SEJAL SHAHU\\AppData\\Local\\Temp\\ipykernel_9720\\580144426.py\", line 2, in addition\n",
      "    a=int(entry1.get())\n",
      "      ^^^^^^^^^^^^^^^^^\n",
      "ValueError: invalid literal for int() with base 10: ''\n"
     ]
    }
   ],
   "source": [
    "window.mainloop()"
   ]
  },
  {
   "cell_type": "code",
   "execution_count": null,
   "id": "fc09c4dc",
   "metadata": {},
   "outputs": [],
   "source": []
  },
  {
   "cell_type": "code",
   "execution_count": null,
   "id": "9efa452d",
   "metadata": {},
   "outputs": [],
   "source": []
  }
 ],
 "metadata": {
  "kernelspec": {
   "display_name": "Python 3 (ipykernel)",
   "language": "python",
   "name": "python3"
  },
  "language_info": {
   "codemirror_mode": {
    "name": "ipython",
    "version": 3
   },
   "file_extension": ".py",
   "mimetype": "text/x-python",
   "name": "python",
   "nbconvert_exporter": "python",
   "pygments_lexer": "ipython3",
   "version": "3.11.5"
  }
 },
 "nbformat": 4,
 "nbformat_minor": 5
}
