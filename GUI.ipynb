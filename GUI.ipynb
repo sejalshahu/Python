{
 "cells": [
  {
   "cell_type": "code",
   "execution_count": 1,
   "id": "9273efe9",
   "metadata": {},
   "outputs": [],
   "source": [
    "#pip install tkinter"
   ]
  },
  {
   "cell_type": "code",
   "execution_count": 2,
   "id": "6e117fb5",
   "metadata": {},
   "outputs": [],
   "source": [
    "import tkinter"
   ]
  },
  {
   "cell_type": "code",
   "execution_count": 3,
   "id": "5274c2ce",
   "metadata": {},
   "outputs": [
    {
     "name": "stdout",
     "output_type": "stream",
     "text": [
      "Python 3.11.4\n"
     ]
    }
   ],
   "source": [
    "!python --version"
   ]
  },
  {
   "cell_type": "markdown",
   "id": "bff4f4df",
   "metadata": {},
   "source": [
    "# Importing tkinter module"
   ]
  },
  {
   "cell_type": "code",
   "execution_count": 5,
   "id": "b473b734",
   "metadata": {},
   "outputs": [],
   "source": [
    "from tkinter import * ##import everything in tkinter"
   ]
  },
  {
   "cell_type": "markdown",
   "id": "bdbed087",
   "metadata": {},
   "source": [
    "Creating window object Tk()"
   ]
  },
  {
   "cell_type": "code",
   "execution_count": 7,
   "id": "832d7658",
   "metadata": {},
   "outputs": [],
   "source": [
    "window=Tk() #throut the program we will use this object"
   ]
  },
  {
   "cell_type": "markdown",
   "id": "9124e819",
   "metadata": {},
   "source": [
    "# Label widget"
   ]
  },
  {
   "cell_type": "code",
   "execution_count": 8,
   "id": "65a17aa3",
   "metadata": {},
   "outputs": [],
   "source": [
    "mylabel=Label()"
   ]
  },
  {
   "cell_type": "code",
   "execution_count": 9,
   "id": "578939ed",
   "metadata": {},
   "outputs": [],
   "source": [
    "#Label is a class whichi is available in tkinter module\n",
    "#we can create as many objects of same class"
   ]
  },
  {
   "cell_type": "markdown",
   "id": "05e848a5",
   "metadata": {},
   "source": [
    "Tkinter Label is a widget that is used to implement display boxes where you can place text or images.\n",
    "The text displayed by this widget can be changed by the developer at any time you want.\n",
    "https://www.geeksforgeeks.org/python-tkinter-label/"
   ]
  },
  {
   "cell_type": "code",
   "execution_count": 11,
   "id": "b3930a72",
   "metadata": {},
   "outputs": [
    {
     "ename": "NameError",
     "evalue": "name 'label' is not defined",
     "output_type": "error",
     "traceback": [
      "\u001b[1;31m---------------------------------------------------------------------------\u001b[0m",
      "\u001b[1;31mNameError\u001b[0m                                 Traceback (most recent call last)",
      "Cell \u001b[1;32mIn[11], line 1\u001b[0m\n\u001b[1;32m----> 1\u001b[0m mylabel\u001b[38;5;241m=\u001b[39mlabel(window,text\u001b[38;5;241m=\u001b[39m\u001b[38;5;124m\"\u001b[39m\u001b[38;5;124mI am learning tkinter\u001b[39m\u001b[38;5;124m\"\u001b[39m)\n",
      "\u001b[1;31mNameError\u001b[0m: name 'label' is not defined"
     ]
    }
   ],
   "source": [
    "mylabel=label(window,text=\"I am learning tkinter\")"
   ]
  },
  {
   "cell_type": "markdown",
   "id": "7d63d0b0",
   "metadata": {},
   "source": [
    "## inserting my widgets in window"
   ]
  },
  {
   "cell_type": "code",
   "execution_count": 13,
   "id": "6c9ef2d7",
   "metadata": {},
   "outputs": [],
   "source": [
    "#mylabel.pack()\n",
    "#grid"
   ]
  },
  {
   "cell_type": "markdown",
   "id": "d5317c90",
   "metadata": {},
   "source": [
    "In Tkinter, the pack method is used to organize widgets within a container (typically a window or a frame) by automatically\n",
    "determining the size and placement of the widget. It simplifies the process of arranging widgets in a way that adapts to the\n",
    "available space.\n",
    "pack organizes widgets in a top-down or left-to-right manner, grid allows you to create a grid-like layout, where widgets\n",
    "are placed in specific rows and columns.\n",
    "e.g label1.grid(row=0, column=0)"
   ]
  },
  {
   "cell_type": "code",
   "execution_count": 14,
   "id": "c1b32945",
   "metadata": {},
   "outputs": [],
   "source": [
    "#we can write like this also\n",
    "mylabel=Label(window,text=\"I learning tkinter in python\").pack()"
   ]
  },
  {
   "cell_type": "markdown",
   "id": "4f6d8cda",
   "metadata": {},
   "source": [
    "## Execute everything"
   ]
  },
  {
   "cell_type": "code",
   "execution_count": null,
   "id": "f51b18db",
   "metadata": {},
   "outputs": [],
   "source": [
    "window.mainloop()"
   ]
  },
  {
   "cell_type": "code",
   "execution_count": null,
   "id": "33922a57",
   "metadata": {},
   "outputs": [],
   "source": [
    "The mainloop() method is a crucial part of a Tkinter application. It is called on the main application window,\n",
    "and it is responsible for running the Tkinter event loop. The event loop is what allows your GUI to respond to user inputs, \n",
    "events, and other activities.\n",
    "\n",
    "When you call window.mainloop(), where window is the instance of your Tkinter Tk class (representing the main application \n",
    "window), it enters into a loop that waits for events such as button clicks, keyboard input, and other user interactions. \n",
    "The application remains responsive, updating the display and executing callback functions in response to events."
   ]
  },
  {
   "cell_type": "markdown",
   "id": "dd0577e0",
   "metadata": {},
   "source": [
    "# Creating calculator"
   ]
  },
  {
   "cell_type": "code",
   "execution_count": null,
   "id": "b478f59f",
   "metadata": {},
   "outputs": [],
   "source": [
    "from tkinter import *"
   ]
  },
  {
   "cell_type": "code",
   "execution_count": null,
   "id": "a4e11671",
   "metadata": {},
   "outputs": [],
   "source": [
    "window=Tk()"
   ]
  },
  {
   "cell_type": "code",
   "execution_count": null,
   "id": "fb3987c6",
   "metadata": {},
   "outputs": [],
   "source": [
    "def addition():\n",
    "    a=int(entry1.get())\n",
    "    b=int(entry2.get())"
   ]
  }
 ],
 "metadata": {
  "kernelspec": {
   "display_name": "Python 3 (ipykernel)",
   "language": "python",
   "name": "python3"
  },
  "language_info": {
   "codemirror_mode": {
    "name": "ipython",
    "version": 3
   },
   "file_extension": ".py",
   "mimetype": "text/x-python",
   "name": "python",
   "nbconvert_exporter": "python",
   "pygments_lexer": "ipython3",
   "version": "3.11.5"
  }
 },
 "nbformat": 4,
 "nbformat_minor": 5
}
