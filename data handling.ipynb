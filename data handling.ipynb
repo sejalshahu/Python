{
 "cells": [
  {
   "cell_type": "markdown",
   "id": "cc2ea16d",
   "metadata": {},
   "source": [
    "# Find datatype"
   ]
  },
  {
   "cell_type": "code",
   "execution_count": 14,
   "id": "8b5899ef",
   "metadata": {},
   "outputs": [
    {
     "name": "stdout",
     "output_type": "stream",
     "text": [
      "hello python 123 1.23 True 123\n",
      "<class 'str'>\n",
      "<class 'int'>\n",
      "<class 'float'>\n",
      "<class 'bool'>\n",
      "<class 'str'>\n"
     ]
    }
   ],
   "source": [
    "\n",
    "x=\"hello python\"\n",
    "y=123\n",
    "z=1.23\n",
    "a=True\n",
    "b=\"123\"\n",
    "print(x,y,z,a,b)\n",
    "print(type(x))\n",
    "print(type(y))\n",
    "print(type(z))\n",
    "print(type(a))\n",
    "print(type(b))"
   ]
  },
  {
   "cell_type": "code",
   "execution_count": 3,
   "id": "bf4db125",
   "metadata": {},
   "outputs": [
    {
     "name": "stdout",
     "output_type": "stream",
     "text": [
      "sum is 18\n",
      "difference is 12\n",
      "product is 45\n",
      "division is 5.0\n",
      "reminder is 0\n",
      "power is 3375\n",
      "floor division 5\n"
     ]
    }
   ],
   "source": [
    "a=15\n",
    "b=3\n",
    "c=a+b\n",
    "print(\"sum is\",c)\n",
    "\n",
    "c=a-b\n",
    "print(\"difference is\",c) \n",
    "\n",
    "c=a*b\n",
    "print(\"product is\",c)\n",
    "\n",
    "c=a/b\n",
    "print(\"division is\",c)\n",
    "\n",
    "c=a%b\n",
    "print(\"reminder is\",c)\n",
    "\n",
    "c=a**b\n",
    "print(\"power is\",c)\n",
    "\n",
    "c=a//b\n",
    "print(\"floor division\",c)\n"
   ]
  },
  {
   "cell_type": "code",
   "execution_count": 6,
   "id": "4adf33ab",
   "metadata": {},
   "outputs": [
    {
     "name": "stdout",
     "output_type": "stream",
     "text": [
      "enter 1st no23\n",
      "enter 2nd no21\n",
      "addition is 44\n",
      "substraction is 2\n",
      "multiplication is 483\n",
      "division is 1.0952380952380953\n"
     ]
    }
   ],
   "source": [
    "a=int(input(\"enter 1st no\"))\n",
    "b=int(input(\"enter 2nd no\"))\n",
    "c=a+b\n",
    "print(\"addition is\",c)\n",
    "\n",
    "c=a-b\n",
    "print(\"substraction is\",c)\n",
    "\n",
    "c=a*b\n",
    "print(\"multiplication is\",c)\n",
    "\n",
    "c=a/b\n",
    "print(\"division is\",c)"
   ]
  },
  {
   "cell_type": "code",
   "execution_count": 8,
   "id": "aa5996df",
   "metadata": {},
   "outputs": [
    {
     "name": "stdout",
     "output_type": "stream",
     "text": [
      "area of rectangle is 900\n"
     ]
    }
   ],
   "source": [
    "#length,width,area\n",
    "length=25\n",
    "width=36\n",
    "area_of_rectangle=length*width\n",
    "print(\"area of rectangle is\",area_of_rectangle)\n"
   ]
  },
  {
   "cell_type": "code",
   "execution_count": 10,
   "id": "abc789eb",
   "metadata": {},
   "outputs": [
    {
     "name": "stdout",
     "output_type": "stream",
     "text": [
      "perimeter of rectangle 3306\n"
     ]
    }
   ],
   "source": [
    "#find out perimeter of a rectangle\n",
    "length=19\n",
    "width=87\n",
    "perimeter_of_rectangle=2*(length*width)\n",
    "print(\"perimeter of rectangle\",perimeter_of_rectangle)"
   ]
  },
  {
   "cell_type": "code",
   "execution_count": null,
   "id": "71690211",
   "metadata": {
    "collapsed": true
   },
   "outputs": [],
   "source": []
  },
  {
   "cell_type": "raw",
   "id": "322e2871",
   "metadata": {},
   "source": []
  },
  {
   "cell_type": "code",
   "execution_count": 11,
   "id": "e75028cc",
   "metadata": {},
   "outputs": [
    {
     "name": "stdout",
     "output_type": "stream",
     "text": [
      "area of circle 9156.24\n"
     ]
    }
   ],
   "source": [
    "#area of  circle\n",
    "redius=54\n",
    "pi=3.14\n",
    "area_of_circle=pi*redius*redius\n",
    "print(\"area of circle\",area_of_circle)"
   ]
  },
  {
   "cell_type": "code",
   "execution_count": 13,
   "id": "7f5a089b",
   "metadata": {},
   "outputs": [
    {
     "name": "stdout",
     "output_type": "stream",
     "text": [
      "perimeter of circle 213.52\n"
     ]
    }
   ],
   "source": [
    "#perimeter of circle\n",
    "pi=3.14\n",
    "redius=34\n",
    "perimeter_of_circle=2*pi*redius\n",
    "print(\"perimeter of circle\",perimeter_of_circle)"
   ]
  },
  {
   "cell_type": "code",
   "execution_count": null,
   "id": "a03f24a5",
   "metadata": {},
   "outputs": [],
   "source": []
  }
 ],
 "metadata": {
  "kernelspec": {
   "display_name": "Python 3 (ipykernel)",
   "language": "python",
   "name": "python3"
  },
  "language_info": {
   "codemirror_mode": {
    "name": "ipython",
    "version": 3
   },
   "file_extension": ".py",
   "mimetype": "text/x-python",
   "name": "python",
   "nbconvert_exporter": "python",
   "pygments_lexer": "ipython3",
   "version": "3.11.4"
  }
 },
 "nbformat": 4,
 "nbformat_minor": 5
}
