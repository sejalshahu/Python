{
 "cells": [
  {
   "cell_type": "code",
   "execution_count": 1,
   "id": "e8aa4482",
   "metadata": {},
   "outputs": [
    {
     "name": "stdout",
     "output_type": "stream",
     "text": [
      "['ArithmeticError', 'AssertionError', 'AttributeError', 'BaseException', 'BaseExceptionGroup', 'BlockingIOError', 'BrokenPipeError', 'BufferError', 'BytesWarning', 'ChildProcessError', 'ConnectionAbortedError', 'ConnectionError', 'ConnectionRefusedError', 'ConnectionResetError', 'DeprecationWarning', 'EOFError', 'Ellipsis', 'EncodingWarning', 'EnvironmentError', 'Exception', 'ExceptionGroup', 'False', 'FileExistsError', 'FileNotFoundError', 'FloatingPointError', 'FutureWarning', 'GeneratorExit', 'IOError', 'ImportError', 'ImportWarning', 'IndentationError', 'IndexError', 'InterruptedError', 'IsADirectoryError', 'KeyError', 'KeyboardInterrupt', 'LookupError', 'MemoryError', 'ModuleNotFoundError', 'NameError', 'None', 'NotADirectoryError', 'NotImplemented', 'NotImplementedError', 'OSError', 'OverflowError', 'PendingDeprecationWarning', 'PermissionError', 'ProcessLookupError', 'RecursionError', 'ReferenceError', 'ResourceWarning', 'RuntimeError', 'RuntimeWarning', 'StopAsyncIteration', 'StopIteration', 'SyntaxError', 'SyntaxWarning', 'SystemError', 'SystemExit', 'TabError', 'TimeoutError', 'True', 'TypeError', 'UnboundLocalError', 'UnicodeDecodeError', 'UnicodeEncodeError', 'UnicodeError', 'UnicodeTranslateError', 'UnicodeWarning', 'UserWarning', 'ValueError', 'Warning', 'WindowsError', 'ZeroDivisionError', '__IPYTHON__', '__build_class__', '__debug__', '__doc__', '__import__', '__loader__', '__name__', '__package__', '__spec__', 'abs', 'aiter', 'all', 'anext', 'any', 'ascii', 'bin', 'bool', 'breakpoint', 'bytearray', 'bytes', 'callable', 'chr', 'classmethod', 'compile', 'complex', 'copyright', 'credits', 'delattr', 'dict', 'dir', 'display', 'divmod', 'enumerate', 'eval', 'exec', 'execfile', 'filter', 'float', 'format', 'frozenset', 'get_ipython', 'getattr', 'globals', 'hasattr', 'hash', 'help', 'hex', 'id', 'input', 'int', 'isinstance', 'issubclass', 'iter', 'len', 'license', 'list', 'locals', 'map', 'max', 'memoryview', 'min', 'next', 'object', 'oct', 'open', 'ord', 'pow', 'print', 'property', 'range', 'repr', 'reversed', 'round', 'runfile', 'set', 'setattr', 'slice', 'sorted', 'staticmethod', 'str', 'sum', 'super', 'tuple', 'type', 'vars', 'zip']\n"
     ]
    }
   ],
   "source": [
    "print(dir(locals()[\"__builtins__\"]))"
   ]
  },
  {
   "cell_type": "markdown",
   "id": "46f93368",
   "metadata": {},
   "source": [
    "# syntax error"
   ]
  },
  {
   "cell_type": "markdown",
   "id": "1d190b3a",
   "metadata": {},
   "source": [
    "#### Error caused by not following the rules or proper structure(syntax) of the language is called error or parsing error."
   ]
  },
  {
   "cell_type": "code",
   "execution_count": 6,
   "id": "24167d14",
   "metadata": {},
   "outputs": [
    {
     "ename": "SyntaxError",
     "evalue": "expected ':' (4154680913.py, line 2)",
     "output_type": "error",
     "traceback": [
      "\u001b[1;36m  Cell \u001b[1;32mIn[6], line 2\u001b[1;36m\u001b[0m\n\u001b[1;33m    if a>10\u001b[0m\n\u001b[1;37m           ^\u001b[0m\n\u001b[1;31mSyntaxError\u001b[0m\u001b[1;31m:\u001b[0m expected ':'\n"
     ]
    }
   ],
   "source": [
    "a=20\n",
    "if a>10\n",
    "    print(a)"
   ]
  },
  {
   "cell_type": "code",
   "execution_count": 10,
   "id": "075ba5fb",
   "metadata": {},
   "outputs": [
    {
     "ename": "ZeroDivisionError",
     "evalue": "division by zero",
     "output_type": "error",
     "traceback": [
      "\u001b[1;31m---------------------------------------------------------------------------\u001b[0m",
      "\u001b[1;31mZeroDivisionError\u001b[0m                         Traceback (most recent call last)",
      "Cell \u001b[1;32mIn[10], line 4\u001b[0m\n\u001b[0;32m      2\u001b[0m b\u001b[38;5;241m=\u001b[39m\u001b[38;5;241m0\u001b[39m\n\u001b[0;32m      3\u001b[0m \u001b[38;5;28;01mif\u001b[39;00m a\u001b[38;5;241m>\u001b[39m\u001b[38;5;241m10\u001b[39m:\n\u001b[1;32m----> 4\u001b[0m     a\u001b[38;5;241m/\u001b[39mb\n",
      "\u001b[1;31mZeroDivisionError\u001b[0m: division by zero"
     ]
    }
   ],
   "source": [
    "a=20\n",
    "b=0\n",
    "if a>10:\n",
    "    a/b"
   ]
  },
  {
   "cell_type": "markdown",
   "id": "3c28ba68",
   "metadata": {},
   "source": [
    "## locial error Error(exception)"
   ]
  },
  {
   "cell_type": "markdown",
   "id": "2ce05834",
   "metadata": {},
   "source": [
    "##### error that occur at runtime\n",
    "try to divide a number by zero\n",
    "try to import a module that doenst not exsit"
   ]
  },
  {
   "cell_type": "code",
   "execution_count": 11,
   "id": "cbe68b7e",
   "metadata": {},
   "outputs": [
    {
     "ename": "ModuleNotFoundError",
     "evalue": "No module named 'panda'",
     "output_type": "error",
     "traceback": [
      "\u001b[1;31m---------------------------------------------------------------------------\u001b[0m",
      "\u001b[1;31mModuleNotFoundError\u001b[0m                       Traceback (most recent call last)",
      "Cell \u001b[1;32mIn[11], line 1\u001b[0m\n\u001b[1;32m----> 1\u001b[0m \u001b[38;5;28;01mimport\u001b[39;00m \u001b[38;5;21;01mpanda\u001b[39;00m\n",
      "\u001b[1;31mModuleNotFoundError\u001b[0m: No module named 'panda'"
     ]
    }
   ],
   "source": [
    "import panda"
   ]
  },
  {
   "cell_type": "code",
   "execution_count": 12,
   "id": "23829ebd",
   "metadata": {},
   "outputs": [
    {
     "ename": "ModuleNotFoundError",
     "evalue": "No module named 'pytarch'",
     "output_type": "error",
     "traceback": [
      "\u001b[1;31m---------------------------------------------------------------------------\u001b[0m",
      "\u001b[1;31mModuleNotFoundError\u001b[0m                       Traceback (most recent call last)",
      "Cell \u001b[1;32mIn[12], line 1\u001b[0m\n\u001b[1;32m----> 1\u001b[0m \u001b[38;5;28;01mimport\u001b[39;00m \u001b[38;5;21;01mpytarch\u001b[39;00m\n",
      "\u001b[1;31mModuleNotFoundError\u001b[0m: No module named 'pytarch'"
     ]
    }
   ],
   "source": [
    "import pytarch\n",
    "#logical error becoz i havent installed lib or module"
   ]
  },
  {
   "cell_type": "markdown",
   "id": "8e891449",
   "metadata": {},
   "source": [
    "## Exception in Python"
   ]
  },
  {
   "cell_type": "markdown",
   "id": "fef70fbe",
   "metadata": {},
   "source": [
    "###### Python has many built-in exceptions that are raised when your program encounter an error \n"
   ]
  },
  {
   "cell_type": "code",
   "execution_count": 14,
   "id": "20ff03b6",
   "metadata": {},
   "outputs": [
    {
     "name": "stdout",
     "output_type": "stream",
     "text": [
      "*****\n",
      "***\n",
      "**\n",
      "*\n"
     ]
    },
    {
     "ename": "ZeroDivisionError",
     "evalue": "division by zero",
     "output_type": "error",
     "traceback": [
      "\u001b[1;31m---------------------------------------------------------------------------\u001b[0m",
      "\u001b[1;31mZeroDivisionError\u001b[0m                         Traceback (most recent call last)",
      "Cell \u001b[1;32mIn[14], line 5\u001b[0m\n\u001b[0;32m      3\u001b[0m \u001b[38;5;28mprint\u001b[39m(\u001b[38;5;124m\"\u001b[39m\u001b[38;5;124m**\u001b[39m\u001b[38;5;124m\"\u001b[39m)\n\u001b[0;32m      4\u001b[0m \u001b[38;5;28mprint\u001b[39m(\u001b[38;5;124m\"\u001b[39m\u001b[38;5;124m*\u001b[39m\u001b[38;5;124m\"\u001b[39m)\n\u001b[1;32m----> 5\u001b[0m \u001b[38;5;241m1\u001b[39m\u001b[38;5;241m/\u001b[39m\u001b[38;5;241m0\u001b[39m\n",
      "\u001b[1;31mZeroDivisionError\u001b[0m: division by zero"
     ]
    }
   ],
   "source": [
    "print(\"*****\")\n",
    "print(\"***\")\n",
    "print(\"**\")\n",
    "print(\"*\")\n",
    "1/0"
   ]
  },
  {
   "cell_type": "code",
   "execution_count": 15,
   "id": "c30a4965",
   "metadata": {},
   "outputs": [
    {
     "name": "stdout",
     "output_type": "stream",
     "text": [
      "***\n",
      "**\n"
     ]
    },
    {
     "ename": "ZeroDivisionError",
     "evalue": "division by zero",
     "output_type": "error",
     "traceback": [
      "\u001b[1;31m---------------------------------------------------------------------------\u001b[0m",
      "\u001b[1;31mZeroDivisionError\u001b[0m                         Traceback (most recent call last)",
      "Cell \u001b[1;32mIn[15], line 3\u001b[0m\n\u001b[0;32m      1\u001b[0m \u001b[38;5;28mprint\u001b[39m(\u001b[38;5;124m\"\u001b[39m\u001b[38;5;124m***\u001b[39m\u001b[38;5;124m\"\u001b[39m)\n\u001b[0;32m      2\u001b[0m \u001b[38;5;28mprint\u001b[39m(\u001b[38;5;124m\"\u001b[39m\u001b[38;5;124m**\u001b[39m\u001b[38;5;124m\"\u001b[39m)\n\u001b[1;32m----> 3\u001b[0m \u001b[38;5;241m10\u001b[39m\u001b[38;5;241m/\u001b[39m\u001b[38;5;241m0\u001b[39m\n\u001b[0;32m      4\u001b[0m \u001b[38;5;28mprint\u001b[39m(\u001b[38;5;124m\"\u001b[39m\u001b[38;5;124m11245\u001b[39m\u001b[38;5;124m\"\u001b[39m)\n",
      "\u001b[1;31mZeroDivisionError\u001b[0m: division by zero"
     ]
    }
   ],
   "source": [
    "print(\"***\")\n",
    "print(\"**\")\n",
    "10/0\n",
    "print(\"11245\")"
   ]
  },
  {
   "cell_type": "markdown",
   "id": "fb8c1ca9",
   "metadata": {},
   "source": [
    "## catching exception in python"
   ]
  },
  {
   "cell_type": "code",
   "execution_count": 16,
   "id": "24336e04",
   "metadata": {},
   "outputs": [
    {
     "ename": "SyntaxError",
     "evalue": "incomplete input (3538945779.py, line 5)",
     "output_type": "error",
     "traceback": [
      "\u001b[1;36m  Cell \u001b[1;32mIn[16], line 5\u001b[1;36m\u001b[0m\n\u001b[1;33m    except:\u001b[0m\n\u001b[1;37m               ^\u001b[0m\n\u001b[1;31mSyntaxError\u001b[0m\u001b[1;31m:\u001b[0m incomplete input\n"
     ]
    }
   ],
   "source": [
    "#sntax\n",
    "try:\n",
    "    code\n",
    "    \n",
    "except:    "
   ]
  },
  {
   "cell_type": "code",
   "execution_count": 17,
   "id": "5c05d3e7",
   "metadata": {},
   "outputs": [
    {
     "name": "stdout",
     "output_type": "stream",
     "text": [
      "**1\n",
      "***2\n",
      "***3\n",
      "**\n",
      "*4*\n",
      "**5\n",
      "**6**\n"
     ]
    }
   ],
   "source": [
    "print(\"**1\")\n",
    "print(\"***2\")\n",
    "print(\"***3\")\n",
    "try:\n",
    "    print(\"**\")\n",
    "    a=1\n",
    "    b=1\n",
    "    a/b\n",
    "except:\n",
    "    print(\"Somethging worng happend,please try aftersometime\")\n",
    "\n",
    "print(\"*4*\")\n",
    "print(\"**5\")\n",
    "print(\"**6**\")"
   ]
  },
  {
   "cell_type": "code",
   "execution_count": 18,
   "id": "a7849307",
   "metadata": {},
   "outputs": [
    {
     "name": "stdout",
     "output_type": "stream",
     "text": [
      "**1\n",
      "**2\n",
      "**3\n",
      "**\n"
     ]
    },
    {
     "ename": "ZeroDivisionError",
     "evalue": "division by zero",
     "output_type": "error",
     "traceback": [
      "\u001b[1;31m---------------------------------------------------------------------------\u001b[0m",
      "\u001b[1;31mZeroDivisionError\u001b[0m                         Traceback (most recent call last)",
      "Cell \u001b[1;32mIn[18], line 7\u001b[0m\n\u001b[0;32m      5\u001b[0m a\u001b[38;5;241m=\u001b[39m\u001b[38;5;241m1\u001b[39m\n\u001b[0;32m      6\u001b[0m b\u001b[38;5;241m=\u001b[39m\u001b[38;5;241m0\u001b[39m\n\u001b[1;32m----> 7\u001b[0m a\u001b[38;5;241m/\u001b[39mb\n\u001b[0;32m      8\u001b[0m \u001b[38;5;28mprint\u001b[39m(\u001b[38;5;124m\"\u001b[39m\u001b[38;5;124m**\u001b[39m\u001b[38;5;124m\"\u001b[39m)\n\u001b[0;32m      9\u001b[0m \u001b[38;5;28mprint\u001b[39m(\u001b[38;5;124m\"\u001b[39m\u001b[38;5;124m**4**\u001b[39m\u001b[38;5;124m\"\u001b[39m)\n",
      "\u001b[1;31mZeroDivisionError\u001b[0m: division by zero"
     ]
    }
   ],
   "source": [
    "print(\"**1\")\n",
    "print(\"**2\")\n",
    "print(\"**3\")\n",
    "print(\"**\")\n",
    "a=1\n",
    "b=0\n",
    "a/b\n",
    "print(\"**\")\n",
    "print(\"**4**\")\n",
    "print(\"**6\")"
   ]
  },
  {
   "cell_type": "code",
   "execution_count": 19,
   "id": "95371921",
   "metadata": {},
   "outputs": [
    {
     "name": "stdout",
     "output_type": "stream",
     "text": [
      "**1\n",
      "***2\n",
      "***3\n",
      "**\n",
      "something worng happend,please try after sometime\n",
      "**3\n"
     ]
    }
   ],
   "source": [
    "print(\"**1\")\n",
    "print(\"***2\")\n",
    "print(\"***3\")\n",
    "try:\n",
    "    print(\"**\")\n",
    "    a=1\n",
    "    b=0\n",
    "    a/b\n",
    "    print(\"**\")\n",
    "    print(\"***\")\n",
    "except:\n",
    "    print(\"something worng happend,please try after sometime\")\n",
    "    \n",
    "print(\"**3\")\n"
   ]
  },
  {
   "cell_type": "code",
   "execution_count": 21,
   "id": "46840913",
   "metadata": {},
   "outputs": [
    {
     "name": "stdout",
     "output_type": "stream",
     "text": [
      "**1\n",
      "***2\n",
      "***3\n",
      "**\n",
      "Raise zero division error\n",
      "78687\n",
      "90307\n"
     ]
    }
   ],
   "source": [
    "print(\"**1\")\n",
    "print(\"***2\")\n",
    "print(\"***3\")\n",
    "try:\n",
    "    print(\"**\")\n",
    "    a=1\n",
    "    b=0\n",
    "    a/b\n",
    "    print(\"**\")\n",
    "    print(\"***\")\n",
    "except:\n",
    "    pass\n",
    "    print(\"Raise zero division error\")\n",
    "print(\"78687\")\n",
    "print(\"90307\")"
   ]
  },
  {
   "cell_type": "code",
   "execution_count": 22,
   "id": "744c1298",
   "metadata": {},
   "outputs": [
    {
     "name": "stdout",
     "output_type": "stream",
     "text": [
      "['ArithmeticError', 'AssertionError', 'AttributeError', 'BaseException', 'BaseExceptionGroup', 'BlockingIOError', 'BrokenPipeError', 'BufferError', 'BytesWarning', 'ChildProcessError', 'ConnectionAbortedError', 'ConnectionError', 'ConnectionRefusedError', 'ConnectionResetError', 'DeprecationWarning', 'EOFError', 'Ellipsis', 'EncodingWarning', 'EnvironmentError', 'Exception', 'ExceptionGroup', 'False', 'FileExistsError', 'FileNotFoundError', 'FloatingPointError', 'FutureWarning', 'GeneratorExit', 'IOError', 'ImportError', 'ImportWarning', 'IndentationError', 'IndexError', 'InterruptedError', 'IsADirectoryError', 'KeyError', 'KeyboardInterrupt', 'LookupError', 'MemoryError', 'ModuleNotFoundError', 'NameError', 'None', 'NotADirectoryError', 'NotImplemented', 'NotImplementedError', 'OSError', 'OverflowError', 'PendingDeprecationWarning', 'PermissionError', 'ProcessLookupError', 'RecursionError', 'ReferenceError', 'ResourceWarning', 'RuntimeError', 'RuntimeWarning', 'StopAsyncIteration', 'StopIteration', 'SyntaxError', 'SyntaxWarning', 'SystemError', 'SystemExit', 'TabError', 'TimeoutError', 'True', 'TypeError', 'UnboundLocalError', 'UnicodeDecodeError', 'UnicodeEncodeError', 'UnicodeError', 'UnicodeTranslateError', 'UnicodeWarning', 'UserWarning', 'ValueError', 'Warning', 'WindowsError', 'ZeroDivisionError', '__IPYTHON__', '__build_class__', '__debug__', '__doc__', '__import__', '__loader__', '__name__', '__package__', '__spec__', 'abs', 'aiter', 'all', 'anext', 'any', 'ascii', 'bin', 'bool', 'breakpoint', 'bytearray', 'bytes', 'callable', 'chr', 'classmethod', 'compile', 'complex', 'copyright', 'credits', 'delattr', 'dict', 'dir', 'display', 'divmod', 'enumerate', 'eval', 'exec', 'execfile', 'filter', 'float', 'format', 'frozenset', 'get_ipython', 'getattr', 'globals', 'hasattr', 'hash', 'help', 'hex', 'id', 'input', 'int', 'isinstance', 'issubclass', 'iter', 'len', 'license', 'list', 'locals', 'map', 'max', 'memoryview', 'min', 'next', 'object', 'oct', 'open', 'ord', 'pow', 'print', 'property', 'range', 'repr', 'reversed', 'round', 'runfile', 'set', 'setattr', 'slice', 'sorted', 'staticmethod', 'str', 'sum', 'super', 'tuple', 'type', 'vars', 'zip']\n"
     ]
    }
   ],
   "source": [
    "print(list(dir(locals()['__builtins__'])))"
   ]
  },
  {
   "cell_type": "code",
   "execution_count": 23,
   "id": "e2e825e5",
   "metadata": {},
   "outputs": [
    {
     "ename": "TypeError",
     "evalue": "can only concatenate str (not \"int\") to str",
     "output_type": "error",
     "traceback": [
      "\u001b[1;31m---------------------------------------------------------------------------\u001b[0m",
      "\u001b[1;31mTypeError\u001b[0m                                 Traceback (most recent call last)",
      "Cell \u001b[1;32mIn[23], line 3\u001b[0m\n\u001b[0;32m      1\u001b[0m a\u001b[38;5;241m=\u001b[39m\u001b[38;5;124m\"\u001b[39m\u001b[38;5;124mas\u001b[39m\u001b[38;5;124m\"\u001b[39m\n\u001b[0;32m      2\u001b[0m b\u001b[38;5;241m=\u001b[39m\u001b[38;5;241m1\u001b[39m\n\u001b[1;32m----> 3\u001b[0m a\u001b[38;5;241m+\u001b[39mb\n",
      "\u001b[1;31mTypeError\u001b[0m: can only concatenate str (not \"int\") to str"
     ]
    }
   ],
   "source": [
    "a=\"as\"\n",
    "b=1\n",
    "a+b"
   ]
  },
  {
   "cell_type": "code",
   "execution_count": 25,
   "id": "2175b145",
   "metadata": {},
   "outputs": [
    {
     "name": "stdout",
     "output_type": "stream",
     "text": [
      "we cant add integer together\n"
     ]
    }
   ],
   "source": [
    "try:\n",
    "    a=\"as\"\n",
    "    b=123\n",
    "    print(a+b)\n",
    "except:\n",
    "    print(\"we cant add integer together\")"
   ]
  },
  {
   "cell_type": "code",
   "execution_count": 26,
   "id": "81b34c7e",
   "metadata": {},
   "outputs": [
    {
     "ename": "ZeroDivisionError",
     "evalue": "division by zero",
     "output_type": "error",
     "traceback": [
      "\u001b[1;31m---------------------------------------------------------------------------\u001b[0m",
      "\u001b[1;31mZeroDivisionError\u001b[0m                         Traceback (most recent call last)",
      "Cell \u001b[1;32mIn[26], line 3\u001b[0m\n\u001b[0;32m      1\u001b[0m a\u001b[38;5;241m=\u001b[39m\u001b[38;5;241m12\u001b[39m\n\u001b[0;32m      2\u001b[0m b\u001b[38;5;241m=\u001b[39m\u001b[38;5;241m0\u001b[39m\n\u001b[1;32m----> 3\u001b[0m a\u001b[38;5;241m/\u001b[39mb\n",
      "\u001b[1;31mZeroDivisionError\u001b[0m: division by zero"
     ]
    }
   ],
   "source": [
    "a=12\n",
    "b=0\n",
    "a/b"
   ]
  },
  {
   "cell_type": "code",
   "execution_count": 31,
   "id": "0bca0cfe",
   "metadata": {},
   "outputs": [
    {
     "name": "stdout",
     "output_type": "stream",
     "text": [
      "enter the no.12\n",
      "enter the no.0\n",
      "the error is: division by zero and error name is: <class 'ZeroDivisionError'>\n"
     ]
    }
   ],
   "source": [
    "try:\n",
    "    a=eval(input(\"enter the no.\"))\n",
    "    b=eval(input(\"enter the no.\"))\n",
    "    c=a/b\n",
    "    \n",
    "    print(c)\n",
    "except  Exception as ex:\n",
    "    print(\"the error is:\",ex,\"and error name is:\",type(ex))"
   ]
  },
  {
   "cell_type": "code",
   "execution_count": 32,
   "id": "208a1d0e",
   "metadata": {},
   "outputs": [
    {
     "name": "stdout",
     "output_type": "stream",
     "text": [
      "Collecting pytorch\n",
      "  Downloading pytorch-1.0.2.tar.gz (689 bytes)\n",
      "  Preparing metadata (setup.py): started\n",
      "  Preparing metadata (setup.py): finished with status 'done'\n",
      "Building wheels for collected packages: pytorch\n",
      "  Building wheel for pytorch (setup.py): started\n",
      "  Building wheel for pytorch (setup.py): finished with status 'error'\n",
      "  Running setup.py clean for pytorch\n",
      "Failed to build pytorch\n",
      "Note: you may need to restart the kernel to use updated packages.\n"
     ]
    },
    {
     "name": "stderr",
     "output_type": "stream",
     "text": [
      "  error: subprocess-exited-with-error\n",
      "  \n",
      "  python setup.py bdist_wheel did not run successfully.\n",
      "  exit code: 1\n",
      "  \n",
      "  [6 lines of output]\n",
      "  Traceback (most recent call last):\n",
      "    File \"<string>\", line 2, in <module>\n",
      "    File \"<pip-setuptools-caller>\", line 34, in <module>\n",
      "    File \"C:\\Users\\admin\\AppData\\Local\\Temp\\pip-install-vw0efzc2\\pytorch_26cab450674340bc9027e552c5bec4f9\\setup.py\", line 15, in <module>\n",
      "      raise Exception(message)\n",
      "  Exception: You tried to install \"pytorch\". The package named for PyTorch is \"torch\"\n",
      "  [end of output]\n",
      "  \n",
      "  note: This error originates from a subprocess, and is likely not a problem with pip.\n",
      "  ERROR: Failed building wheel for pytorch\n",
      "ERROR: Could not build wheels for pytorch, which is required to install pyproject.toml-based projects\n"
     ]
    }
   ],
   "source": [
    "pip install pytorch"
   ]
  },
  {
   "cell_type": "code",
   "execution_count": 34,
   "id": "c6be88d9",
   "metadata": {},
   "outputs": [
    {
     "ename": "ModuleNotFoundError",
     "evalue": "No module named 'pytorch'",
     "output_type": "error",
     "traceback": [
      "\u001b[1;31m---------------------------------------------------------------------------\u001b[0m",
      "\u001b[1;31mModuleNotFoundError\u001b[0m                       Traceback (most recent call last)",
      "Cell \u001b[1;32mIn[34], line 1\u001b[0m\n\u001b[1;32m----> 1\u001b[0m \u001b[38;5;28;01mimport\u001b[39;00m \u001b[38;5;21;01mpytorch\u001b[39;00m\n",
      "\u001b[1;31mModuleNotFoundError\u001b[0m: No module named 'pytorch'"
     ]
    }
   ],
   "source": [
    "import pytorch"
   ]
  },
  {
   "cell_type": "code",
   "execution_count": 36,
   "id": "16e1ced3",
   "metadata": {},
   "outputs": [
    {
     "name": "stdout",
     "output_type": "stream",
     "text": [
      "the error is: No module named 'ppytoch' and error name is: <class 'ModuleNotFoundError'>\n"
     ]
    }
   ],
   "source": [
    "try:\n",
    "    import pytorch\n",
    "    \n",
    "    \n",
    "except Exception as ex:\n",
    "    print(\"the error is:\",ex,\"and error name is:\",type(ex))"
   ]
  },
  {
   "cell_type": "code",
   "execution_count": 37,
   "id": "4ebaf09a",
   "metadata": {},
   "outputs": [
    {
     "ename": "ValueError",
     "evalue": "invalid literal for int() with base 10: 'a'",
     "output_type": "error",
     "traceback": [
      "\u001b[1;31m---------------------------------------------------------------------------\u001b[0m",
      "\u001b[1;31mValueError\u001b[0m                                Traceback (most recent call last)",
      "Cell \u001b[1;32mIn[37], line 1\u001b[0m\n\u001b[1;32m----> 1\u001b[0m \u001b[38;5;28mint\u001b[39m(\u001b[38;5;124m\"\u001b[39m\u001b[38;5;124ma\u001b[39m\u001b[38;5;124m\"\u001b[39m)\n",
      "\u001b[1;31mValueError\u001b[0m: invalid literal for int() with base 10: 'a'"
     ]
    }
   ],
   "source": [
    "int(\"a\")"
   ]
  },
  {
   "cell_type": "code",
   "execution_count": 39,
   "id": "5364c789",
   "metadata": {},
   "outputs": [
    {
     "data": {
      "text/plain": [
       "1"
      ]
     },
     "execution_count": 39,
     "metadata": {},
     "output_type": "execute_result"
    }
   ],
   "source": [
    "int(\"1\")"
   ]
  },
  {
   "cell_type": "code",
   "execution_count": 41,
   "id": "2a940b59",
   "metadata": {},
   "outputs": [
    {
     "name": "stdout",
     "output_type": "stream",
     "text": [
      "enter the num12\n",
      "enter  the deno0\n",
      "the program crashed becoz of this error: division by zero\n",
      "enter a no-zero deno value to proceed\n",
      "enter the num24\n",
      "enter  the deno0\n",
      "the program crashed becoz of this error: division by zero\n",
      "enter a no-zero deno value to proceed\n",
      "enter the num3\n",
      "enter  the deno0\n",
      "the program crashed becoz of this error: division by zero\n",
      "enter a no-zero deno value to proceed\n",
      "enter the num23\n",
      "enter  the deno78\n",
      "0.2948717948717949\n"
     ]
    }
   ],
   "source": [
    "def division_check():\n",
    "    try:\n",
    "        a=int(input(\"enter the num\"))\n",
    "        b=int(input(\"enter  the deno\"))\n",
    "        c=a/b\n",
    "        print(c)\n",
    "        \n",
    "    except Exception as ex1:\n",
    "        print(\"the program crashed becoz of this error:\",ex1)\n",
    "        print(\"enter a no-zero deno value to proceed\")\n",
    "        division_check() #recursion\n",
    "        \n",
    "division_check()        "
   ]
  },
  {
   "cell_type": "code",
   "execution_count": 43,
   "id": "f3c7dd0f",
   "metadata": {},
   "outputs": [
    {
     "ename": "IndentationError",
     "evalue": "expected an indented block after 'if' statement on line 1 (4187842639.py, line 2)",
     "output_type": "error",
     "traceback": [
      "\u001b[1;36m  Cell \u001b[1;32mIn[43], line 2\u001b[1;36m\u001b[0m\n\u001b[1;33m    pass\u001b[0m\n\u001b[1;37m    ^\u001b[0m\n\u001b[1;31mIndentationError\u001b[0m\u001b[1;31m:\u001b[0m expected an indented block after 'if' statement on line 1\n"
     ]
    }
   ],
   "source": [
    "if a:\n",
    "pass"
   ]
  },
  {
   "cell_type": "code",
   "execution_count": 52,
   "id": "7dba1acc",
   "metadata": {},
   "outputs": [
    {
     "name": "stdout",
     "output_type": "stream",
     "text": [
      "enter the no\"se\"\n",
      "enter the no12\n",
      "the programe is crahsed becoz of  this error unsupported operand type(s) for /: 'str' and 'int' please enter int value in a and b\n"
     ]
    }
   ],
   "source": [
    "try:\n",
    "    a=eval(input(\"enter the no\"))\n",
    "    b=eval(input(\"enter the no\"))\n",
    "    \n",
    "    c=a/b\n",
    "    print(c)\n",
    "    \n",
    "#1.Zerodivision error\n",
    "except ZeroDivisionError as prachi:\n",
    "    print(\"the programe is crahsed becoz of  this error\",prachi,\"please non-zero value in b\")\n",
    "    \n",
    "except TypeError as t1:\n",
    "    print(\"the programe is crahsed becoz of  this error\",t1,\"please enter int value in a and b\")\n",
    "    \n",
    "except SyntaxError as s1:\n",
    "    print(\"\\n the programe is crahsed becoz of  this error\",s1,\"please check the syntax\")\n",
    "    \n",
    "except Exception as ex:\n",
    "    print(\"the error is:\",ex,\"and error name is:\",type(ex))"
   ]
  },
  {
   "cell_type": "code",
   "execution_count": 54,
   "id": "7164b079",
   "metadata": {},
   "outputs": [
    {
     "ename": "SyntaxError",
     "evalue": "unterminated string literal (detected at line 1) (2427385467.py, line 1)",
     "output_type": "error",
     "traceback": [
      "\u001b[1;36m  Cell \u001b[1;32mIn[54], line 1\u001b[1;36m\u001b[0m\n\u001b[1;33m    a=\"1\u001b[0m\n\u001b[1;37m      ^\u001b[0m\n\u001b[1;31mSyntaxError\u001b[0m\u001b[1;31m:\u001b[0m unterminated string literal (detected at line 1)\n"
     ]
    }
   ],
   "source": [
    "a=\"1\n",
    "b=0"
   ]
  },
  {
   "cell_type": "code",
   "execution_count": 55,
   "id": "19b2d5ab",
   "metadata": {},
   "outputs": [
    {
     "name": "stdout",
     "output_type": "stream",
     "text": [
      "division by zero\n"
     ]
    }
   ],
   "source": [
    "try:\n",
    "    1/0\n",
    "    \n",
    "except Exception as s1:\n",
    "    print(s1)"
   ]
  },
  {
   "cell_type": "code",
   "execution_count": 56,
   "id": "bc5d41e7",
   "metadata": {},
   "outputs": [
    {
     "ename": "TypeError",
     "evalue": "unsupported operand type(s) for /: 'int' and 'str'",
     "output_type": "error",
     "traceback": [
      "\u001b[1;31m---------------------------------------------------------------------------\u001b[0m",
      "\u001b[1;31mTypeError\u001b[0m                                 Traceback (most recent call last)",
      "Cell \u001b[1;32mIn[56], line 1\u001b[0m\n\u001b[1;32m----> 1\u001b[0m \u001b[38;5;241m1\u001b[39m\u001b[38;5;241m/\u001b[39m\u001b[38;5;124m\"\u001b[39m\u001b[38;5;124ma\u001b[39m\u001b[38;5;124m\"\u001b[39m\n",
      "\u001b[1;31mTypeError\u001b[0m: unsupported operand type(s) for /: 'int' and 'str'"
     ]
    }
   ],
   "source": [
    "1/\"a\""
   ]
  },
  {
   "cell_type": "markdown",
   "id": "fc8790bf",
   "metadata": {},
   "source": [
    "## PYTHON TRY WITH ELSE CLAUSE"
   ]
  },
  {
   "cell_type": "code",
   "execution_count": 58,
   "id": "2db907fe",
   "metadata": {},
   "outputs": [
    {
     "name": "stdout",
     "output_type": "stream",
     "text": [
      "1\n",
      "2\n",
      "0.5\n",
      "2\n",
      "3\n",
      "this is last line\n"
     ]
    }
   ],
   "source": [
    "try:\n",
    "    a=1\n",
    "    b=2\n",
    "    c=a/b\n",
    "    d=a*b\n",
    "    e=a+b\n",
    "    \n",
    "except Exception as ex:\n",
    "    print(ex)\n",
    "    \n",
    "else:\n",
    "    print(a)\n",
    "    print(b)\n",
    "    print(c)\n",
    "    print(d)\n",
    "    print(e)\n",
    "    \n",
    "    \n",
    "print(\"this is last line\")   "
   ]
  },
  {
   "cell_type": "code",
   "execution_count": 60,
   "id": "39efb0a8",
   "metadata": {},
   "outputs": [
    {
     "name": "stdout",
     "output_type": "stream",
     "text": [
      "division by zero\n"
     ]
    }
   ],
   "source": [
    "try:  #when my try runs then only else runs\n",
    "    a=1\n",
    "    b=0\n",
    "    c=a/b\n",
    "    d=a*b\n",
    "    e=a+b\n",
    "    \n",
    "except Exception as ex:\n",
    "    print(ex)\n",
    "    \n",
    "else:\n",
    "    print(a)\n",
    "    print(b)\n",
    "    print(c)      \n"
   ]
  },
  {
   "cell_type": "markdown",
   "id": "43fcb364",
   "metadata": {},
   "source": [
    "# Python Try ...finally"
   ]
  },
  {
   "cell_type": "markdown",
   "id": "e3d34181",
   "metadata": {},
   "source": [
    "The try  statement in python can have an optional finally clause.The clause is executed no matter what,and is generally used to release external resourece."
   ]
  },
  {
   "cell_type": "markdown",
   "id": "7c896205",
   "metadata": {},
   "source": [
    " For example,we may be connected to a remote data center through the network or working with a file or a Greaphical User Interface(GUI)"
   ]
  },
  {
   "cell_type": "markdown",
   "id": "41e1e921",
   "metadata": {},
   "source": [
    "In all these circumstances,we must clean up the resource beforetheprogram com to a halt whether it whether it sucessfully ran or  nott. these actions (closing a file,GUI or disconnecting from network) are performed in the finally clause to guarantee the execution."
   ]
  },
  {
   "cell_type": "code",
   "execution_count": 4,
   "id": "4fda2e3e",
   "metadata": {},
   "outputs": [],
   "source": [
    "try:\n",
    "    f=open(r\"C:\\Users\\admin\\Desktop\\harshu.txt\",mode=\"r\")\n",
    "    f.read()\n",
    "    #operations\n",
    "\n",
    "finally:\n",
    "    f.close()"
   ]
  },
  {
   "cell_type": "code",
   "execution_count": 5,
   "id": "053ea454",
   "metadata": {},
   "outputs": [
    {
     "ename": "FileNotFoundError",
     "evalue": "[Errno 2] No such file or directory: 'my.text'",
     "output_type": "error",
     "traceback": [
      "\u001b[1;31m---------------------------------------------------------------------------\u001b[0m",
      "\u001b[1;31mFileNotFoundError\u001b[0m                         Traceback (most recent call last)",
      "Cell \u001b[1;32mIn[5], line 1\u001b[0m\n\u001b[1;32m----> 1\u001b[0m f\u001b[38;5;241m=\u001b[39m\u001b[38;5;28mopen\u001b[39m(\u001b[38;5;124mr\u001b[39m\u001b[38;5;124m\"\u001b[39m\u001b[38;5;124mmy.text\u001b[39m\u001b[38;5;124m\"\u001b[39m,\u001b[38;5;124m\"\u001b[39m\u001b[38;5;124mr\u001b[39m\u001b[38;5;124m\"\u001b[39m)\n\u001b[0;32m      2\u001b[0m f\u001b[38;5;241m.\u001b[39mread()\n\u001b[0;32m      3\u001b[0m f\u001b[38;5;241m.\u001b[39mclose()\n",
      "File \u001b[1;32m~\\anaconda3\\Lib\\site-packages\\IPython\\core\\interactiveshell.py:284\u001b[0m, in \u001b[0;36m_modified_open\u001b[1;34m(file, *args, **kwargs)\u001b[0m\n\u001b[0;32m    277\u001b[0m \u001b[38;5;28;01mif\u001b[39;00m file \u001b[38;5;129;01min\u001b[39;00m {\u001b[38;5;241m0\u001b[39m, \u001b[38;5;241m1\u001b[39m, \u001b[38;5;241m2\u001b[39m}:\n\u001b[0;32m    278\u001b[0m     \u001b[38;5;28;01mraise\u001b[39;00m \u001b[38;5;167;01mValueError\u001b[39;00m(\n\u001b[0;32m    279\u001b[0m         \u001b[38;5;124mf\u001b[39m\u001b[38;5;124m\"\u001b[39m\u001b[38;5;124mIPython won\u001b[39m\u001b[38;5;124m'\u001b[39m\u001b[38;5;124mt let you open fd=\u001b[39m\u001b[38;5;132;01m{\u001b[39;00mfile\u001b[38;5;132;01m}\u001b[39;00m\u001b[38;5;124m by default \u001b[39m\u001b[38;5;124m\"\u001b[39m\n\u001b[0;32m    280\u001b[0m         \u001b[38;5;124m\"\u001b[39m\u001b[38;5;124mas it is likely to crash IPython. If you know what you are doing, \u001b[39m\u001b[38;5;124m\"\u001b[39m\n\u001b[0;32m    281\u001b[0m         \u001b[38;5;124m\"\u001b[39m\u001b[38;5;124myou can use builtins\u001b[39m\u001b[38;5;124m'\u001b[39m\u001b[38;5;124m open.\u001b[39m\u001b[38;5;124m\"\u001b[39m\n\u001b[0;32m    282\u001b[0m     )\n\u001b[1;32m--> 284\u001b[0m \u001b[38;5;28;01mreturn\u001b[39;00m io_open(file, \u001b[38;5;241m*\u001b[39margs, \u001b[38;5;241m*\u001b[39m\u001b[38;5;241m*\u001b[39mkwargs)\n",
      "\u001b[1;31mFileNotFoundError\u001b[0m: [Errno 2] No such file or directory: 'my.text'"
     ]
    }
   ],
   "source": [
    "f=open(r\"my.text\",\"r\")\n",
    "f.read()\n",
    "f.close()"
   ]
  },
  {
   "cell_type": "code",
   "execution_count": 6,
   "id": "6ce5d113",
   "metadata": {},
   "outputs": [
    {
     "name": "stdout",
     "output_type": "stream",
     "text": [
      "1\n",
      "4\n",
      "0.25\n",
      "the code is complete\n"
     ]
    }
   ],
   "source": [
    "try:\n",
    "    a=1\n",
    "    b=4\n",
    "    c=a/b\n",
    "    d=a*b\n",
    "    e=a+b\n",
    "      \n",
    "except Exception as ex:\n",
    "    print(ex)\n",
    "else:\n",
    "    print(a)\n",
    "    print(b)\n",
    "    print(c)\n",
    "    \n",
    "finally:\n",
    "    print(\"the code is complete\")"
   ]
  },
  {
   "cell_type": "code",
   "execution_count": 7,
   "id": "3720a8b6",
   "metadata": {},
   "outputs": [
    {
     "name": "stdout",
     "output_type": "stream",
     "text": [
      "division by zero\n",
      "the code is complete\n"
     ]
    }
   ],
   "source": [
    "try:\n",
    "    a=1\n",
    "    b=0\n",
    "    c=a/b\n",
    "    d=a*b\n",
    "    e=a+b\n",
    "      \n",
    "except Exception as ex:\n",
    "    print(ex)\n",
    "else:\n",
    "    print(a)\n",
    "    print(b)\n",
    "    print(c)\n",
    "    \n",
    "finally:\n",
    "    print(\"the code is complete\")"
   ]
  },
  {
   "cell_type": "markdown",
   "id": "4bb496ae",
   "metadata": {},
   "source": [
    "# Python Custom Exceptions"
   ]
  },
  {
   "cell_type": "markdown",
   "id": "38c4443c",
   "metadata": {},
   "source": [
    "Python has numerous built-in exception that force your program to output an error when something in the program goes worng."
   ]
  },
  {
   "cell_type": "markdown",
   "id": "6fa31fa4",
   "metadata": {},
   "source": [
    "However, sometime you may need to create your owncustom exception that serve your purpose."
   ]
  },
  {
   "cell_type": "markdown",
   "id": "5c1d827e",
   "metadata": {},
   "source": [
    "# Creating Custom Exceptions"
   ]
  },
  {
   "cell_type": "markdown",
   "id": "f12f2cd3",
   "metadata": {},
   "source": [
    "In Python, users can define custom exception by creating a new class. This exception lass has to be derived , either directly or indirectly,"
   ]
  },
  {
   "cell_type": "markdown",
   "id": "62be8592",
   "metadata": {},
   "source": [
    "## Syntax"
   ]
  },
  {
   "cell_type": "code",
   "execution_count": 15,
   "id": "84a5aa10",
   "metadata": {},
   "outputs": [
    {
     "name": "stdout",
     "output_type": "stream",
     "text": [
      "This is my custom exception or error\n"
     ]
    }
   ],
   "source": [
    "class CustomException(Exception):\n",
    "    \"\"\"my custom exception class\"\"\"\n",
    "try:\n",
    "    raise CustomException('This is my custom exception or error')\n",
    "except CustomException as ex:\n",
    "    print(ex)"
   ]
  },
  {
   "cell_type": "code",
   "execution_count": 17,
   "id": "e614a39a",
   "metadata": {},
   "outputs": [
    {
     "name": "stdout",
     "output_type": "stream",
     "text": [
      "enter a positive no:-9099\n"
     ]
    },
    {
     "ename": "Error_for_negtaive",
     "evalue": "You have  enter negative number , please enter positive no.",
     "output_type": "error",
     "traceback": [
      "\u001b[1;31m---------------------------------------------------------------------------\u001b[0m",
      "\u001b[1;31mError_for_negtaive\u001b[0m                        Traceback (most recent call last)",
      "Cell \u001b[1;32mIn[17], line 5\u001b[0m\n\u001b[0;32m      3\u001b[0m a\u001b[38;5;241m=\u001b[39m\u001b[38;5;28mint\u001b[39m(\u001b[38;5;28minput\u001b[39m(\u001b[38;5;124m'\u001b[39m\u001b[38;5;124menter a positive no:\u001b[39m\u001b[38;5;124m'\u001b[39m))\n\u001b[0;32m      4\u001b[0m \u001b[38;5;28;01mif\u001b[39;00m a\u001b[38;5;241m<\u001b[39m\u001b[38;5;241m0\u001b[39m:  \n\u001b[1;32m----> 5\u001b[0m     \u001b[38;5;28;01mraise\u001b[39;00m Error_for_negtaive(\u001b[38;5;124m\"\u001b[39m\u001b[38;5;124mYou have  enter negative number , please enter positive no.\u001b[39m\u001b[38;5;124m\"\u001b[39m)\n\u001b[0;32m      6\u001b[0m \u001b[38;5;28;01melse\u001b[39;00m:\n\u001b[0;32m      7\u001b[0m     \u001b[38;5;28mprint\u001b[39m(a)\n",
      "\u001b[1;31mError_for_negtaive\u001b[0m: You have  enter negative number , please enter positive no."
     ]
    }
   ],
   "source": [
    "class Error_for_negtaive(Exception):\n",
    "    pass\n",
    "a=int(input('enter a positive no:'))\n",
    "if a<0:  \n",
    "    raise Error_for_negtaive(\"You have  enter negative number , please enter positive no.\")\n",
    "else:\n",
    "    print(a)"
   ]
  },
  {
   "cell_type": "code",
   "execution_count": 20,
   "id": "1eef704e",
   "metadata": {},
   "outputs": [
    {
     "name": "stdout",
     "output_type": "stream",
     "text": [
      "enter a positive no:-90\n",
      "Not a positive no,enter positive no\n"
     ]
    }
   ],
   "source": [
    "class Error_for_negtaive(Exception):\n",
    "    pass\n",
    "try:\n",
    "    a=int(input('enter a positive no:'))\n",
    "    if a<0:\n",
    "        raise Error_for_negtaive\n",
    "    else:\n",
    "        print(a,\"is positive number\")\n",
    "except Error_for_negtaive:\n",
    "    print((\"Not a positive no,enter positive no\"))"
   ]
  },
  {
   "cell_type": "code",
   "execution_count": 21,
   "id": "1d4927fa",
   "metadata": {},
   "outputs": [
    {
     "name": "stdout",
     "output_type": "stream",
     "text": [
      "enter a positive no:-34\n"
     ]
    }
   ],
   "source": [
    "class Error_for_negtaive(Exception):\n",
    "    pass\n",
    "try:\n",
    "    a=int(input('enter a positive no:'))\n",
    "    if a<0:\n",
    "        raise Error_for_negtaive\n",
    "    else:\n",
    "        print(a,\"is positive number\")\n",
    "except Error_for_negtaive:\n",
    "    pass"
   ]
  },
  {
   "cell_type": "code",
   "execution_count": 23,
   "id": "de114f28",
   "metadata": {},
   "outputs": [
    {
     "name": "stdout",
     "output_type": "stream",
     "text": [
      "enter 1st no.6\n",
      "enter 2nd no.0\n"
     ]
    },
    {
     "ename": "ZeroDivisionError",
     "evalue": "You trying to divide by zero",
     "output_type": "error",
     "traceback": [
      "\u001b[1;31m---------------------------------------------------------------------------\u001b[0m",
      "\u001b[1;31mZeroDivisionError\u001b[0m                         Traceback (most recent call last)",
      "Cell \u001b[1;32mIn[23], line 4\u001b[0m\n\u001b[0;32m      2\u001b[0m b\u001b[38;5;241m=\u001b[39m\u001b[38;5;28mint\u001b[39m(\u001b[38;5;28minput\u001b[39m(\u001b[38;5;124m\"\u001b[39m\u001b[38;5;124menter 2nd no.\u001b[39m\u001b[38;5;124m\"\u001b[39m))\n\u001b[0;32m      3\u001b[0m \u001b[38;5;28;01mif\u001b[39;00m b\u001b[38;5;241m==\u001b[39m\u001b[38;5;241m0\u001b[39m:\n\u001b[1;32m----> 4\u001b[0m     \u001b[38;5;28;01mraise\u001b[39;00m \u001b[38;5;167;01mZeroDivisionError\u001b[39;00m(\u001b[38;5;124m\"\u001b[39m\u001b[38;5;124mYou trying to divide by zero\u001b[39m\u001b[38;5;124m\"\u001b[39m)\n\u001b[0;32m      5\u001b[0m \u001b[38;5;28;01melse\u001b[39;00m:\n\u001b[0;32m      6\u001b[0m     \u001b[38;5;28mprint\u001b[39m(a\u001b[38;5;241m/\u001b[39mb)\n",
      "\u001b[1;31mZeroDivisionError\u001b[0m: You trying to divide by zero"
     ]
    }
   ],
   "source": [
    "a=int(input(\"enter 1st no.\"))\n",
    "b=int(input(\"enter 2nd no.\"))\n",
    "if b==0:\n",
    "    raise ZeroDivisionError(\"You trying to divide by zero\")\n",
    "else:\n",
    "    print(a/b)"
   ]
  },
  {
   "cell_type": "code",
   "execution_count": 8,
   "id": "15d62419",
   "metadata": {},
   "outputs": [
    {
     "name": "stdout",
     "output_type": "stream",
     "text": [
      "enter 1st no:12\n",
      "enter 2nd no.:0\n",
      "You are trying to divide by zero\n"
     ]
    }
   ],
   "source": [
    "class Zero_Division(Exception):\n",
    "    pass\n",
    "   \n",
    "try:   \n",
    "    a=int(input(\"enter 1st no:\"))\n",
    "    b=int(input(\"enter 2nd no.:\"))\n",
    "   \n",
    "    if b==0:\n",
    "        raise Zero_Division\n",
    "    else:\n",
    "        c=a/b\n",
    "        print(c)\n",
    "except Zero_Division:\n",
    "    print(\"You are trying to divide by zero\")\n",
    "    \n"
   ]
  },
  {
   "cell_type": "code",
   "execution_count": 12,
   "id": "62cf681b",
   "metadata": {},
   "outputs": [
    {
     "name": "stdout",
     "output_type": "stream",
     "text": [
      "enter the amount you want to withdraw: 1456\n",
      "You remaining balance is: 8544 and you have withdraw amount sucessfully\n",
      "have a good day\n"
     ]
    }
   ],
   "source": [
    "class balanceexception(Exception):\n",
    "    pass\n",
    "def Checkbalance():\n",
    "    money=10000\n",
    "    money_to_withdraw=int(input(\"enter the amount you want to withdraw: \"))\n",
    "    remaining_balance=money-money_to_withdraw\n",
    "    if remaining_balance<2000:\n",
    "        raise balanceexception\n",
    "    else:\n",
    "        return remaining_balance\n",
    "try:\n",
    "    remaining_balance=Checkbalance()\n",
    "    \n",
    "except balanceexception as be:\n",
    "    print(\"Insufficent remaining balance,you cannot withdraw\")\n",
    "    \n",
    "else:\n",
    "    print(\"You remaining balance is:\",remaining_balance,\"and you have withdraw amount sucessfully\")\n",
    "finally:\n",
    "    print(\"have a good day\")"
   ]
  },
  {
   "cell_type": "code",
   "execution_count": 14,
   "id": "0c6fb2b8",
   "metadata": {},
   "outputs": [
    {
     "name": "stdout",
     "output_type": "stream",
     "text": [
      "enter the amount you want to withdraw: 678\n",
      "You remaining balance is: 9322 and you have withdraw amount sucessfully\n",
      "have a good day\n"
     ]
    }
   ],
   "source": [
    "class balanceexception(Exception):\n",
    "    pass\n",
    "try:\n",
    "    def Checkbalance():\n",
    "        money=10000\n",
    "        money_to_withdraw=int(input(\"enter the amount you want to withdraw: \"))\n",
    "        remaining_balance=money-money_to_withdraw\n",
    "        if remaining_balance<2000:\n",
    "            raise balanceexception\n",
    "        else:\n",
    "            return remaining_balance\n",
    "    remaining_balance=Checkbalance()\n",
    "    \n",
    "except balanceexception as be:\n",
    "    print(\"Insufficent remaining balance,you cannot withdraw\")\n",
    "    \n",
    "else:\n",
    "    print(\"You remaining balance is:\",remaining_balance,\"and you have withdraw amount sucessfully\")\n",
    "finally:\n",
    "    print(\"have a good day\")"
   ]
  },
  {
   "cell_type": "code",
   "execution_count": 17,
   "id": "47cb320c",
   "metadata": {},
   "outputs": [
    {
     "name": "stdout",
     "output_type": "stream",
     "text": [
      "enter a age:12\n",
      "Exception occurred:Invalid Age\n"
     ]
    }
   ],
   "source": [
    "#define python user-defined exceptions\n",
    "class InvalidAgeException(Exception): #raised when the input value is less than 18\n",
    "    pass\n",
    "\n",
    "try:\n",
    "    age=int(input(\"enter a age:\"))\n",
    "    if age<18:\n",
    "        raise InvalidAgeException\n",
    "    else:\n",
    "        print(\"Eligible to vote\")\n",
    "except InvalidAgeException:\n",
    "    print(\"Exception occurred:Invalid Age\")"
   ]
  },
  {
   "cell_type": "markdown",
   "id": "b75c98f2",
   "metadata": {},
   "source": []
  }
 ],
 "metadata": {
  "kernelspec": {
   "display_name": "Python 3 (ipykernel)",
   "language": "python",
   "name": "python3"
  },
  "language_info": {
   "codemirror_mode": {
    "name": "ipython",
    "version": 3
   },
   "file_extension": ".py",
   "mimetype": "text/x-python",
   "name": "python",
   "nbconvert_exporter": "python",
   "pygments_lexer": "ipython3",
   "version": "3.11.4"
  }
 },
 "nbformat": 4,
 "nbformat_minor": 5
}
