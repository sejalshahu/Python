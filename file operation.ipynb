{
 "cells": [
  {
   "cell_type": "markdown",
   "id": "fdb8795a",
   "metadata": {},
   "source": [
    "## To read text files"
   ]
  },
  {
   "cell_type": "code",
   "execution_count": null,
   "id": "9b8497ac",
   "metadata": {},
   "outputs": [],
   "source": [
    "#syntax\n",
    "#variable_to_file=open(r\"path\",\"mode\")"
   ]
  },
  {
   "cell_type": "markdown",
   "id": "f4b82dd9",
   "metadata": {},
   "source": [
    "## \"r\":read() mode"
   ]
  },
  {
   "cell_type": "code",
   "execution_count": 16,
   "id": "19acef09",
   "metadata": {},
   "outputs": [
    {
     "data": {
      "text/plain": [
       "'hii my name is sejal\\n'"
      ]
     },
     "execution_count": 16,
     "metadata": {},
     "output_type": "execute_result"
    }
   ],
   "source": [
    "file=open(r\"C:\\Users\\admin\\Desktop\\sejal python\\sejal.txt\",\"r\")\n",
    "file.read()"
   ]
  },
  {
   "cell_type": "code",
   "execution_count": 17,
   "id": "869f9816",
   "metadata": {},
   "outputs": [],
   "source": [
    "file.close()"
   ]
  },
  {
   "cell_type": "markdown",
   "id": "8ad0c9af",
   "metadata": {},
   "source": [
    "## \"w\":write() mode"
   ]
  },
  {
   "cell_type": "code",
   "execution_count": 21,
   "id": "17602d50",
   "metadata": {},
   "outputs": [],
   "source": [
    "file=open(r\"C:\\Users\\admin\\Desktop\\sejal python\\sejal.txt\",\"w\")"
   ]
  },
  {
   "cell_type": "code",
   "execution_count": 22,
   "id": "86f8f64d",
   "metadata": {},
   "outputs": [],
   "source": [
    "file.write(\"i am sejal shahu\")\n",
    "file.close()"
   ]
  },
  {
   "cell_type": "code",
   "execution_count": 32,
   "id": "58cf92fe",
   "metadata": {},
   "outputs": [],
   "source": [
    "file=open(r\"C:\\Users\\admin\\Desktop\\sejal python\\sejal.txt\",\"w\") \n",
    "file.write(\"i am learning python full stack development\")\n",
    "file.close()"
   ]
  },
  {
   "cell_type": "markdown",
   "id": "9a260580",
   "metadata": {},
   "source": [
    "## Append mode\n"
   ]
  },
  {
   "cell_type": "code",
   "execution_count": 33,
   "id": "c05d2572",
   "metadata": {},
   "outputs": [],
   "source": [
    "file=open(r\"C:\\Users\\admin\\Desktop\\sejal python\\sejal.txt\",\"a\")\n",
    "file.write(\"\\nhello python\")\n",
    "file.close()"
   ]
  },
  {
   "cell_type": "markdown",
   "id": "3d37dea9",
   "metadata": {},
   "source": [
    "## \"r+\": read() and write() mode"
   ]
  },
  {
   "cell_type": "code",
   "execution_count": 34,
   "id": "f56c58ba",
   "metadata": {},
   "outputs": [],
   "source": [
    "file=open(r\"C:\\Users\\admin\\Desktop\\sejal python\\sejal.txt\",\"r+\")\n",
    "file.write(\"\\npython\")\n",
    "file.close()"
   ]
  },
  {
   "cell_type": "code",
   "execution_count": 38,
   "id": "b7ef4818",
   "metadata": {},
   "outputs": [],
   "source": [
    "with open(r\"C:\\Users\\admin\\Desktop\\sejal python\\sejal.txt\",\"w\") as a:\n",
    "    a.write(\"hello harshu\")"
   ]
  },
  {
   "cell_type": "code",
   "execution_count": 39,
   "id": "f068dde6",
   "metadata": {},
   "outputs": [],
   "source": [
    "l=[\"This is Pune\\n\",\"This is nagpur\\n\",\"This is mumbai\\n\"]"
   ]
  },
  {
   "cell_type": "code",
   "execution_count": 40,
   "id": "e3c06f4d",
   "metadata": {},
   "outputs": [],
   "source": [
    "with open(r\"C:\\Users\\admin\\Desktop\\sejal python\\sejal.txt\",\"w\") as a:\n",
    "    a.writelines(l)"
   ]
  },
  {
   "cell_type": "markdown",
   "id": "c7cd543a",
   "metadata": {},
   "source": [
    "## Top read Excel files in python"
   ]
  },
  {
   "cell_type": "markdown",
   "id": "7ab0f000",
   "metadata": {},
   "source": [
    "#### pandas module"
   ]
  },
  {
   "cell_type": "code",
   "execution_count": null,
   "id": "968239cc",
   "metadata": {},
   "outputs": [],
   "source": [
    "import pandas as pd"
   ]
  }
 ],
 "metadata": {
  "kernelspec": {
   "display_name": "Python 3 (ipykernel)",
   "language": "python",
   "name": "python3"
  },
  "language_info": {
   "codemirror_mode": {
    "name": "ipython",
    "version": 3
   },
   "file_extension": ".py",
   "mimetype": "text/x-python",
   "name": "python",
   "nbconvert_exporter": "python",
   "pygments_lexer": "ipython3",
   "version": "3.11.4"
  }
 },
 "nbformat": 4,
 "nbformat_minor": 5
}
