{
 "cells": [
  {
   "cell_type": "markdown",
   "id": "5da9bde9",
   "metadata": {},
   "source": [
    "## 1. write a python program to sum three numbers."
   ]
  },
  {
   "cell_type": "code",
   "execution_count": 1,
   "id": "cb6002d2",
   "metadata": {},
   "outputs": [
    {
     "name": "stdout",
     "output_type": "stream",
     "text": [
      "Sum of three number is: 133\n"
     ]
    }
   ],
   "source": [
    "num1=34\n",
    "num2=56\n",
    "num3=43\n",
    "sum=num1+num2+num3\n",
    "print(\"Sum of three number is:\",sum)"
   ]
  },
  {
   "cell_type": "markdown",
   "id": "3f574f32",
   "metadata": {},
   "source": [
    "## 2.x=890 convert the data type integer into string y=\"125\" convert the data type string into integer z=\"my name is sarthak\"..can i convert the type of this string into integer? try it and give reason why it did't convert the data type."
   ]
  },
  {
   "cell_type": "code",
   "execution_count": 7,
   "id": "41c0f756",
   "metadata": {},
   "outputs": [
    {
     "data": {
      "text/plain": [
       "'890'"
      ]
     },
     "execution_count": 7,
     "metadata": {},
     "output_type": "execute_result"
    }
   ],
   "source": [
    "x=890\n",
    "str(x)"
   ]
  },
  {
   "cell_type": "code",
   "execution_count": 8,
   "id": "a6c6f9bb",
   "metadata": {},
   "outputs": [
    {
     "data": {
      "text/plain": [
       "125"
      ]
     },
     "execution_count": 8,
     "metadata": {},
     "output_type": "execute_result"
    }
   ],
   "source": [
    "y=\"125\"\n",
    "int(y)"
   ]
  },
  {
   "cell_type": "code",
   "execution_count": 9,
   "id": "fb4191ce",
   "metadata": {},
   "outputs": [
    {
     "ename": "ValueError",
     "evalue": "invalid literal for int() with base 10: 'my name is sarthak'",
     "output_type": "error",
     "traceback": [
      "\u001b[1;31m---------------------------------------------------------------------------\u001b[0m",
      "\u001b[1;31mValueError\u001b[0m                                Traceback (most recent call last)",
      "Cell \u001b[1;32mIn[9], line 2\u001b[0m\n\u001b[0;32m      1\u001b[0m z\u001b[38;5;241m=\u001b[39m\u001b[38;5;124m\"\u001b[39m\u001b[38;5;124mmy name is sarthak\u001b[39m\u001b[38;5;124m\"\u001b[39m\n\u001b[1;32m----> 2\u001b[0m \u001b[38;5;28mint\u001b[39m(z)\n",
      "\u001b[1;31mValueError\u001b[0m: invalid literal for int() with base 10: 'my name is sarthak'"
     ]
    }
   ],
   "source": [
    "z=\"my name is sarthak\"\n",
    "int(z)"
   ]
  },
  {
   "cell_type": "code",
   "execution_count": null,
   "id": "13c5966a",
   "metadata": {},
   "outputs": [],
   "source": [
    "string can not convert into integer because string contain litrals."
   ]
  },
  {
   "cell_type": "markdown",
   "id": "b21a0c35",
   "metadata": {},
   "source": [
    "## 3.using sclicing ,extract second character from the string \"abcdef\""
   ]
  },
  {
   "cell_type": "code",
   "execution_count": 11,
   "id": "1cdae18f",
   "metadata": {},
   "outputs": [
    {
     "name": "stdout",
     "output_type": "stream",
     "text": [
      "extracting second character from the string: b\n"
     ]
    }
   ],
   "source": [
    "string_1=\"abcdef\"\n",
    "print(\"Extracting second character from the string:\",string_1[1])"
   ]
  },
  {
   "cell_type": "markdown",
   "id": "23b4dda0",
   "metadata": {},
   "source": [
    "## 4.create a string greeting=\"Good morning\" and use sclicing to reverse the string."
   ]
  },
  {
   "cell_type": "code",
   "execution_count": 13,
   "id": "e44cf2b9",
   "metadata": {},
   "outputs": [
    {
     "name": "stdout",
     "output_type": "stream",
     "text": [
      "Reverse the string: gninrom dooG\n"
     ]
    }
   ],
   "source": [
    "greeting=\"Good morning\"\n",
    "print(\"Reverse the string:\",greeting[::-1])"
   ]
  },
  {
   "cell_type": "markdown",
   "id": "8f35fefc",
   "metadata": {},
   "source": [
    "## 5.create a variable word=\"Python\" and use scling to get the character \"ython\""
   ]
  },
  {
   "cell_type": "code",
   "execution_count": 14,
   "id": "13e04d56",
   "metadata": {},
   "outputs": [
    {
     "name": "stdout",
     "output_type": "stream",
     "text": [
      "Toget the character ython: ython\n"
     ]
    }
   ],
   "source": [
    "word=\"Python\"\n",
    "print(\"To get the character ython:\",word[1:])"
   ]
  },
  {
   "cell_type": "markdown",
   "id": "6096930c",
   "metadata": {},
   "source": [
    "## 6.create a list cities=[\"New Yock\",\"Los Angeles\",\"Chicago\",\"Houston\",\"Miami\"] and replace the third element with Dallas."
   ]
  },
  {
   "cell_type": "code",
   "execution_count": 25,
   "id": "4bdf1301",
   "metadata": {},
   "outputs": [
    {
     "name": "stdout",
     "output_type": "stream",
     "text": [
      "['New Yock', 'Los Angeles', 'Chicago', 'Houston', 'Miami']\n",
      "['New Yock', 'Los Angeles', 'Dallas', 'Houston', 'Miami']\n"
     ]
    }
   ],
   "source": [
    "cities=[\"New Yock\",\"Los Angeles\",\"Chicago\",\"Houston\",\"Miami\"]\n",
    "print(cities)\n",
    "cities[2]=\"Dallas\"\n",
    "print(cities)"
   ]
  },
  {
   "cell_type": "markdown",
   "id": "32dfcea9",
   "metadata": {},
   "source": [
    "## 7.using list slicing,reverse the list [5,4,3,2,1]"
   ]
  },
  {
   "cell_type": "code",
   "execution_count": 26,
   "id": "98c0689f",
   "metadata": {},
   "outputs": [
    {
     "name": "stdout",
     "output_type": "stream",
     "text": [
      "Reverse is: [1, 2, 3, 4, 5]\n"
     ]
    }
   ],
   "source": [
    "list_1=[5,4,3,2,1]\n",
    "print(\"Reverse is:\",list_1[::-1])"
   ]
  },
  {
   "cell_type": "markdown",
   "id": "e0f38400",
   "metadata": {},
   "source": [
    "## 8.Given the list number =[1,2,3,4,5[6,7,8,9,10]],access[9,10]"
   ]
  },
  {
   "cell_type": "code",
   "execution_count": 31,
   "id": "bfd10f36",
   "metadata": {},
   "outputs": [
    {
     "name": "stdout",
     "output_type": "stream",
     "text": [
      "[9, 10]\n"
     ]
    }
   ],
   "source": [
    "number=[1,2,3,4,5,[6,7,8,9,10]]\n",
    "print(number[5][3:])"
   ]
  },
  {
   "cell_type": "markdown",
   "id": "c54387b2",
   "metadata": {},
   "source": [
    "## 9.Given the string message=\"Welcome to python!\",use the strip() function to remove leading and trailing space."
   ]
  },
  {
   "cell_type": "code",
   "execution_count": 34,
   "id": "2c14b26c",
   "metadata": {},
   "outputs": [
    {
     "data": {
      "text/plain": [
       "'Welcome to python!'"
      ]
     },
     "execution_count": 34,
     "metadata": {},
     "output_type": "execute_result"
    }
   ],
   "source": [
    "message=\"   Welcome to python!   \"\n",
    "message.strip()"
   ]
  },
  {
   "cell_type": "markdown",
   "id": "3b7afbb8",
   "metadata": {},
   "source": [
    "## 10.create a string word=\"excellent\" and use the replace() function to replace \"cell\" wih \"cent\"."
   ]
  },
  {
   "cell_type": "code",
   "execution_count": 35,
   "id": "5256192d",
   "metadata": {},
   "outputs": [
    {
     "data": {
      "text/plain": [
       "'excentent'"
      ]
     },
     "execution_count": 35,
     "metadata": {},
     "output_type": "execute_result"
    }
   ],
   "source": [
    "word=\"excellent\"\n",
    "word.replace('cell','cent')"
   ]
  },
  {
   "cell_type": "markdown",
   "id": "fd3ae6f2",
   "metadata": {},
   "source": [
    "## 11.write a program that takes an integer as a input,convert its into float,perform some arthmatic operation involving both integer and float and print the result"
   ]
  },
  {
   "cell_type": "code",
   "execution_count": 37,
   "id": "0bfe50fe",
   "metadata": {},
   "outputs": [
    {
     "name": "stdout",
     "output_type": "stream",
     "text": [
      "enter any integer numbner:231\n"
     ]
    },
    {
     "data": {
      "text/plain": [
       "231.0"
      ]
     },
     "execution_count": 37,
     "metadata": {},
     "output_type": "execute_result"
    }
   ],
   "source": [
    "integer=int(input(\"enter any integer numbner:\"))\n",
    "float(integer)"
   ]
  },
  {
   "cell_type": "code",
   "execution_count": 38,
   "id": "3bcbf6fc",
   "metadata": {},
   "outputs": [
    {
     "name": "stdout",
     "output_type": "stream",
     "text": [
      "enter 1st number:23\n",
      "enter 2nd number:11.7\n",
      "Addition is: 34.7\n",
      "Substraction is: 11.3\n",
      "Multiplication is: 269.09999999999997\n",
      "Division is: 1.965811965811966\n",
      "Powers is: 8554914656739840.0\n",
      "Floor division is: 1.0\n",
      "Modulus is: 11.3\n"
     ]
    }
   ],
   "source": [
    "a=int(input(\"enter 1st number:\"))\n",
    "b=float(input(\"enter 2nd number:\"))\n",
    "c=a+b\n",
    "print(\"Addition is:\",c)\n",
    "c=a-b\n",
    "print(\"Substraction is:\",c)\n",
    "c=a*b\n",
    "print(\"Multiplication is:\",c)\n",
    "c=a/b\n",
    "print(\"Division is:\",c)\n",
    "c=a**b\n",
    "print(\"Powers is:\",c)\n",
    "c=a//b\n",
    "print(\"Floor division is:\",c)\n",
    "c=a%b\n",
    "print(\"Modulus is:\",c)"
   ]
  },
  {
   "cell_type": "markdown",
   "id": "5c1e44a3",
   "metadata": {},
   "source": [
    "## 12.Write a program that takes a numerical string as input and convert it into an integer. perform arithmetic operstions on the integer and print the result."
   ]
  },
  {
   "cell_type": "code",
   "execution_count": 5,
   "id": "1d58a075",
   "metadata": {},
   "outputs": [
    {
     "name": "stdout",
     "output_type": "stream",
     "text": [
      "12\n",
      "13\n",
      "Arithmetic operation: \n",
      "Addition is: 25\n",
      "Substraction is: -1\n",
      "Multiplication is: 156\n",
      "Division is: 0.9230769230769231\n"
     ]
    }
   ],
   "source": [
    "string1=\"12\"\n",
    "string2=\"13\"\n",
    "a=int(string1)\n",
    "b=int(string2)\n",
    "print(a)\n",
    "print(b)\n",
    "print(\"Arithmetic operation: \")\n",
    "y=a+b\n",
    "print(\"Addition is:\",y)\n",
    "y=a-b\n",
    "print(\"Substraction is:\",y)\n",
    "y=a*b\n",
    "print(\"Multiplication is:\",y)\n",
    "y=a/b\n",
    "print(\"Division is:\",y)"
   ]
  },
  {
   "cell_type": "markdown",
   "id": "71a08bb1",
   "metadata": {},
   "source": [
    "## 13.Write a program that takes an integer as inpute and converts it into a string the ,concentenatenate it with another string and print the result. "
   ]
  },
  {
   "cell_type": "code",
   "execution_count": 41,
   "id": "40ad9ffd",
   "metadata": {},
   "outputs": [
    {
     "name": "stdout",
     "output_type": "stream",
     "text": [
      "123456\n"
     ]
    }
   ],
   "source": [
    "int1=123\n",
    "str1=str(int1)\n",
    "str2=\"456\"\n",
    "sum1=str1+str2\n",
    "print(sum1)"
   ]
  },
  {
   "cell_type": "markdown",
   "id": "31ef5a04",
   "metadata": {},
   "source": [
    "## 14.Create a program that takes a string and a character as input use the in and not in operators to check if the character in the string and print result"
   ]
  },
  {
   "cell_type": "code",
   "execution_count": 17,
   "id": "1cd892ad",
   "metadata": {},
   "outputs": [
    {
     "data": {
      "text/plain": [
       "True"
      ]
     },
     "execution_count": 17,
     "metadata": {},
     "output_type": "execute_result"
    }
   ],
   "source": [
    "string_1=\"Python\"\n",
    "string_1 in \"Python full stack development\""
   ]
  },
  {
   "cell_type": "code",
   "execution_count": 18,
   "id": "a41daa2b",
   "metadata": {},
   "outputs": [
    {
     "data": {
      "text/plain": [
       "False"
      ]
     },
     "execution_count": 18,
     "metadata": {},
     "output_type": "execute_result"
    }
   ],
   "source": [
    "string_1=\"Python\"\n",
    "string_1 not in \"Python full stack development\""
   ]
  },
  {
   "cell_type": "markdown",
   "id": "3807ef1e",
   "metadata": {},
   "source": [
    "## 15.create a program that takes the base and height of a triangle as input and calulates its area(1/2*base * height)"
   ]
  },
  {
   "cell_type": "code",
   "execution_count": 20,
   "id": "57842c3a",
   "metadata": {},
   "outputs": [
    {
     "name": "stdout",
     "output_type": "stream",
     "text": [
      "Area of triangle: 90.0\n"
     ]
    }
   ],
   "source": [
    "height=12\n",
    "base=15\n",
    "area_of_triangle=1/2*base*height\n",
    "print(\"Area of triangle:\",area_of_triangle)"
   ]
  },
  {
   "cell_type": "code",
   "execution_count": 21,
   "id": "3be7c1f6",
   "metadata": {},
   "outputs": [
    {
     "data": {
      "text/plain": [
       "90.0"
      ]
     },
     "execution_count": 21,
     "metadata": {},
     "output_type": "execute_result"
    }
   ],
   "source": [
    "1/2*12*15"
   ]
  },
  {
   "cell_type": "markdown",
   "id": "215c69c0",
   "metadata": {},
   "source": [
    "## 16. Given a tuple(3,7,2,7,1), how many times does the number 7 appear?"
   ]
  },
  {
   "cell_type": "code",
   "execution_count": 23,
   "id": "b0c7ba55",
   "metadata": {},
   "outputs": [
    {
     "name": "stdout",
     "output_type": "stream",
     "text": [
      "(3, 7, 2, 7, 1)\n"
     ]
    },
    {
     "data": {
      "text/plain": [
       "2"
      ]
     },
     "execution_count": 23,
     "metadata": {},
     "output_type": "execute_result"
    }
   ],
   "source": [
    "tuple1=(3,7,2,7,1)\n",
    "print(tuple1)\n",
    "tuple1.count(7)"
   ]
  },
  {
   "cell_type": "markdown",
   "id": "34cee970",
   "metadata": {},
   "source": [
    "## 17.Create two tuples:one with the number 1 through 5 and another with the same numbers in reverse number order . then. concatenate these tuples."
   ]
  },
  {
   "cell_type": "code",
   "execution_count": 42,
   "id": "1ed83a4c",
   "metadata": {},
   "outputs": [
    {
     "name": "stdout",
     "output_type": "stream",
     "text": [
      "(1, 2, 3, 4, 5, 5, 4, 3, 2, 1)\n"
     ]
    }
   ],
   "source": [
    "tuple1=(1,2,3,4,5)\n",
    "tuple2=(5,4,3,2,1)\n",
    "sum1=tuple1+tuple2\n",
    "print(sum1)"
   ]
  },
  {
   "cell_type": "markdown",
   "id": "3d8faec5",
   "metadata": {},
   "source": [
    "## 18.Using the count() function find out how many times the letter \"a \" appears in the string \"banana\""
   ]
  },
  {
   "cell_type": "code",
   "execution_count": 26,
   "id": "17d210b9",
   "metadata": {},
   "outputs": [
    {
     "data": {
      "text/plain": [
       "3"
      ]
     },
     "execution_count": 26,
     "metadata": {},
     "output_type": "execute_result"
    }
   ],
   "source": [
    "string1=\"banana\"\n",
    "string1.count(\"a\")\n"
   ]
  },
  {
   "cell_type": "markdown",
   "id": "894b7283",
   "metadata": {},
   "source": [
    "## 19.create a list grade=[87,92,78,95,88] and modify the second element to be 90."
   ]
  },
  {
   "cell_type": "code",
   "execution_count": 33,
   "id": "d4762346",
   "metadata": {},
   "outputs": [
    {
     "name": "stdout",
     "output_type": "stream",
     "text": [
      "[87, 92, 78, 95, 88]\n",
      "[87, 90, 78, 95, 88]\n"
     ]
    }
   ],
   "source": [
    "grade=[87,92,78,95,88] \n",
    "print(grade)\n",
    "grade[1]=90\n",
    "print(grade)"
   ]
  },
  {
   "cell_type": "markdown",
   "id": "fa7883f8",
   "metadata": {},
   "source": [
    "## 20. write a program that takes a number as input and print its square and cube."
   ]
  },
  {
   "cell_type": "code",
   "execution_count": 38,
   "id": "43ab0cdc",
   "metadata": {},
   "outputs": [
    {
     "name": "stdout",
     "output_type": "stream",
     "text": [
      "square is: 25\n"
     ]
    }
   ],
   "source": [
    "a=5\n",
    "b=a**2\n",
    "print(\"square is:\",b)"
   ]
  },
  {
   "cell_type": "code",
   "execution_count": 40,
   "id": "f8d0a52a",
   "metadata": {},
   "outputs": [
    {
     "name": "stdout",
     "output_type": "stream",
     "text": [
      "Cube is: 125\n"
     ]
    }
   ],
   "source": [
    "c=a**3\n",
    "print(\"Cube is:\",c)"
   ]
  },
  {
   "cell_type": "code",
   "execution_count": null,
   "id": "8300a008",
   "metadata": {},
   "outputs": [],
   "source": []
  }
 ],
 "metadata": {
  "kernelspec": {
   "display_name": "Python 3 (ipykernel)",
   "language": "python",
   "name": "python3"
  },
  "language_info": {
   "codemirror_mode": {
    "name": "ipython",
    "version": 3
   },
   "file_extension": ".py",
   "mimetype": "text/x-python",
   "name": "python",
   "nbconvert_exporter": "python",
   "pygments_lexer": "ipython3",
   "version": "3.11.4"
  }
 },
 "nbformat": 4,
 "nbformat_minor": 5
}
