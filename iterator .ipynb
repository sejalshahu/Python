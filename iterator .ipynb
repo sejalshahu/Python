{
 "cells": [
  {
   "cell_type": "markdown",
   "id": "806283c2",
   "metadata": {},
   "source": [
    "### iterator,generator and decorator"
   ]
  },
  {
   "cell_type": "markdown",
   "id": "49ff1d02",
   "metadata": {},
   "source": [
    "### What is an Iteration\n",
    "Iteration is a general term for taking each item of something, one after another. Any time you use a loop,\n",
    "explicit or implicit, to go over a group of items, that is iteration."
   ]
  },
  {
   "cell_type": "code",
   "execution_count": 1,
   "id": "b03bfcd8",
   "metadata": {},
   "outputs": [
    {
     "name": "stdout",
     "output_type": "stream",
     "text": [
      "1\n",
      "2\n",
      "3\n"
     ]
    }
   ],
   "source": [
    "# Example\n",
    "num=[1,2,3]\n",
    "for i in num:\n",
    "    print(i)"
   ]
  },
  {
   "cell_type": "markdown",
   "id": "9139987a",
   "metadata": {},
   "source": [
    "### Iterable Objects"
   ]
  },
  {
   "cell_type": "code",
   "execution_count": 4,
   "id": "0930905f",
   "metadata": {},
   "outputs": [
    {
     "ename": "SyntaxError",
     "evalue": "invalid syntax (1624565147.py, line 1)",
     "output_type": "error",
     "traceback": [
      "\u001b[1;36m  Cell \u001b[1;32mIn[4], line 1\u001b[1;36m\u001b[0m\n\u001b[1;33m    int is not an iterable object\u001b[0m\n\u001b[1;37m                  ^\u001b[0m\n\u001b[1;31mSyntaxError\u001b[0m\u001b[1;31m:\u001b[0m invalid syntax\n"
     ]
    }
   ],
   "source": [
    "int is not an iterable object\n",
    "x=123\n",
    "for i in x:\n",
    "    print(i)"
   ]
  },
  {
   "cell_type": "code",
   "execution_count": null,
   "id": "4036aa77",
   "metadata": {},
   "outputs": [],
   "source": [
    "tuple\n",
    "list\n",
    "dict\n",
    "string\n",
    "s=\"sejal\""
   ]
  },
  {
   "cell_type": "code",
   "execution_count": 5,
   "id": "2857b21a",
   "metadata": {},
   "outputs": [],
   "source": [
    "l=[1,2,3,4]"
   ]
  },
  {
   "cell_type": "markdown",
   "id": "d9fc0e7d",
   "metadata": {},
   "source": [
    "### What is Iterator\n",
    "An Iterator is an object that allows the programmer to traverse through a sequence of data without having to store the\n",
    "entire data in the memory"
   ]
  },
  {
   "cell_type": "code",
   "execution_count": 8,
   "id": "266cb8e4",
   "metadata": {},
   "outputs": [
    {
     "data": {
      "text/plain": [
       "[1, 2, 3, 4, 5, 6, 7, 8, 9]"
      ]
     },
     "execution_count": 8,
     "metadata": {},
     "output_type": "execute_result"
    }
   ],
   "source": [
    "#without list comprehension\n",
    "l=[]\n",
    "for i in range(1,10):\n",
    "    l.append(i)\n",
    "l"
   ]
  },
  {
   "cell_type": "code",
   "execution_count": 10,
   "id": "53ba1438",
   "metadata": {},
   "outputs": [
    {
     "data": {
      "text/plain": [
       "[1, 2, 3, 4, 5, 6, 7, 8, 9]"
      ]
     },
     "execution_count": 10,
     "metadata": {},
     "output_type": "execute_result"
    }
   ],
   "source": [
    "#with list comprehension\n",
    "l=[x for x in range(1,10)]\n",
    "l"
   ]
  },
  {
   "cell_type": "code",
   "execution_count": 18,
   "id": "68a2ee3e",
   "metadata": {},
   "outputs": [],
   "source": [
    "#example\n",
    "l=[x for x in range(1,100)]\n",
    "# for i in l:\n",
    "#     print(i**2)"
   ]
  },
  {
   "cell_type": "code",
   "execution_count": 14,
   "id": "90faa7fc",
   "metadata": {},
   "outputs": [
    {
     "name": "stdout",
     "output_type": "stream",
     "text": [
      "size of l in bytes: 920\n",
      "size of l i mbs: 14.375\n"
     ]
    }
   ],
   "source": [
    "import sys\n",
    "#get the size of l in bytes\n",
    "print(\"size of l in bytes:\",sys.getsizeof(l))\n",
    "#if wants in kb divide by 8 and if mb divide by 64\n",
    "print(\"size of l i mbs:\",sys.getsizeof(l)/64)"
   ]
  },
  {
   "cell_type": "code",
   "execution_count": 16,
   "id": "54f33355",
   "metadata": {},
   "outputs": [
    {
     "name": "stdout",
     "output_type": "stream",
     "text": [
      "size of l in bytes: 920\n",
      "size of l i mbs: 14.375\n"
     ]
    }
   ],
   "source": [
    "x=range(1,100000)\n",
    "# for i in x:\n",
    "#     print(i**2)\n",
    "    \n",
    "#get the size of l in bytes\n",
    "print(\"size of l in bytes:\",sys.getsizeof(l))\n",
    "#if wants in kb divide by 8 and if mb divide by 64\n",
    "print(\"size of l i mbs:\",sys.getsizeof(l)/64)"
   ]
  },
  {
   "cell_type": "code",
   "execution_count": 17,
   "id": "334526e1",
   "metadata": {},
   "outputs": [
    {
     "data": {
      "text/plain": [
       "range(1, 100000)"
      ]
     },
     "execution_count": 17,
     "metadata": {},
     "output_type": "execute_result"
    }
   ],
   "source": [
    "x"
   ]
  },
  {
   "cell_type": "markdown",
   "id": "a64f0000",
   "metadata": {},
   "source": [
    "##### Here x has not stored all the items at a time .it stored single value and then did suare and then erase that value ,took 2nd values and so on.."
   ]
  },
  {
   "cell_type": "code",
   "execution_count": null,
   "id": "07bef19e",
   "metadata": {},
   "outputs": [],
   "source": [
    "l=[x for in range(1,1000000)]\n"
   ]
  }
 ],
 "metadata": {
  "kernelspec": {
   "display_name": "Python 3 (ipykernel)",
   "language": "python",
   "name": "python3"
  },
  "language_info": {
   "codemirror_mode": {
    "name": "ipython",
    "version": 3
   },
   "file_extension": ".py",
   "mimetype": "text/x-python",
   "name": "python",
   "nbconvert_exporter": "python",
   "pygments_lexer": "ipython3",
   "version": "3.11.5"
  }
 },
 "nbformat": 4,
 "nbformat_minor": 5
}
