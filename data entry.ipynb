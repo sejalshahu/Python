{
 "cells": [
  {
   "cell_type": "markdown",
   "id": "eca64c8e",
   "metadata": {},
   "source": [
    "# Date Entry"
   ]
  },
  {
   "cell_type": "code",
   "execution_count": 11,
   "id": "d17261ab",
   "metadata": {},
   "outputs": [],
   "source": [
    "import csv"
   ]
  },
  {
   "cell_type": "code",
   "execution_count": 12,
   "id": "f89d4b67",
   "metadata": {},
   "outputs": [],
   "source": [
    "fieldname=[\"Name\",\"Age\",\"Mobile No\",\"Gender\"]\n",
    "file=open(r\"C:\\Users\\admin\\Desktop\\DATA ENTRY.csv\",\"w\")"
   ]
  },
  {
   "cell_type": "code",
   "execution_count": 13,
   "id": "2ebbbdf7",
   "metadata": {},
   "outputs": [],
   "source": [
    "writer=csv.writer(file)"
   ]
  },
  {
   "cell_type": "code",
   "execution_count": 14,
   "id": "b2c93d38",
   "metadata": {},
   "outputs": [
    {
     "data": {
      "text/plain": [
       "27"
      ]
     },
     "execution_count": 14,
     "metadata": {},
     "output_type": "execute_result"
    }
   ],
   "source": [
    "writer.writerow(fieldname) #writerows"
   ]
  },
  {
   "cell_type": "code",
   "execution_count": 15,
   "id": "2289e62a",
   "metadata": {},
   "outputs": [],
   "source": [
    "file.close()"
   ]
  },
  {
   "cell_type": "markdown",
   "id": "951dd338",
   "metadata": {},
   "source": [
    "## Lest Start"
   ]
  },
  {
   "cell_type": "code",
   "execution_count": 29,
   "id": "bbdf6ebd",
   "metadata": {},
   "outputs": [],
   "source": [
    "from csv import *"
   ]
  },
  {
   "cell_type": "code",
   "execution_count": 30,
   "id": "c13eb9d5",
   "metadata": {},
   "outputs": [],
   "source": [
    "from tkinter import *"
   ]
  },
  {
   "cell_type": "code",
   "execution_count": 31,
   "id": "3fb88604",
   "metadata": {},
   "outputs": [],
   "source": [
    "window=Tk()\n",
    "window.title(\"Data Entry\")\n",
    "from tkinter import messagebox"
   ]
  },
  {
   "cell_type": "markdown",
   "id": "3b34a227",
   "metadata": {},
   "source": [
    "## creating 4 labels"
   ]
  },
  {
   "cell_type": "code",
   "execution_count": 32,
   "id": "1ca9ed8e",
   "metadata": {},
   "outputs": [],
   "source": [
    "with open(r\"C:\\Users\\admin\\Desktop\\DATA ENTRY1.csv\",\"w\") as file:\n",
    "        Writer=writer(file)\n",
    "        Writer.writerow([\"Name\",\"Age\",\"Contact No\",\"Gender\",\"City\"])\n"
   ]
  },
  {
   "cell_type": "code",
   "execution_count": 33,
   "id": "4ba70540",
   "metadata": {},
   "outputs": [],
   "source": [
    "\"\"\"[[\"sejal\",21,345346556,\"F\"],[\"kajal\",18,245643221,\"F\"]]\"\"\"\n",
    "mainlist=[]\n",
    "def Add():\n",
    "    temp_list=[entry1.get(),entry2.get(),entry3.get(),entry4.get(),entry5.get()]\n",
    "    mainlist.append(temp_list)\n",
    "    messagebox.showinfo(\"info\",\"data added successfully\")"
   ]
  },
  {
   "cell_type": "code",
   "execution_count": 34,
   "id": "ff0374dd",
   "metadata": {},
   "outputs": [],
   "source": [
    "def Save():\n",
    "    with open(r\"C:\\Users\\admin\\Desktop\\DATA ENTRY1.csv\",\"a\") as file:\n",
    "        Writer=writer(file)\n",
    "        Writer.writerows(mainlist)\n",
    "        messagebox.showinfo(\"info\",\"data saved successfully\")"
   ]
  },
  {
   "cell_type": "code",
   "execution_count": 35,
   "id": "1732ebbb",
   "metadata": {},
   "outputs": [],
   "source": [
    "def Clear():\n",
    "    entry1.delete(0,END)\n",
    "    entry2.delete(0,END)\n",
    "    entry3.delete(0,END)\n",
    "    entry4.delete(0,END)\n",
    "    entry5.delete(0,END)"
   ]
  },
  {
   "cell_type": "code",
   "execution_count": 36,
   "id": "3155dd85",
   "metadata": {},
   "outputs": [],
   "source": [
    "label1=Label(window,text=\"Name:\",padx=20,pady=20)\n",
    "label2=Label(window,text=\"Age\",padx=20,pady=20)\n",
    "label3=Label(window,text=\"Contact no\",padx=20,pady=20)\n",
    "label4=Label(window,text=\"Gender:\",padx=20,pady=20)\n",
    "label5=Label(window,text=\"City:\",padx=20,pady=20)"
   ]
  },
  {
   "cell_type": "code",
   "execution_count": 37,
   "id": "159e70fb",
   "metadata": {},
   "outputs": [],
   "source": [
    "entry1=Entry(window,width=30,borderwidth=5)\n",
    "entry2=Entry(window,width=30,borderwidth=5)\n",
    "\n",
    "entry3=Entry(window,width=30,borderwidth=5)\n",
    "entry4=Entry(window,width=30,borderwidth=5)\n",
    "entry5=Entry(window,width=30,borderwidth=5)\n"
   ]
  },
  {
   "cell_type": "code",
   "execution_count": 38,
   "id": "9f6fe0a8",
   "metadata": {},
   "outputs": [],
   "source": [
    "add=Button(window,text=\"Add\",padx=20,pady=20,command=Add)\n",
    "save=Button(window,text=\"Save\",padx=20,pady=20,command=Save)\n",
    "clear=Button(window,text=\"Clear\",padx=20,pady=20,command=Clear)\n",
    "exit=Button(window,text=\"Exit\",padx=20,pady=20,command=window.quit)"
   ]
  },
  {
   "cell_type": "code",
   "execution_count": 39,
   "id": "543f039c",
   "metadata": {},
   "outputs": [],
   "source": [
    "label1.grid(row=0,column=0)\n",
    "label2.grid(row=1,column=0)\n",
    "label3.grid(row=2,column=0)\n",
    "label4.grid(row=3,column=0)\n",
    "label5.grid(row=4,column=0)\n",
    "entry1.grid(row=0,column=1)\n",
    "entry2.grid(row=1,column=1)\n",
    "entry3.grid(row=2,column=1)\n",
    "entry4.grid(row=3,column=1)\n",
    "entry5.grid(row=4,column=1)"
   ]
  },
  {
   "cell_type": "code",
   "execution_count": 40,
   "id": "bd2449db",
   "metadata": {},
   "outputs": [],
   "source": [
    "add.grid(row=5,column=0)\n",
    "save.grid(row=5,column=1)\n",
    "clear.grid(row=5,column=2)\n",
    "exit.grid(row=5,column=3)"
   ]
  },
  {
   "cell_type": "code",
   "execution_count": null,
   "id": "eee4f2c4",
   "metadata": {},
   "outputs": [],
   "source": [
    "window.mainloop()"
   ]
  },
  {
   "cell_type": "code",
   "execution_count": null,
   "id": "357dc029",
   "metadata": {},
   "outputs": [],
   "source": []
  },
  {
   "cell_type": "code",
   "execution_count": null,
   "id": "f96d29fa",
   "metadata": {},
   "outputs": [],
   "source": []
  },
  {
   "cell_type": "code",
   "execution_count": null,
   "id": "d83762f2",
   "metadata": {},
   "outputs": [],
   "source": []
  },
  {
   "cell_type": "code",
   "execution_count": null,
   "id": "ba64ffde",
   "metadata": {},
   "outputs": [],
   "source": []
  },
  {
   "cell_type": "code",
   "execution_count": null,
   "id": "01878ac9",
   "metadata": {},
   "outputs": [],
   "source": []
  }
 ],
 "metadata": {
  "kernelspec": {
   "display_name": "Python 3 (ipykernel)",
   "language": "python",
   "name": "python3"
  },
  "language_info": {
   "codemirror_mode": {
    "name": "ipython",
    "version": 3
   },
   "file_extension": ".py",
   "mimetype": "text/x-python",
   "name": "python",
   "nbconvert_exporter": "python",
   "pygments_lexer": "ipython3",
   "version": "3.11.4"
  }
 },
 "nbformat": 4,
 "nbformat_minor": 5
}
