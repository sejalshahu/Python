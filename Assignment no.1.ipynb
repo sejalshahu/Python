{
 "cells": [
  {
   "cell_type": "markdown",
   "id": "38958d50",
   "metadata": {},
   "source": [
    "### Write a Python program to calculate the length of a string."
   ]
  },
  {
   "cell_type": "code",
   "execution_count": 2,
   "id": "a1ccb40d",
   "metadata": {},
   "outputs": [
    {
     "name": "stdout",
     "output_type": "stream",
     "text": [
      "Calculate the length of a string: 12\n"
     ]
    }
   ],
   "source": [
    "s=\"hello python\"\n",
    "print(\"Calculate the length of a string:\",len(s))"
   ]
  },
  {
   "cell_type": "markdown",
   "id": "5580c13d",
   "metadata": {},
   "source": [
    "### 8.Write a program that takes string as input and calculate its input length using len() function. print the length.\n"
   ]
  },
  {
   "cell_type": "code",
   "execution_count": 2,
   "id": "e6c4bd2d",
   "metadata": {},
   "outputs": [
    {
     "name": "stdout",
     "output_type": "stream",
     "text": [
      "35\n"
     ]
    }
   ],
   "source": [
    "s=(\"python is easy programming language\")\n",
    "print(len(s))"
   ]
  },
  {
   "cell_type": "code",
   "execution_count": null,
   "id": "969ffc1e",
   "metadata": {},
   "outputs": [],
   "source": []
  }
 ],
 "metadata": {
  "kernelspec": {
   "display_name": "Python 3 (ipykernel)",
   "language": "python",
   "name": "python3"
  },
  "language_info": {
   "codemirror_mode": {
    "name": "ipython",
    "version": 3
   },
   "file_extension": ".py",
   "mimetype": "text/x-python",
   "name": "python",
   "nbconvert_exporter": "python",
   "pygments_lexer": "ipython3",
   "version": "3.11.4"
  }
 },
 "nbformat": 4,
 "nbformat_minor": 5
}
