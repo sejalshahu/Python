{
 "cells": [
  {
   "cell_type": "code",
   "execution_count": 1,
   "id": "b0e50022",
   "metadata": {},
   "outputs": [
    {
     "data": {
      "text/plain": [
       "12"
      ]
     },
     "execution_count": 1,
     "metadata": {},
     "output_type": "execute_result"
    }
   ],
   "source": [
    "text=\"Hello world!\"\n",
    "len(text)"
   ]
  },
  {
   "cell_type": "code",
   "execution_count": 2,
   "id": "f56c5374",
   "metadata": {},
   "outputs": [
    {
     "data": {
      "text/plain": [
       "'I AM LEARNING PYTHON PROGRAMMING'"
      ]
     },
     "execution_count": 2,
     "metadata": {},
     "output_type": "execute_result"
    }
   ],
   "source": [
    "text1=\"i am learning python programming\"\n",
    "text1.upper()"
   ]
  },
  {
   "cell_type": "code",
   "execution_count": 3,
   "id": "8d588638",
   "metadata": {},
   "outputs": [
    {
     "data": {
      "text/plain": [
       "3"
      ]
     },
     "execution_count": 3,
     "metadata": {},
     "output_type": "execute_result"
    }
   ],
   "source": [
    "s1=\"banana\"\n",
    "s1.count('a')"
   ]
  },
  {
   "cell_type": "code",
   "execution_count": 18,
   "id": "87a3cbe0",
   "metadata": {},
   "outputs": [
    {
     "data": {
      "text/plain": [
       "'Welcome to python!'"
      ]
     },
     "execution_count": 18,
     "metadata": {},
     "output_type": "execute_result"
    }
   ],
   "source": [
    "s=\"   Welcome to python!   \"\n",
    "s.strip()"
   ]
  },
  {
   "cell_type": "code",
   "execution_count": 7,
   "id": "8e70901c",
   "metadata": {},
   "outputs": [
    {
     "data": {
      "text/plain": [
       "'excellent'"
      ]
     },
     "execution_count": 7,
     "metadata": {},
     "output_type": "execute_result"
    }
   ],
   "source": [
    "text_2=\"excellent\"\n",
    "text_2.replace('cent','cell')"
   ]
  },
  {
   "cell_type": "code",
   "execution_count": 19,
   "id": "1aec5aa2",
   "metadata": {},
   "outputs": [
    {
     "data": {
      "text/plain": [
       "40"
      ]
     },
     "execution_count": 19,
     "metadata": {},
     "output_type": "execute_result"
    }
   ],
   "source": [
    "text=\"The quick brown for jumps over the lazy dog.\"\n",
    "text.find(\"dog\")"
   ]
  },
  {
   "cell_type": "code",
   "execution_count": 25,
   "id": "145b7dbb",
   "metadata": {},
   "outputs": [
    {
     "data": {
      "text/plain": [
       "['one,two,three,four,five']"
      ]
     },
     "execution_count": 25,
     "metadata": {},
     "output_type": "execute_result"
    }
   ],
   "source": [
    "string1=\" one,two,three,four,five\"\n",
    "string1.split()"
   ]
  },
  {
   "cell_type": "code",
   "execution_count": null,
   "id": "209ba800",
   "metadata": {},
   "outputs": [],
   "source": [
    "s1="
   ]
  }
 ],
 "metadata": {
  "kernelspec": {
   "display_name": "Python 3 (ipykernel)",
   "language": "python",
   "name": "python3"
  },
  "language_info": {
   "codemirror_mode": {
    "name": "ipython",
    "version": 3
   },
   "file_extension": ".py",
   "mimetype": "text/x-python",
   "name": "python",
   "nbconvert_exporter": "python",
   "pygments_lexer": "ipython3",
   "version": "3.11.4"
  }
 },
 "nbformat": 4,
 "nbformat_minor": 5
}
